{
  "cells": [
    {
      "cell_type": "markdown",
      "metadata": {
        "papermill": {
          "duration": 0.022087,
          "end_time": "2023-02-06T20:15:13.557824",
          "exception": false,
          "start_time": "2023-02-06T20:15:13.535737",
          "status": "completed"
        },
        "tags": [],
        "id": "HKcUzs3gq4nq"
      },
      "source": [
        "# TextRank\n",
        "**TextRank** algorithm has its own advantages and disadvantages. Here are some of the pros and cons:\n",
        "\n",
        "### Pros:\n",
        "\n",
        "* Automatic: Text summarization using TextRank is an automatic process that does not require human intervention. It can summarize large amounts of text in a very short period of time.\n",
        "\n",
        "* Unbiased: TextRank algorithm is unbiased and does not take into account the author's opinion or perspective while summarizing the text. It summarizes the text based on the frequency of the most important keywords.\n",
        "\n",
        "* Saves time: Text summarization using TextRank saves time and effort. It can quickly provide a summary of the main points of a large text without having to read the entire document.\n",
        "\n",
        "* Consistency: TextRank algorithm provides consistent summaries every time. The algorithm uses a fixed set of rules to summarize the text and does not get influenced by external factors.\n",
        "\n",
        "* Customizable: TextRank algorithm can be customized to suit specific needs. The algorithm can be modified to prioritize certain keywords or phrases to provide a more targeted summary.\n",
        "\n",
        "### Cons:\n",
        "\n",
        "* Limited context: TextRank algorithm focuses on the most important keywords and may miss out on important context that is not captured by those keywords.\n",
        "\n",
        "* Limited accuracy: TextRank algorithm may not provide accurate summaries if the text is poorly written or has grammatical errors.\n",
        "\n",
        "* Limited understanding: TextRank algorithm lacks human-like understanding of the text. It may not understand the nuances of language, sarcasm, or irony, which can affect the accuracy of the summary.\n",
        "\n",
        "* Limited coverage: TextRank algorithm may not be able to summarize all types of text. It is more effective for summarizing factual texts such as news articles or scientific papers.\n",
        "\n",
        "* Limited creativity: TextRank algorithm cannot provide creative summaries that are outside the scope of the text. It can only summarize what is already present in the text.\n",
        "\n",
        "These are the scores we achieved:\n",
        "\n",
        "      ROUGE Score:\n",
        "      Precision: 1.00\n",
        "      Recall: 0.41\n",
        "      F1-Score: 0.59\n",
        "\n",
        "      BLEU Score: 0.69\n",
        "\n",
        "## References\n",
        "Here are a few research papers on text summarization using TextRank:\n",
        "\n",
        "1. \"TextRank: Bringing Order into Texts\" by Rada Mihalcea and Paul Tarau (2004)\n",
        "This paper introduced the TextRank algorithm, which is a graph-based ranking algorithm for text summarization. The authors applied TextRank to several datasets and demonstrated its effectiveness in producing high-quality summaries.\n",
        "\n",
        "2. \"A Comparative Study of Text Summarization Techniques\" by G. Pandey and P. Pal (2007)\n",
        "This paper compares various text summarization techniques, including TextRank, and evaluates their effectiveness on different types of datasets. The authors found that TextRank outperformed other techniques in terms of precision and recall.\n",
        "\n",
        "3. \"An Improved TextRank Algorithm for Text Summarization\" by X. Wu et al. (2018)\n",
        "This paper proposes an improved version of TextRank for text summarization that takes into account sentence length and position in the text. The authors evaluated the effectiveness of the improved TextRank on several datasets and found that it outperformed the original TextRank algorithm.\n",
        "\n",
        "4. \"Text Summarization Using TextRank and Latent Semantic Analysis\" by K. Murthy et al. (2020)\n",
        "This paper combines TextRank with Latent Semantic Analysis (LSA) for text summarization and evaluates its effectiveness on several datasets. The authors found that the combination of TextRank and LSA produced higher-quality summaries than either technique alone.\n",
        "\n",
        "\n",
        "\n",
        "\n",
        "\n",
        "\n",
        "\n",
        " \n",
        "\n",
        " \n"
      ]
    },
    {
      "cell_type": "code",
      "execution_count": 26,
      "metadata": {
        "_cell_guid": "b1076dfc-b9ad-4769-8c92-a6c4dae69d19",
        "_uuid": "8f2839f25d086af736a60e9eeb907d3b93b6e0e5",
        "execution": {
          "iopub.execute_input": "2023-02-06T20:15:13.646002Z",
          "iopub.status.busy": "2023-02-06T20:15:13.645180Z",
          "iopub.status.idle": "2023-02-06T20:15:15.323507Z",
          "shell.execute_reply": "2023-02-06T20:15:15.322719Z",
          "shell.execute_reply.started": "2023-02-06T18:58:15.631794Z"
        },
        "papermill": {
          "duration": 1.702261,
          "end_time": "2023-02-06T20:15:15.323789",
          "exception": false,
          "start_time": "2023-02-06T20:15:13.621528",
          "status": "completed"
        },
        "tags": [],
        "id": "9XgO2uq3q4nv"
      },
      "outputs": [],
      "source": [
        "import nltk\n",
        "from nltk.tokenize import sent_tokenize, word_tokenize\n",
        "from nltk.corpus import stopwords\n",
        "from string import punctuation\n",
        "from collections import defaultdict\n"
      ]
    },
    {
      "cell_type": "code",
      "source": [
        "import nltk\n",
        "nltk.download('punkt')\n",
        "nltk.download('stopwords')"
      ],
      "metadata": {
        "id": "TvCtAPTlumfw",
        "outputId": "995a7cff-d17f-4179-e7d3-0d541af07751",
        "colab": {
          "base_uri": "https://localhost:8080/"
        }
      },
      "execution_count": 27,
      "outputs": [
        {
          "output_type": "stream",
          "name": "stderr",
          "text": [
            "[nltk_data] Downloading package punkt to /root/nltk_data...\n",
            "[nltk_data]   Package punkt is already up-to-date!\n",
            "[nltk_data] Downloading package stopwords to /root/nltk_data...\n",
            "[nltk_data]   Package stopwords is already up-to-date!\n"
          ]
        },
        {
          "output_type": "execute_result",
          "data": {
            "text/plain": [
              "True"
            ]
          },
          "metadata": {},
          "execution_count": 27
        }
      ]
    },
    {
      "cell_type": "code",
      "source": [
        "def calculate_similarity(s1, s2):\n",
        "    \"\"\"\n",
        "    Calculates the similarity between two sentences based on the overlap of their words.\n",
        "    \"\"\"\n",
        "    s1 = set(s1)\n",
        "    s2 = set(s2)\n",
        "    overlap = len(s1.intersection(s2))\n",
        "    return overlap / (len(s1) + len(s2))\n",
        "\n",
        "def summarize(text, num_sentences=3):\n",
        "    \"\"\"\n",
        "    Summarizes the given text using the TextRank algorithm.\n",
        "    \"\"\"\n",
        "    # Tokenize the text into sentences and words\n",
        "    sentences = sent_tokenize(text)\n",
        "    words = [word_tokenize(sentence.lower()) for sentence in sentences]\n",
        "\n",
        "    # Remove stopwords and punctuation\n",
        "    stop_words = set(stopwords.words('english') + list(punctuation))\n",
        "    filtered_words = [[word for word in sentence if word not in stop_words] for sentence in words]\n",
        "\n",
        "    # Create a dictionary to hold the word frequencies\n",
        "    word_freq = defaultdict(int)\n",
        "    for sentence in filtered_words:\n",
        "        for word in sentence:\n",
        "            word_freq[word] += 1\n",
        "\n",
        "    # Calculate the sentence scores based on word frequencies and similarity\n",
        "    sentence_scores = defaultdict(int)\n",
        "    for i, sentence in enumerate(filtered_words):\n",
        "        for word in sentence:\n",
        "            sentence_scores[i] += word_freq[word] / sum(word_freq.values())\n",
        "    for i, sentence in enumerate(filtered_words):\n",
        "        for j, other_sentence in enumerate(filtered_words):\n",
        "            if i == j:\n",
        "                continue\n",
        "            similarity = calculate_similarity(sentence, other_sentence)\n",
        "            sentence_scores[i] += similarity\n",
        "\n",
        "    # Sort the sentences by score and select the top ones\n",
        "    top_sentences = sorted(sentence_scores.items(), key=lambda x: x[1], reverse=True)[:num_sentences]\n",
        "    top_sentences = [sentences[i] for i, score in top_sentences]\n",
        "\n",
        "    # Combine the top sentences into a summary\n",
        "    summary = ' '.join(top_sentences)\n",
        "\n",
        "    return summary"
      ],
      "metadata": {
        "id": "Qmi5sZmDt5Ls"
      },
      "execution_count": 28,
      "outputs": []
    },
    {
      "cell_type": "code",
      "source": [
        "article = \"\"\"\n",
        "India's Health Ministry has announced that the country's COVID-19 vaccination drive will now be expanded to include people over the age of 60 and those over 45 with co-morbidities. The move is expected to cover an additional 270 million people, making it one of the largest vaccination drives in the world.The decision was taken after a meeting of the National Expert Group on Vaccine Administration for COVID-19 (NEGVAC), which recommended the expansion of the vaccination program. The NEGVAC also suggested that private hospitals may be allowed to administer the vaccine, although the details of this are yet to be finalized.India began its vaccination drive in mid-January, starting with healthcare and frontline workers. Since then, over 13 million doses have been administered across the country. However, the pace of the vaccination drive has been slower than expected, with concerns raised over vaccine hesitancy and logistical challenges.The expansion of the vaccination drive to include the elderly and those with co-morbidities is a major step towards achieving herd immunity and controlling the spread of the virus in India. The Health Ministry has also urged eligible individuals to come forward and get vaccinated at the earliest.India has reported over 11 million cases of COVID-19, making it the second-worst affected country in the world after the United States. The country's daily case count has been declining in recent weeks, but experts have warned that the pandemic is far from over and that precautions need to be maintained.\n",
        "In summary, India's Health Ministry has announced that the country's COVID-19 vaccination drive will be expanded to include people over 60 and those over 45 with co-morbidities, covering an additional 270 million people. The decision was taken after a meeting of the National Expert Group on Vaccine Administration for COVID-19, and is a major step towards achieving herd immunity and controlling the spread of the virus in India.\n",
        "\"\"\""
      ],
      "metadata": {
        "id": "v2bxfHSFrmUU"
      },
      "execution_count": 29,
      "outputs": []
    },
    {
      "cell_type": "code",
      "execution_count": 24,
      "metadata": {
        "execution": {
          "iopub.execute_input": "2023-02-06T20:15:39.724629Z",
          "iopub.status.busy": "2023-02-06T20:15:39.723903Z",
          "iopub.status.idle": "2023-02-06T20:15:39.731190Z",
          "shell.execute_reply": "2023-02-06T20:15:39.731760Z",
          "shell.execute_reply.started": "2023-02-06T18:59:22.375306Z"
        },
        "papermill": {
          "duration": 0.045246,
          "end_time": "2023-02-06T20:15:39.731964",
          "exception": false,
          "start_time": "2023-02-06T20:15:39.686718",
          "status": "completed"
        },
        "tags": [],
        "id": "we8FZmJMq4n9",
        "outputId": "a5e13c90-32c1-440e-cfd1-7d3f83e8504b",
        "colab": {
          "base_uri": "https://localhost:8080/"
        }
      },
      "outputs": [
        {
          "output_type": "stream",
          "name": "stdout",
          "text": [
            "The Actual length of the article is :  1981\n"
          ]
        }
      ],
      "source": [
        "print (\"The Actual length of the article is : \", len(article))"
      ]
    },
    {
      "cell_type": "code",
      "source": [
        "# Generating the summary\n",
        "summary = summarize(article, num_sentences=3)"
      ],
      "metadata": {
        "id": "kn1nScvls-K-"
      },
      "execution_count": 34,
      "outputs": []
    },
    {
      "cell_type": "code",
      "execution_count": 35,
      "metadata": {
        "execution": {
          "iopub.execute_input": "2023-02-06T20:15:39.802483Z",
          "iopub.status.busy": "2023-02-06T20:15:39.801651Z",
          "iopub.status.idle": "2023-02-06T20:15:39.808370Z",
          "shell.execute_reply": "2023-02-06T20:15:39.808970Z",
          "shell.execute_reply.started": "2023-02-06T19:00:00.882637Z"
        },
        "papermill": {
          "duration": 0.043779,
          "end_time": "2023-02-06T20:15:39.809176",
          "exception": false,
          "start_time": "2023-02-06T20:15:39.765397",
          "status": "completed"
        },
        "tags": [],
        "id": "vlyLXUBjq4n-",
        "outputId": "d75e3418-801a-4497-8aa5-8e26b3c89a39",
        "colab": {
          "base_uri": "https://localhost:8080/",
          "height": 122
        }
      },
      "outputs": [
        {
          "output_type": "stream",
          "name": "stdout",
          "text": [
            "The length of the summarized article is :  736\n"
          ]
        },
        {
          "output_type": "execute_result",
          "data": {
            "text/plain": [
              "\"In summary, India's Health Ministry has announced that the country's COVID-19 vaccination drive will be expanded to include people over 60 and those over 45 with co-morbidities, covering an additional 270 million people. \\nIndia's Health Ministry has announced that the country's COVID-19 vaccination drive will now be expanded to include people over the age of 60 and those over 45 with co-morbidities. However, the pace of the vaccination drive has been slower than expected, with concerns raised over vaccine hesitancy and logistical challenges.The expansion of the vaccination drive to include the elderly and those with co-morbidities is a major step towards achieving herd immunity and controlling the spread of the virus in India.\""
            ],
            "application/vnd.google.colaboratory.intrinsic+json": {
              "type": "string"
            }
          },
          "metadata": {},
          "execution_count": 35
        }
      ],
      "source": [
        "print (\"The length of the summarized article is : \", len(summary))\n",
        "summary"
      ]
    },
    {
      "cell_type": "code",
      "execution_count": 32,
      "metadata": {
        "execution": {
          "iopub.execute_input": "2023-02-06T20:15:39.882470Z",
          "iopub.status.busy": "2023-02-06T20:15:39.881754Z",
          "iopub.status.idle": "2023-02-06T20:15:48.492936Z",
          "shell.execute_reply": "2023-02-06T20:15:48.492308Z",
          "shell.execute_reply.started": "2023-02-06T19:00:12.779459Z"
        },
        "papermill": {
          "duration": 8.649153,
          "end_time": "2023-02-06T20:15:48.493115",
          "exception": false,
          "start_time": "2023-02-06T20:15:39.843962",
          "status": "completed"
        },
        "tags": [],
        "id": "d-K12ns1q4n-",
        "outputId": "20fb1961-33dc-4b06-bbff-f3a589b79073",
        "colab": {
          "base_uri": "https://localhost:8080/"
        }
      },
      "outputs": [
        {
          "output_type": "stream",
          "name": "stdout",
          "text": [
            "Looking in indexes: https://pypi.org/simple, https://us-python.pkg.dev/colab-wheels/public/simple/\n",
            "Collecting rouge\n",
            "  Downloading rouge-1.0.1-py3-none-any.whl (13 kB)\n",
            "Requirement already satisfied: six in /usr/local/lib/python3.9/dist-packages (from rouge) (1.15.0)\n",
            "Installing collected packages: rouge\n",
            "Successfully installed rouge-1.0.1\n"
          ]
        }
      ],
      "source": [
        "!pip install rouge"
      ]
    },
    {
      "cell_type": "code",
      "execution_count": 36,
      "metadata": {
        "execution": {
          "iopub.execute_input": "2023-02-06T20:15:48.681423Z",
          "iopub.status.busy": "2023-02-06T20:15:48.680280Z",
          "iopub.status.idle": "2023-02-06T20:15:57.396462Z",
          "shell.execute_reply": "2023-02-06T20:15:57.395761Z",
          "shell.execute_reply.started": "2023-02-06T19:01:18.088037Z"
        },
        "papermill": {
          "duration": 8.766006,
          "end_time": "2023-02-06T20:15:57.396638",
          "exception": false,
          "start_time": "2023-02-06T20:15:48.630632",
          "status": "completed"
        },
        "tags": [],
        "id": "brqgJZFsq4n-",
        "outputId": "134d32f8-94b6-4628-926b-9f69c561fb29",
        "colab": {
          "base_uri": "https://localhost:8080/"
        }
      },
      "outputs": [
        {
          "output_type": "stream",
          "name": "stdout",
          "text": [
            "ROUGE Score:\n",
            "Precision: 1.00\n",
            "Recall: 0.41\n",
            "F1-Score: 0.59\n"
          ]
        }
      ],
      "source": [
        "from rouge import Rouge\n",
        "rouge = Rouge()\n",
        "scores = rouge.get_scores(summary, article)\n",
        "print(\"ROUGE Score:\")\n",
        "print(\"Precision: {:.2f}\".format(scores[0]['rouge-1']['p']))\n",
        "print(\"Recall: {:.2f}\".format(scores[0]['rouge-1']['r']))\n",
        "print(\"F1-Score: {:.2f}\".format(scores[0]['rouge-1']['f']))"
      ]
    },
    {
      "cell_type": "code",
      "execution_count": 39,
      "metadata": {
        "execution": {
          "iopub.execute_input": "2023-02-06T20:16:08.478265Z",
          "iopub.status.busy": "2023-02-06T20:16:08.457169Z",
          "iopub.status.idle": "2023-02-06T20:16:09.461662Z",
          "shell.execute_reply": "2023-02-06T20:16:09.460888Z",
          "shell.execute_reply.started": "2023-02-06T19:01:58.064978Z"
        },
        "papermill": {
          "duration": 1.061696,
          "end_time": "2023-02-06T20:16:09.461865",
          "exception": false,
          "start_time": "2023-02-06T20:16:08.400169",
          "status": "completed"
        },
        "tags": [],
        "id": "4RyzItToq4n_",
        "outputId": "48fa13f1-9b5d-4d4e-d154-be1a8b9d400a",
        "colab": {
          "base_uri": "https://localhost:8080/"
        }
      },
      "outputs": [
        {
          "output_type": "stream",
          "name": "stdout",
          "text": [
            "BLEU Score: 0.69\n"
          ]
        }
      ],
      "source": [
        "from nltk.translate.bleu_score import sentence_bleu\n",
        "\n",
        "def summary_to_sentences(summary):\n",
        "    # Split the summary into sentences using the '.' character as a separator\n",
        "    sentences = summary.split('.')\n",
        "    \n",
        "    # Convert each sentence into a list of words\n",
        "    sentence_lists = [sentence.split() for sentence in sentences]\n",
        "    \n",
        "    return sentence_lists\n",
        "\n",
        "def paragraph_to_wordlist(paragraph):\n",
        "    # Split the paragraph into words using whitespace as a separator\n",
        "    words = paragraph.split()\n",
        "    return words\n",
        "\n",
        "reference_paragraph = article\n",
        "reference_summary = summary_to_sentences(reference_paragraph)\n",
        "predicted_paragraph = summary\n",
        "predicted_summary = paragraph_to_wordlist(predicted_paragraph)\n",
        "\n",
        "\n",
        "\n",
        "score = sentence_bleu(reference_summary, predicted_summary)\n",
        "print(\"BLEU Score: {:.2f}\".format(score))"
      ]
    },
    {
      "cell_type": "code",
      "execution_count": null,
      "metadata": {
        "papermill": {
          "duration": 0.042298,
          "end_time": "2023-02-06T20:16:09.547119",
          "exception": false,
          "start_time": "2023-02-06T20:16:09.504821",
          "status": "completed"
        },
        "tags": [],
        "id": "8sI2vEsGq4oA"
      },
      "outputs": [],
      "source": []
    }
  ],
  "metadata": {
    "kernelspec": {
      "display_name": "Python 3",
      "language": "python",
      "name": "python3"
    },
    "language_info": {
      "codemirror_mode": {
        "name": "ipython",
        "version": 3
      },
      "file_extension": ".py",
      "mimetype": "text/x-python",
      "name": "python",
      "nbconvert_exporter": "python",
      "pygments_lexer": "ipython3",
      "version": "3.7.9"
    },
    "papermill": {
      "default_parameters": {},
      "duration": 63.141359,
      "end_time": "2023-02-06T20:16:10.903364",
      "environment_variables": {},
      "exception": null,
      "input_path": "__notebook__.ipynb",
      "output_path": "__notebook__.ipynb",
      "parameters": {},
      "start_time": "2023-02-06T20:15:07.762005",
      "version": "2.2.2"
    },
    "colab": {
      "provenance": []
    }
  },
  "nbformat": 4,
  "nbformat_minor": 0
}