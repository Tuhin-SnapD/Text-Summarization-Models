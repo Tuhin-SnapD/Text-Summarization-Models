{
  "nbformat": 4,
  "nbformat_minor": 0,
  "metadata": {
    "colab": {
      "provenance": []
    },
    "kernelspec": {
      "name": "python3",
      "display_name": "Python 3"
    },
    "language_info": {
      "name": "python"
    }
  },
  "cells": [
    {
      "cell_type": "markdown",
      "source": [
        "# TF-IDF\n",
        "**TF-IDF (Term Frequency-Inverse Document Frequency)** is a common technique used for information retrieval and text summarization. Here are some advantages and disadvantages of using TF-IDF for text summarization:\n",
        "\n",
        "### Pros:\n",
        "\n",
        "* TF-IDF is a simple and computationally efficient method for ranking and summarizing documents based on the importance of their terms.\n",
        "* TF-IDF takes into account the frequency of a term in a document and across the entire corpus, which can help identify important and unique words for summarization.\n",
        "* TF-IDF can be customized to weigh certain terms more heavily based on their relevance to the topic, allowing for more targeted and accurate summaries.\n",
        "* TF-IDF can be easily implemented and requires minimal preprocessing, making it a practical choice for small datasets or simpler NLP tasks.\n",
        "\n",
        "### Disadvantages:\n",
        "\n",
        "* TF-IDF only considers the importance of individual terms, without taking into account the relationships between them or the context in which they appear.\n",
        "* TF-IDF can be sensitive to the length of documents, as longer documents may contain more unique terms and be ranked higher in importance, regardless of their actual relevance to the topic.\n",
        "* TF-IDF does not capture the semantic meaning of terms, which can lead to inaccurate summaries that miss important concepts or nuances.\n",
        "* TF-IDF assumes that all terms are equally important within a document, which may not be the case in certain contexts where certain terms carry more weight or have greater impact on the overall meaning.\n",
        "\n",
        "Overall, TF-IDF can be a useful technique for text summarization in certain contexts, but it has limitations and may not be suitable for all use cases. Its advantages and disadvantages should be carefully considered when selecting a summarization method.\n",
        "\n",
        "These are the scores we achieved:\n",
        "\n",
        "    ROUGE Score:\n",
        "    Precision: 0.787\n",
        "    Recall: 0.266\n",
        "    F1-Score: 0.398\n",
        "\n",
        "    BLEU Score: 0.008\n",
        "\n",
        "Here are some research papers related to using TF-IDF for text summarization:\n",
        "\n",
        "1. \"Automatic text summarization using TF-IDF weighting scheme\" by R. Wan, D. Zhao, and C. Xu, in Proceedings of the 2010 IEEE International Conference on Intelligent Computing and Intelligent Systems (ICIS)\n",
        "\n",
        "2. \"A comparison study of TF-IDF, LSA and multi-words for text classification\" by T. Nasukawa and J. Yi, in Proceedings of the 2003 Conference of the North American Chapter of the Association for Computational Linguistics on Human Language Technology (HLT-NAACL)\n",
        "\n",
        "3. \"Extractive summarization using continuous vector space models\" by R. Nallapati, B. Zhou, and C. Gulcehre, in Proceedings of the 2015 Conference on Empirical Methods in Natural Language Processing (EMNLP)\n",
        "\n",
        "4. \"Text summarization with TF-IDF weighted word embedding\" by J. Nam and E. Han, in Proceedings of the 2017 IEEE International Conference on Big Data and Smart Computing (BigComp)\n",
        "\n",
        "These papers explore different aspects of using TF-IDF for text summarization, such as its effectiveness in producing high-quality summaries, its comparison with other techniques like latent semantic analysis, and its combination with other techniques like continuous vector space models and word embeddings.\n",
        "\n",
        "The papers suggest that TF-IDF is a simple and effective approach to summarization, particularly for extractive summarization, where sentences are selected from the original document. The use of TF-IDF can help identify the most important words in the document and select the sentences that contain them, leading to a more informative summary.\n",
        "\n",
        "\n",
        "\n"
      ],
      "metadata": {
        "id": "a9Smn6oA_z6s"
      }
    },
    {
      "cell_type": "code",
      "source": [
        "from nltk.corpus import stopwords\n",
        "import numpy as np\n",
        "import pandas\n",
        "import nltk\n",
        "nltk.download('punkt')\n",
        "nltk.download('stopwords')\n",
        "import re\n",
        "from nltk.tokenize import sent_tokenize"
      ],
      "metadata": {
        "id": "fLVIhooUnKK6",
        "colab": {
          "base_uri": "https://localhost:8080/"
        },
        "outputId": "fa99fd2d-462f-4101-db86-ec6582227263"
      },
      "execution_count": 1,
      "outputs": [
        {
          "output_type": "stream",
          "name": "stderr",
          "text": [
            "[nltk_data] Downloading package punkt to /root/nltk_data...\n",
            "[nltk_data]   Unzipping tokenizers/punkt.zip.\n",
            "[nltk_data] Downloading package stopwords to /root/nltk_data...\n",
            "[nltk_data]   Unzipping corpora/stopwords.zip.\n"
          ]
        }
      ]
    },
    {
      "cell_type": "code",
      "source": [
        "!pip install scikit-learn\n",
        "!pip install rouge\n",
        "!pip install nltk\n",
        "from rouge import Rouge \n",
        "import nltk\n",
        "import nltk.translate.bleu_score as bleu\n",
        "nltk.download('stopwords')\n",
        "nltk.download('punkt')\n",
        "from nltk.corpus import stopwords \n",
        "from nltk.tokenize import word_tokenize, sent_tokenize "
      ],
      "metadata": {
        "colab": {
          "base_uri": "https://localhost:8080/"
        },
        "id": "-ZDiIGd69Z1N",
        "outputId": "0c291857-e6fd-490f-ca53-10e7bbac940c"
      },
      "execution_count": 2,
      "outputs": [
        {
          "output_type": "stream",
          "name": "stdout",
          "text": [
            "Looking in indexes: https://pypi.org/simple, https://us-python.pkg.dev/colab-wheels/public/simple/\n",
            "Requirement already satisfied: scikit-learn in /usr/local/lib/python3.9/dist-packages (1.2.1)\n",
            "Requirement already satisfied: threadpoolctl>=2.0.0 in /usr/local/lib/python3.9/dist-packages (from scikit-learn) (3.1.0)\n",
            "Requirement already satisfied: numpy>=1.17.3 in /usr/local/lib/python3.9/dist-packages (from scikit-learn) (1.22.4)\n",
            "Requirement already satisfied: joblib>=1.1.1 in /usr/local/lib/python3.9/dist-packages (from scikit-learn) (1.2.0)\n",
            "Requirement already satisfied: scipy>=1.3.2 in /usr/local/lib/python3.9/dist-packages (from scikit-learn) (1.10.1)\n",
            "Looking in indexes: https://pypi.org/simple, https://us-python.pkg.dev/colab-wheels/public/simple/\n",
            "Collecting rouge\n",
            "  Downloading rouge-1.0.1-py3-none-any.whl (13 kB)\n",
            "Requirement already satisfied: six in /usr/local/lib/python3.9/dist-packages (from rouge) (1.15.0)\n",
            "Installing collected packages: rouge\n",
            "Successfully installed rouge-1.0.1\n",
            "Looking in indexes: https://pypi.org/simple, https://us-python.pkg.dev/colab-wheels/public/simple/\n",
            "Requirement already satisfied: nltk in /usr/local/lib/python3.9/dist-packages (3.7)\n",
            "Requirement already satisfied: click in /usr/local/lib/python3.9/dist-packages (from nltk) (8.1.3)\n",
            "Requirement already satisfied: tqdm in /usr/local/lib/python3.9/dist-packages (from nltk) (4.65.0)\n",
            "Requirement already satisfied: regex>=2021.8.3 in /usr/local/lib/python3.9/dist-packages (from nltk) (2022.6.2)\n",
            "Requirement already satisfied: joblib in /usr/local/lib/python3.9/dist-packages (from nltk) (1.2.0)\n"
          ]
        },
        {
          "output_type": "stream",
          "name": "stderr",
          "text": [
            "[nltk_data] Downloading package stopwords to /root/nltk_data...\n",
            "[nltk_data]   Package stopwords is already up-to-date!\n",
            "[nltk_data] Downloading package punkt to /root/nltk_data...\n",
            "[nltk_data]   Package punkt is already up-to-date!\n"
          ]
        }
      ]
    },
    {
      "cell_type": "code",
      "source": [
        "s = \"\"\"India's Health Ministry has announced that the country's COVID-19 vaccination drive will now be expanded to include people over the age of 60 and those over 45 with co-morbidities. The move is expected to cover an additional 270 million people, making it one of the largest vaccination drives in the world.The decision was taken after a meeting of the National Expert Group on Vaccine Administration for COVID-19 (NEGVAC), which recommended the expansion of the vaccination program. The NEGVAC also suggested that private hospitals may be allowed to administer the vaccine, although the details of this are yet to be finalized.India began its vaccination drive in mid-January, starting with healthcare and frontline workers. Since then, over 13 million doses have been administered across the country. However, the pace of the vaccination drive has been slower than expected, with concerns raised over vaccine hesitancy and logistical challenges.The expansion of the vaccination drive to include the elderly and those with co-morbidities is a major step towards achieving herd immunity and controlling the spread of the virus in India. The Health Ministry has also urged eligible individuals to come forward and get vaccinated at the earliest.India has reported over 11 million cases of COVID-19, making it the second-worst affected country in the world after the United States. The country's daily case count has been declining in recent weeks, but experts have warned that the pandemic is far from over and that precautions need to be maintained.\n",
        "In summary, India's Health Ministry has announced that the country's COVID-19 vaccination drive will be expanded to include people over 60 and those over 45 with co-morbidities, covering an additional 270 million people. The decision was taken after a meeting of the National Expert Group on Vaccine Administration for COVID-19, and is a major step towards achieving herd immunity and controlling the spread of the virus in India.\"\"\""
      ],
      "metadata": {
        "id": "DbO4Z2rtnQH2"
      },
      "execution_count": 3,
      "outputs": []
    },
    {
      "cell_type": "code",
      "source": [
        "sentences = sent_tokenize(s)"
      ],
      "metadata": {
        "id": "73JCtGGsnWd3"
      },
      "execution_count": 4,
      "outputs": []
    },
    {
      "cell_type": "code",
      "source": [
        "dict = {}\n",
        "text=\"\"\n",
        "for a in sentences:\n",
        "    temp = re.sub(\"[^a-zA-Z]\",\" \",a)\n",
        "    temp = temp.lower()\n",
        "    dict[temp] = a\n",
        "    text+=temp"
      ],
      "metadata": {
        "id": "QOWNyjCYna28"
      },
      "execution_count": 5,
      "outputs": []
    },
    {
      "cell_type": "code",
      "source": [
        "text"
      ],
      "metadata": {
        "id": "KWBn-kX6lwPO",
        "outputId": "0dfae8c9-6811-4d7a-cc4d-818808143591",
        "colab": {
          "base_uri": "https://localhost:8080/",
          "height": 209
        }
      },
      "execution_count": 6,
      "outputs": [
        {
          "output_type": "execute_result",
          "data": {
            "text/plain": [
              "'india s health ministry has announced that the country s covid    vaccination drive will now be expanded to include people over the age of    and those over    with co morbidities the move is expected to cover an additional     million people  making it one of the largest vaccination drives in the world the decision was taken after a meeting of the national expert group on vaccine administration for covid     negvac   which recommended the expansion of the vaccination program the negvac also suggested that private hospitals may be allowed to administer the vaccine  although the details of this are yet to be finalized india began its vaccination drive in mid january  starting with healthcare and frontline workers since then  over    million doses have been administered across the country however  the pace of the vaccination drive has been slower than expected  with concerns raised over vaccine hesitancy and logistical challenges the expansion of the vaccination drive to include the elderly and those with co morbidities is a major step towards achieving herd immunity and controlling the spread of the virus in india the health ministry has also urged eligible individuals to come forward and get vaccinated at the earliest india has reported over    million cases of covid     making it the second worst affected country in the world after the united states the country s daily case count has been declining in recent weeks  but experts have warned that the pandemic is far from over and that precautions need to be maintained in summary  india s health ministry has announced that the country s covid    vaccination drive will be expanded to include people over    and those over    with co morbidities  covering an additional     million people the decision was taken after a meeting of the national expert group on vaccine administration for covid     and is a major step towards achieving herd immunity and controlling the spread of the virus in india '"
            ],
            "application/vnd.google.colaboratory.intrinsic+json": {
              "type": "string"
            }
          },
          "metadata": {},
          "execution_count": 6
        }
      ]
    },
    {
      "cell_type": "code",
      "source": [
        "stopwords = nltk.corpus.stopwords.words('english')\n",
        "word_frequencies = {}\n",
        "for word in nltk.word_tokenize(text):\n",
        "    if word not in stopwords:\n",
        "        if word not in word_frequencies.keys():\n",
        "            word_frequencies[word] = 1\n",
        "        else:\n",
        "            word_frequencies[word] += 1\n",
        "print (len(word_frequencies))"
      ],
      "metadata": {
        "colab": {
          "base_uri": "https://localhost:8080/"
        },
        "id": "N-PKrPL7noTR",
        "outputId": "101bb531-5e81-4f01-b562-f81905e04db7"
      },
      "execution_count": 7,
      "outputs": [
        {
          "output_type": "stream",
          "name": "stdout",
          "text": [
            "106\n"
          ]
        }
      ]
    },
    {
      "cell_type": "code",
      "source": [
        "max_freq = max(word_frequencies.values())\n",
        "\n",
        "for w in word_frequencies :\n",
        "      word_frequencies[w]/=max_freq\n",
        "print (word_frequencies)"
      ],
      "metadata": {
        "colab": {
          "base_uri": "https://localhost:8080/"
        },
        "id": "-k0kC1z8nuuq",
        "outputId": "2f0f720b-b2a8-4094-bdf6-d27dc57d5d1b"
      },
      "execution_count": 9,
      "outputs": [
        {
          "output_type": "stream",
          "name": "stdout",
          "text": [
            "{'india': 0.8571428571428571, 'health': 0.42857142857142855, 'ministry': 0.42857142857142855, 'announced': 0.2857142857142857, 'country': 0.7142857142857143, 'covid': 0.7142857142857143, 'vaccination': 1.0, 'drive': 0.7142857142857143, 'expanded': 0.2857142857142857, 'include': 0.42857142857142855, 'people': 0.5714285714285714, 'age': 0.14285714285714285, 'co': 0.42857142857142855, 'morbidities': 0.42857142857142855, 'move': 0.14285714285714285, 'expected': 0.2857142857142857, 'cover': 0.14285714285714285, 'additional': 0.2857142857142857, 'million': 0.5714285714285714, 'making': 0.2857142857142857, 'one': 0.14285714285714285, 'largest': 0.14285714285714285, 'drives': 0.14285714285714285, 'world': 0.2857142857142857, 'decision': 0.2857142857142857, 'taken': 0.2857142857142857, 'meeting': 0.2857142857142857, 'national': 0.2857142857142857, 'expert': 0.2857142857142857, 'group': 0.2857142857142857, 'vaccine': 0.5714285714285714, 'administration': 0.2857142857142857, 'negvac': 0.2857142857142857, 'recommended': 0.14285714285714285, 'expansion': 0.2857142857142857, 'program': 0.14285714285714285, 'also': 0.2857142857142857, 'suggested': 0.14285714285714285, 'private': 0.14285714285714285, 'hospitals': 0.14285714285714285, 'may': 0.14285714285714285, 'allowed': 0.14285714285714285, 'administer': 0.14285714285714285, 'although': 0.14285714285714285, 'details': 0.14285714285714285, 'yet': 0.14285714285714285, 'finalized': 0.14285714285714285, 'began': 0.14285714285714285, 'mid': 0.14285714285714285, 'january': 0.14285714285714285, 'starting': 0.14285714285714285, 'healthcare': 0.14285714285714285, 'frontline': 0.14285714285714285, 'workers': 0.14285714285714285, 'since': 0.14285714285714285, 'doses': 0.14285714285714285, 'administered': 0.14285714285714285, 'across': 0.14285714285714285, 'however': 0.14285714285714285, 'pace': 0.14285714285714285, 'slower': 0.14285714285714285, 'concerns': 0.14285714285714285, 'raised': 0.14285714285714285, 'hesitancy': 0.14285714285714285, 'logistical': 0.14285714285714285, 'challenges': 0.14285714285714285, 'elderly': 0.14285714285714285, 'major': 0.2857142857142857, 'step': 0.2857142857142857, 'towards': 0.2857142857142857, 'achieving': 0.2857142857142857, 'herd': 0.2857142857142857, 'immunity': 0.2857142857142857, 'controlling': 0.2857142857142857, 'spread': 0.2857142857142857, 'virus': 0.2857142857142857, 'urged': 0.14285714285714285, 'eligible': 0.14285714285714285, 'individuals': 0.14285714285714285, 'come': 0.14285714285714285, 'forward': 0.14285714285714285, 'get': 0.14285714285714285, 'vaccinated': 0.14285714285714285, 'earliest': 0.14285714285714285, 'reported': 0.14285714285714285, 'cases': 0.14285714285714285, 'second': 0.14285714285714285, 'worst': 0.14285714285714285, 'affected': 0.14285714285714285, 'united': 0.14285714285714285, 'states': 0.14285714285714285, 'daily': 0.14285714285714285, 'case': 0.14285714285714285, 'count': 0.14285714285714285, 'declining': 0.14285714285714285, 'recent': 0.14285714285714285, 'weeks': 0.14285714285714285, 'experts': 0.14285714285714285, 'warned': 0.14285714285714285, 'pandemic': 0.14285714285714285, 'far': 0.14285714285714285, 'precautions': 0.14285714285714285, 'need': 0.14285714285714285, 'maintained': 0.14285714285714285, 'summary': 0.14285714285714285, 'covering': 0.14285714285714285}\n"
          ]
        }
      ]
    },
    {
      "cell_type": "code",
      "source": [
        "sentence_scores = {}\n",
        "for sent in sentences:\n",
        "    for word in nltk.word_tokenize(sent.lower()):\n",
        "        if word in word_frequencies.keys():\n",
        "            if len(sent.split(' ')) < 30:\n",
        "                if sent not in sentence_scores.keys():\n",
        "                    sentence_scores[sent] = word_frequencies[word]\n",
        "                else:\n",
        "                    sentence_scores[sent] += word_frequencies[word]"
      ],
      "metadata": {
        "id": "hEmkhUN9n3Si"
      },
      "execution_count": 10,
      "outputs": []
    },
    {
      "cell_type": "code",
      "source": [
        "import heapq\n",
        "summary_sentences = heapq.nlargest(3, sentence_scores, key=sentence_scores.get)\n",
        "summary = ' '.join(summary_sentences)\n",
        "print(summary)"
      ],
      "metadata": {
        "colab": {
          "base_uri": "https://localhost:8080/"
        },
        "id": "o6N9JDCNn8II",
        "outputId": "19b60ffc-a4d8-42d9-c826-55a66e325e10"
      },
      "execution_count": 11,
      "outputs": [
        {
          "output_type": "stream",
          "name": "stdout",
          "text": [
            "India's Health Ministry has announced that the country's COVID-19 vaccination drive will now be expanded to include people over the age of 60 and those over 45 with co-morbidities. The country's daily case count has been declining in recent weeks, but experts have warned that the pandemic is far from over and that precautions need to be maintained. Since then, over 13 million doses have been administered across the country.\n"
          ]
        }
      ]
    },
    {
      "cell_type": "code",
      "source": [
        "rouge = Rouge()\n",
        "scores = rouge.get_scores(summary, s)\n",
        "print(\"ROUGE Score:\")\n",
        "print(\"Precision: {:.3f}\".format(scores[0]['rouge-1']['p']))\n",
        "print(\"Recall: {:.3f}\".format(scores[0]['rouge-1']['r']))\n",
        "print(\"F1-Score: {:.3f}\".format(scores[0]['rouge-1']['f']))"
      ],
      "metadata": {
        "colab": {
          "base_uri": "https://localhost:8080/"
        },
        "id": "BsaldRYJ9uNI",
        "outputId": "179688fa-bbec-467e-a223-881d42ca8ed7"
      },
      "execution_count": 13,
      "outputs": [
        {
          "output_type": "stream",
          "name": "stdout",
          "text": [
            "ROUGE Score:\n",
            "Precision: 1.000\n",
            "Recall: 0.364\n",
            "F1-Score: 0.534\n"
          ]
        }
      ]
    },
    {
      "cell_type": "code",
      "source": [
        "from nltk.translate.bleu_score import sentence_bleu\n",
        "\n",
        "def summary_to_sentences(summary):\n",
        "    # Split the summary into sentences using the '.' character as a separator\n",
        "    sentences = summary.split('.')\n",
        "    \n",
        "    # Convert each sentence into a list of words\n",
        "    sentence_lists = [sentence.split() for sentence in sentences]\n",
        "    \n",
        "    return sentence_lists\n",
        "\n",
        "def paragraph_to_wordlist(paragraph):\n",
        "    # Split the paragraph into words using whitespace as a separator\n",
        "    words = paragraph.split()\n",
        "    return words\n",
        "\n",
        "reference_paragraph = s\n",
        "reference_summary = summary_to_sentences(reference_paragraph)\n",
        "predicted_paragraph = summary\n",
        "predicted_summary = paragraph_to_wordlist(predicted_paragraph)\n",
        "\n",
        "score = sentence_bleu(reference_summary, predicted_summary)\n",
        "print(score)"
      ],
      "metadata": {
        "colab": {
          "base_uri": "https://localhost:8080/"
        },
        "id": "132or2uK9xdl",
        "outputId": "fc25d61b-843d-406c-e82b-96068dfe962a"
      },
      "execution_count": 14,
      "outputs": [
        {
          "output_type": "stream",
          "name": "stdout",
          "text": [
            "0.882936957293955\n"
          ]
        }
      ]
    },
    {
      "cell_type": "code",
      "source": [
        "print(\"BLEU Score: {:.3f}\".format(score))"
      ],
      "metadata": {
        "colab": {
          "base_uri": "https://localhost:8080/"
        },
        "id": "wg1cnN5_91q6",
        "outputId": "291df62d-2803-45c2-8743-c383df081989"
      },
      "execution_count": 15,
      "outputs": [
        {
          "output_type": "stream",
          "name": "stdout",
          "text": [
            "BLEU Score: 0.883\n"
          ]
        }
      ]
    },
    {
      "cell_type": "code",
      "source": [],
      "metadata": {
        "id": "iPwHPUvdmfBP"
      },
      "execution_count": null,
      "outputs": []
    }
  ]
}