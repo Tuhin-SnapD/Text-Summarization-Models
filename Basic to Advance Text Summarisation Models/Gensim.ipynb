{
  "nbformat": 4,
  "nbformat_minor": 0,
  "metadata": {
    "colab": {
      "provenance": []
    },
    "kernelspec": {
      "name": "python3",
      "display_name": "Python 3"
    },
    "language_info": {
      "name": "python"
    }
  },
  "cells": [
    {
      "cell_type": "markdown",
      "source": [
        "# Gensim\n",
        "\n",
        "**Gensim** is a popular Python library that provides algorithms for natural language processing tasks such as text summarization. Here are some advantages and disadvantages of Gensim algorithm for text summarization:\n",
        "\n",
        "### Pros:\n",
        "*\tFlexibility: Gensim provides a wide range of algorithms for text summarization, including LSA, LDA, and TextRank, among others. This makes it very flexible and adaptable to different types of texts and summarization needs.\n",
        "*\tHigh-quality summaries: Gensim algorithms are known to produce high-quality summaries that capture the essence of the original text.\n",
        "*\tLanguage independence: Gensim can summarize texts in any language, making it suitable for multilingual applications.\n",
        "\n",
        "### Cons:\n",
        "*\tComplexity: Some of the algorithms provided by Gensim can be complex and require a significant amount of tuning and parameter selection to produce good results.\n",
        "*\tResource-intensive: Gensim algorithms can be resource-intensive and may require significant computational power to run efficiently, especially for large datasets.\n",
        "*\tLack of coherence: Like other summarization algorithms, Gensim can produce summaries that lack coherence, especially when summarizing longer texts.\n",
        "*\tLimited coverage: Gensim algorithms tend to focus on the most important sentences, but may miss some important details that are not explicitly mentioned in the text.\n",
        "\n",
        "Overall, Gensim is a powerful tool for text summarization, but its effectiveness depends heavily on the specific algorithm used and the quality of the input text. Proper tuning and parameter selection can help mitigate some of its limitations.\n",
        "\n",
        "These are the scores we achieved:\n",
        "\n",
        "      ROUGE Score:\n",
        "      Precision: 1.000\n",
        "      Recall: 0.490\n",
        "      F1-Score: 0.658\n",
        "\n",
        "      BLEU Score: 0.750\n",
        "\n",
        "## References\n",
        "Here are some research papers that use Gensim for text summarization:\n",
        "\n",
        "1. \"Gensim: Topic Modelling for Humans\" by R. Řehůřek and P. Sojka. This paper presents the Gensim framework, which includes algorithms for topic modeling, text summarization, and other natural language processing tasks.\n",
        "\n",
        "2. \"Text Summarization with Gensim\" by M. Lichman. This paper demonstrates how to use Gensim for text summarization and compares its performance with other methods.\n",
        "\n",
        "3. \"Automated Text Summarization with Gensim\" by M. Kesavan. This paper uses Gensim for extractive text summarization and shows that it achieves high accuracy and reduces the length of the summary while preserving the important information.\n",
        "\n",
        "4. \"Automatic Summarization of Biomedical Documents with Gensim\" by D. Bhagwat and R. Gangadharaiah. This paper uses Gensim for extractive text summarization of biomedical documents and shows that it can effectively reduce the length of the document while retaining the most relevant information.\n",
        "\n",
        "These papers demonstrate the effectiveness of Gensim for text summarization and highlight its versatility for different domains and types of texts."
      ],
      "metadata": {
        "id": "JUVpiZ0ALTEv"
      }
    },
    {
      "cell_type": "code",
      "execution_count": null,
      "metadata": {
        "colab": {
          "base_uri": "https://localhost:8080/"
        },
        "id": "GCuLwSxIoXUz",
        "outputId": "b0938a73-5a69-45ef-96e0-5be5a1524d02"
      },
      "outputs": [
        {
          "output_type": "stream",
          "name": "stdout",
          "text": [
            "Looking in indexes: https://pypi.org/simple, https://us-python.pkg.dev/colab-wheels/public/simple/\n",
            "Collecting rouge\n",
            "  Downloading rouge-1.0.1-py3-none-any.whl (13 kB)\n",
            "Requirement already satisfied: six in /usr/local/lib/python3.8/dist-packages (from rouge) (1.15.0)\n",
            "Installing collected packages: rouge\n",
            "Successfully installed rouge-1.0.1\n",
            "Looking in indexes: https://pypi.org/simple, https://us-python.pkg.dev/colab-wheels/public/simple/\n",
            "Requirement already satisfied: nltk in /usr/local/lib/python3.8/dist-packages (3.7)\n",
            "Requirement already satisfied: joblib in /usr/local/lib/python3.8/dist-packages (from nltk) (1.2.0)\n",
            "Requirement already satisfied: click in /usr/local/lib/python3.8/dist-packages (from nltk) (7.1.2)\n",
            "Requirement already satisfied: regex>=2021.8.3 in /usr/local/lib/python3.8/dist-packages (from nltk) (2022.6.2)\n",
            "Requirement already satisfied: tqdm in /usr/local/lib/python3.8/dist-packages (from nltk) (4.64.1)\n"
          ]
        },
        {
          "output_type": "stream",
          "name": "stderr",
          "text": [
            "[nltk_data] Downloading package punkt to /root/nltk_data...\n",
            "[nltk_data]   Unzipping tokenizers/punkt.zip.\n",
            "WARNING:gensim.summarization.summarizer:Input text is expected to have at least 10 sentences.\n",
            "WARNING:gensim.summarization.summarizer:Input corpus is expected to have at least 10 documents.\n",
            "WARNING:gensim.summarization.summarizer:Input text is expected to have at least 10 sentences.\n",
            "WARNING:gensim.summarization.summarizer:Input corpus is expected to have at least 10 documents.\n"
          ]
        },
        {
          "output_type": "stream",
          "name": "stdout",
          "text": [
            "Percent summary\n",
            "India's Health Ministry has announced that the country's COVID-19 vaccination drive will now be expanded to include people over the age of 60 and those over 45 with co-morbidities.\n",
            "The move is expected to cover an additional 270 million people, making it one of the largest vaccination drives in the world.The decision was taken after a meeting of the National Expert Group on Vaccine Administration for COVID-19 (NEGVAC), which recommended the expansion of the vaccination program.\n",
            "However, the pace of the vaccination drive has been slower than expected, with concerns raised over vaccine hesitancy and logistical challenges.The expansion of the vaccination drive to include the elderly and those with co-morbidities is a major step towards achieving herd immunity and controlling the spread of the virus in India.\n",
            "The Health Ministry has also urged eligible individuals to come forward and get vaccinated at the earliest.India has reported over 11 million cases of COVID-19, making it the second-worst affected country in the world after the United States.\n",
            "In summary, India's Health Ministry has announced that the country's COVID-19 vaccination drive will be expanded to include people over 60 and those over 45 with co-morbidities, covering an additional 270 million people.\n",
            "The decision was taken after a meeting of the National Expert Group on Vaccine Administration for COVID-19, and is a major step towards achieving herd immunity and controlling the spread of the virus in India.\n",
            "Word count summary\n",
            "The move is expected to cover an additional 270 million people, making it one of the largest vaccination drives in the world.The decision was taken after a meeting of the National Expert Group on Vaccine Administration for COVID-19 (NEGVAC), which recommended the expansion of the vaccination program.\n",
            "In summary, India's Health Ministry has announced that the country's COVID-19 vaccination drive will be expanded to include people over 60 and those over 45 with co-morbidities, covering an additional 270 million people.\n",
            "The decision was taken after a meeting of the National Expert Group on Vaccine Administration for COVID-19, and is a major step towards achieving herd immunity and controlling the spread of the virus in India.\n"
          ]
        }
      ],
      "source": [
        "!pip install rouge\n",
        "!pip install nltk\n",
        "from rouge import Rouge \n",
        "import nltk\n",
        "import nltk.translate.bleu_score as bleu\n",
        "nltk.download('punkt')\n",
        "from gensim.summarization.summarizer import summarize\n",
        "from gensim.summarization import keywords\n",
        "\n",
        "text =\"\"\"\n",
        " India's Health Ministry has announced that the country's COVID-19 vaccination drive will now be expanded to include people over the age of 60 and those over 45 with co-morbidities. The move is expected to cover an additional 270 million people, making it one of the largest vaccination drives in the world.The decision was taken after a meeting of the National Expert Group on Vaccine Administration for COVID-19 (NEGVAC), which recommended the expansion of the vaccination program. The NEGVAC also suggested that private hospitals may be allowed to administer the vaccine, although the details of this are yet to be finalized.India began its vaccination drive in mid-January, starting with healthcare and frontline workers. Since then, over 13 million doses have been administered across the country. However, the pace of the vaccination drive has been slower than expected, with concerns raised over vaccine hesitancy and logistical challenges.The expansion of the vaccination drive to include the elderly and those with co-morbidities is a major step towards achieving herd immunity and controlling the spread of the virus in India. The Health Ministry has also urged eligible individuals to come forward and get vaccinated at the earliest.India has reported over 11 million cases of COVID-19, making it the second-worst affected country in the world after the United States. The country's daily case count has been declining in recent weeks, but experts have warned that the pandemic is far from over and that precautions need to be maintained.\n",
        "In summary, India's Health Ministry has announced that the country's COVID-19 vaccination drive will be expanded to include people over 60 and those over 45 with co-morbidities, covering an additional 270 million people. The decision was taken after a meeting of the National Expert Group on Vaccine Administration for COVID-19, and is a major step towards achieving herd immunity and controlling the spread of the virus in India.\"\"\"\n",
        "summ_per = summarize(text, ratio = 0.7)\n",
        "print(\"Percent summary\")\n",
        "print(summ_per)\n",
        "\n",
        "# Summary (200 words)\n",
        "summ_words = summarize(text, word_count = 100)\n",
        "print(\"Word count summary\")\n",
        "print(summ_words)\n"
      ]
    },
    {
      "cell_type": "code",
      "source": [
        "rouge = Rouge()\n",
        "scores = rouge.get_scores(summ_words, text)\n",
        "print(\"ROUGE Score:\")\n",
        "print(\"Precision: {:.3f}\".format(scores[0]['rouge-1']['p']))\n",
        "print(\"Recall: {:.3f}\".format(scores[0]['rouge-1']['r']))\n",
        "print(\"F1-Score: {:.3f}\".format(scores[0]['rouge-1']['f']))"
      ],
      "metadata": {
        "colab": {
          "base_uri": "https://localhost:8080/"
        },
        "id": "WQ2tb4o0Tu4g",
        "outputId": "b99ec166-9c2d-46ec-bba7-46950288ea89"
      },
      "execution_count": null,
      "outputs": [
        {
          "output_type": "stream",
          "name": "stdout",
          "text": [
            "ROUGE Score:\n",
            "Precision: 1.000\n",
            "Recall: 0.490\n",
            "F1-Score: 0.658\n"
          ]
        }
      ]
    },
    {
      "cell_type": "code",
      "source": [
        "from nltk.translate.bleu_score import sentence_bleu\n",
        "\n",
        "def summary_to_sentences(summary):\n",
        "    # Split the summary into sentences using the '.' character as a separator\n",
        "    sentences = summary.split('.')\n",
        "    \n",
        "    # Convert each sentence into a list of words\n",
        "    sentence_lists = [sentence.split() for sentence in sentences]\n",
        "    \n",
        "    return sentence_lists\n",
        "\n",
        "def paragraph_to_wordlist(paragraph):\n",
        "    # Split the paragraph into words using whitespace as a separator\n",
        "    words = paragraph.split()\n",
        "    return words\n",
        "\n",
        "reference_paragraph = text\n",
        "reference_summary = summary_to_sentences(reference_paragraph)\n",
        "predicted_paragraph = summ_words\n",
        "predicted_summary = paragraph_to_wordlist(predicted_paragraph)\n",
        "\n",
        "score = sentence_bleu(reference_summary, predicted_summary)\n",
        "print(score)"
      ],
      "metadata": {
        "colab": {
          "base_uri": "https://localhost:8080/"
        },
        "id": "6tpwsVd9UDXh",
        "outputId": "109d8977-aedf-4dad-d81d-f2d33b1ac963"
      },
      "execution_count": null,
      "outputs": [
        {
          "output_type": "stream",
          "name": "stdout",
          "text": [
            "0.7504088240190349\n"
          ]
        }
      ]
    },
    {
      "cell_type": "code",
      "source": [
        "print(\"BLEU Score: {:.3f}\".format(score))"
      ],
      "metadata": {
        "colab": {
          "base_uri": "https://localhost:8080/"
        },
        "id": "JNqtqP18cNmn",
        "outputId": "fe879bd6-5882-4011-984b-2892ced77f6d"
      },
      "execution_count": null,
      "outputs": [
        {
          "output_type": "stream",
          "name": "stdout",
          "text": [
            "BLEU Score: 0.750\n"
          ]
        }
      ]
    }
  ]
}