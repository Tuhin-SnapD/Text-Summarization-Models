{
  "nbformat": 4,
  "nbformat_minor": 0,
  "metadata": {
    "colab": {
      "provenance": []
    },
    "kernelspec": {
      "name": "python3",
      "display_name": "Python 3"
    },
    "language_info": {
      "name": "python"
    }
  },
  "cells": [
    {
      "cell_type": "code",
      "execution_count": null,
      "metadata": {
        "colab": {
          "base_uri": "https://localhost:8080/"
        },
        "id": "fGkuzdoRaOuG",
        "outputId": "fec72d43-6643-4ffc-b6ac-440bf6b6f81c"
      },
      "outputs": [
        {
          "output_type": "stream",
          "name": "stdout",
          "text": [
            "Looking in indexes: https://pypi.org/simple, https://us-python.pkg.dev/colab-wheels/public/simple/\n",
            "Collecting rdflib\n",
            "  Downloading rdflib-6.2.0-py3-none-any.whl (500 kB)\n",
            "\u001b[2K     \u001b[90m━━━━━━━━━━━━━━━━━━━━━━━━━━━━━━━━━━━━━━\u001b[0m \u001b[32m500.3/500.3 KB\u001b[0m \u001b[31m11.8 MB/s\u001b[0m eta \u001b[36m0:00:00\u001b[0m\n",
            "\u001b[?25hCollecting isodate\n",
            "  Downloading isodate-0.6.1-py2.py3-none-any.whl (41 kB)\n",
            "\u001b[2K     \u001b[90m━━━━━━━━━━━━━━━━━━━━━━━━━━━━━━━━━━━━━━━━\u001b[0m \u001b[32m41.7/41.7 KB\u001b[0m \u001b[31m3.1 MB/s\u001b[0m eta \u001b[36m0:00:00\u001b[0m\n",
            "\u001b[?25hRequirement already satisfied: setuptools in /usr/local/lib/python3.8/dist-packages (from rdflib) (57.4.0)\n",
            "Requirement already satisfied: pyparsing in /usr/local/lib/python3.8/dist-packages (from rdflib) (3.0.9)\n",
            "Requirement already satisfied: six in /usr/local/lib/python3.8/dist-packages (from isodate->rdflib) (1.15.0)\n",
            "Installing collected packages: isodate, rdflib\n",
            "Successfully installed isodate-0.6.1 rdflib-6.2.0\n",
            "Looking in indexes: https://pypi.org/simple, https://us-python.pkg.dev/colab-wheels/public/simple/\n",
            "Collecting SPARQLWrapper\n",
            "  Downloading SPARQLWrapper-2.0.0-py3-none-any.whl (28 kB)\n",
            "Requirement already satisfied: rdflib>=6.1.1 in /usr/local/lib/python3.8/dist-packages (from SPARQLWrapper) (6.2.0)\n",
            "Requirement already satisfied: setuptools in /usr/local/lib/python3.8/dist-packages (from rdflib>=6.1.1->SPARQLWrapper) (57.4.0)\n",
            "Requirement already satisfied: pyparsing in /usr/local/lib/python3.8/dist-packages (from rdflib>=6.1.1->SPARQLWrapper) (3.0.9)\n",
            "Requirement already satisfied: isodate in /usr/local/lib/python3.8/dist-packages (from rdflib>=6.1.1->SPARQLWrapper) (0.6.1)\n",
            "Requirement already satisfied: six in /usr/local/lib/python3.8/dist-packages (from isodate->rdflib>=6.1.1->SPARQLWrapper) (1.15.0)\n",
            "Installing collected packages: SPARQLWrapper\n",
            "Successfully installed SPARQLWrapper-2.0.0\n"
          ]
        }
      ],
      "source": [
        "!pip install rdflib\n",
        "!pip install SPARQLWrapper"
      ]
    },
    {
      "cell_type": "code",
      "source": [
        "from rdflib import Graph\n",
        "from SPARQLWrapper import SPARQLWrapper, JSON, N3\n",
        "from pprint import pprint"
      ],
      "metadata": {
        "id": "DpCOf9EgaQmB"
      },
      "execution_count": null,
      "outputs": []
    },
    {
      "cell_type": "code",
      "source": [
        "sparql = SPARQLWrapper('https://dbpedia.org/sparql')\n",
        "sparql.setQuery('''\n",
        "    SELECT ?object\n",
        "    WHERE { dbr:Barack_Obama rdfs:label ?object .}\n",
        "    # WHERE { dbr:Barack_Obama dbo:abstract ?object .}\n",
        "''')\n",
        "sparql.setReturnFormat(JSON)\n",
        "qres = sparql.query().convert()\n",
        "\n",
        "# pprint(qres)\n",
        "for result in qres['results']['bindings']:\n",
        "    # print(result['object'])\n",
        "    \n",
        "    lang, value = result['object']['xml:lang'], result['object']['value']\n",
        "    print(f'Lang: {lang}\\tValue: {value}')\n",
        "    # if lang == 'en':\n",
        "        # print(value)"
      ],
      "metadata": {
        "colab": {
          "base_uri": "https://localhost:8080/"
        },
        "id": "p7UtCXpiaSmD",
        "outputId": "041dfce9-4f25-43b6-b0da-dab855ddfbf0"
      },
      "execution_count": null,
      "outputs": [
        {
          "output_type": "stream",
          "name": "stdout",
          "text": [
            "Lang: en\tValue: Barack Obama\n",
            "Lang: ar\tValue: باراك أوباما\n",
            "Lang: ca\tValue: Barack Obama\n",
            "Lang: cs\tValue: Barack Obama\n",
            "Lang: el\tValue: Μπαράκ Ομπάμα\n",
            "Lang: de\tValue: Barack Obama\n",
            "Lang: eo\tValue: Barack Obama\n",
            "Lang: es\tValue: Barack Obama\n",
            "Lang: eu\tValue: Barack Obama\n",
            "Lang: fr\tValue: Barack Obama\n",
            "Lang: ga\tValue: Barack Obama\n",
            "Lang: in\tValue: Barack Obama\n",
            "Lang: it\tValue: Barack Obama\n",
            "Lang: ko\tValue: 버락 오바마\n",
            "Lang: ja\tValue: バラク・オバマ\n",
            "Lang: nl\tValue: Barack Obama\n",
            "Lang: pt\tValue: Barack Obama\n",
            "Lang: pl\tValue: Barack Obama\n",
            "Lang: ru\tValue: Обама, Барак\n",
            "Lang: sv\tValue: Barack Obama\n",
            "Lang: uk\tValue: Барак Обама\n",
            "Lang: zh\tValue: 贝拉克·奥巴马\n"
          ]
        }
      ]
    },
    {
      "cell_type": "code",
      "source": [
        "sparql = SPARQLWrapper(\"http://dbpedia.org/sparql\")\n",
        "sparql.setQuery('''\n",
        "CONSTRUCT { dbc:Barack_Obama skos:broader ?parent .\n",
        "            dbc:Joe_Biden skos:narrower ?child .} \n",
        "WHERE {\n",
        "    { dbc:Barack_Obama skos:broader ?parent . }\n",
        "UNION\n",
        "    { ?child skos:broader dbc:Joe_Biden. }\n",
        "}''')\n",
        "\n",
        "sparql.setReturnFormat(N3)\n",
        "qres = sparql.query().convert()\n",
        "\n",
        "g = Graph()\n",
        "g.parse(data=qres, format='n3')\n",
        "print(g.serialize(format='ttl'))"
      ],
      "metadata": {
        "colab": {
          "base_uri": "https://localhost:8080/"
        },
        "id": "0eUSlFIxavHT",
        "outputId": "6acb1797-5ef7-4b95-868e-e9a6eac3708b"
      },
      "execution_count": null,
      "outputs": [
        {
          "output_type": "stream",
          "name": "stdout",
          "text": [
            "@prefix dbc: <http://dbpedia.org/resource/Category:> .\n",
            "@prefix skos: <http://www.w3.org/2004/02/skos/core#> .\n",
            "\n",
            "dbc:Barack_Obama skos:broader dbc:21st-century_American_politicians,\n",
            "        dbc:Obama_family,\n",
            "        dbc:Presidents_of_the_United_States,\n",
            "        dbc:Wikipedia_categories_named_after_presidents_of_the_United_States .\n",
            "\n",
            "dbc:Joe_Biden skos:narrower dbc:Cultural_depictions_of_Joe_Biden,\n",
            "        dbc:Images_of_Joe_Biden,\n",
            "        dbc:Joe_Biden-related_lists,\n",
            "        dbc:Joe_Biden-related_templates,\n",
            "        dbc:Joe_Biden_2020_presidential_campaign,\n",
            "        dbc:Presidency_of_Joe_Biden,\n",
            "        dbc:Works_about_Joe_Biden,\n",
            "        dbc:Works_by_Joe_Biden .\n",
            "\n",
            "\n"
          ]
        }
      ]
    },
    {
      "cell_type": "code",
      "source": [
        "from IPython.display import display\n",
        "from io import BytesIO\n",
        "from PIL import Image\n",
        "import requests\n",
        "\n",
        "sparql = SPARQLWrapper('https://dbpedia.org/sparql')\n",
        "\n",
        "instruments = ['John_Cena']\n",
        "\n",
        "for instrument in instruments:\n",
        "    #print('###########################################')\n",
        "    sparql.setQuery(f'''\n",
        "    SELECT ?name ?comment ?image\n",
        "    WHERE {{ dbr:{instrument} rdfs:label ?name.\n",
        "             dbr:{instrument} rdfs:comment ?comment.\n",
        "             dbr:{instrument} dbo:thumbnail ?image.\n",
        "    \n",
        "        FILTER (lang(?name) = 'en')\n",
        "        FILTER (lang(?comment) = 'en')\n",
        "    }}''')\n",
        "\n",
        "    sparql.setReturnFormat(JSON)\n",
        "    qres = sparql.query().convert()\n",
        "    \n",
        "    result = qres['results']['bindings'][0]\n",
        "    name, comment, image_url = result['name']['value'], result['comment']['value'], result['image']['value']\n",
        "\n",
        "    print(name)\n",
        "    print(comment)"
      ],
      "metadata": {
        "colab": {
          "base_uri": "https://localhost:8080/"
        },
        "id": "XbuAFVvWbExC",
        "outputId": "8e50e33b-591d-44e6-a130-afb60e157fe3"
      },
      "execution_count": null,
      "outputs": [
        {
          "output_type": "stream",
          "name": "stdout",
          "text": [
            "John Cena\n",
            "John Felix Anthony Cena (/ˈsiːnə/ SEE-nə; born April 23, 1977) is an American professional wrestler, actor, and former rapper. He is currently signed to WWE. Widely regarded as one of the greatest professional wrestlers of all time, he is tied with Ric Flair for the most world championship reigns in professional wrestling history.\n"
          ]
        }
      ]
    },
    {
      "cell_type": "code",
      "source": [
        "df=comment"
      ],
      "metadata": {
        "id": "r9GZGX6GnHqF"
      },
      "execution_count": null,
      "outputs": []
    },
    {
      "cell_type": "code",
      "source": [
        "\n",
        "from nltk.corpus import stopwords\n",
        "import numpy as np\n",
        "import pandas\n",
        "import nltk\n",
        "nltk.download('punkt')\n",
        "nltk.download('stopwords')\n",
        "import re"
      ],
      "metadata": {
        "id": "fLVIhooUnKK6",
        "colab": {
          "base_uri": "https://localhost:8080/"
        },
        "outputId": "9bb8450d-a57e-4f60-acdb-3196e67451c0"
      },
      "execution_count": null,
      "outputs": [
        {
          "output_type": "stream",
          "name": "stderr",
          "text": [
            "[nltk_data] Downloading package punkt to /root/nltk_data...\n",
            "[nltk_data]   Package punkt is already up-to-date!\n",
            "[nltk_data] Downloading package stopwords to /root/nltk_data...\n",
            "[nltk_data]   Unzipping corpora/stopwords.zip.\n"
          ]
        }
      ]
    },
    {
      "cell_type": "code",
      "source": [
        "from nltk.tokenize import sent_tokenize\n",
        "s = \"\"\n",
        "for a in df:\n",
        "      s += a\n",
        "sentences = sent_tokenize(s)"
      ],
      "metadata": {
        "id": "DbO4Z2rtnQH2"
      },
      "execution_count": null,
      "outputs": []
    },
    {
      "cell_type": "code",
      "source": [
        "sentences"
      ],
      "metadata": {
        "colab": {
          "base_uri": "https://localhost:8080/"
        },
        "id": "73JCtGGsnWd3",
        "outputId": "0f6ed4c9-06c6-4252-e947-3d54d5da49db"
      },
      "execution_count": null,
      "outputs": [
        {
          "output_type": "execute_result",
          "data": {
            "text/plain": [
              "['John Felix Anthony Cena (/ˈsiːnə/ SEE-nə; born April 23, 1977) is an American professional wrestler, actor, and former rapper.',\n",
              " 'He is currently signed to WWE.',\n",
              " 'Widely regarded as one of the greatest professional wrestlers of all time, he is tied with Ric Flair for the most world championship reigns in professional wrestling history.']"
            ]
          },
          "metadata": {},
          "execution_count": 15
        }
      ]
    },
    {
      "cell_type": "code",
      "source": [],
      "metadata": {
        "id": "SXSkDL9jnnTf"
      },
      "execution_count": null,
      "outputs": []
    },
    {
      "cell_type": "code",
      "source": [
        "dict = {}\n",
        "text=\"\"\n",
        "for a in sentences:\n",
        "    temp = re.sub(\"[^a-zA-Z]\",\" \",a)\n",
        "    temp = temp.lower()\n",
        "    dict[temp] = a\n",
        "    text+=temp"
      ],
      "metadata": {
        "id": "QOWNyjCYna28"
      },
      "execution_count": null,
      "outputs": []
    },
    {
      "cell_type": "code",
      "source": [
        "text"
      ],
      "metadata": {
        "colab": {
          "base_uri": "https://localhost:8080/",
          "height": 53
        },
        "id": "V0EWOaO9nhHa",
        "outputId": "2402121a-01c8-496e-ccfa-60f44a86045e"
      },
      "execution_count": null,
      "outputs": [
        {
          "output_type": "execute_result",
          "data": {
            "text/plain": [
              "'john felix anthony cena    si n   see n   born april           is an american professional wrestler  actor  and former rapper he is currently signed to wwe widely regarded as one of the greatest professional wrestlers of all time  he is tied with ric flair for the most world championship reigns in professional wrestling history '"
            ],
            "application/vnd.google.colaboratory.intrinsic+json": {
              "type": "string"
            }
          },
          "metadata": {},
          "execution_count": 17
        }
      ]
    },
    {
      "cell_type": "code",
      "source": [
        "stopwords = nltk.corpus.stopwords.words('english')\n",
        "word_frequencies = {}\n",
        "for word in nltk.word_tokenize(text):\n",
        "    if word not in stopwords:\n",
        "        if word not in word_frequencies.keys():\n",
        "            word_frequencies[word] = 1\n",
        "        else:\n",
        "            word_frequencies[word] += 1\n",
        "print (len(word_frequencies))"
      ],
      "metadata": {
        "colab": {
          "base_uri": "https://localhost:8080/"
        },
        "id": "N-PKrPL7noTR",
        "outputId": "e2e1ab22-933f-4372-8acd-24764a478ea3"
      },
      "execution_count": null,
      "outputs": [
        {
          "output_type": "stream",
          "name": "stdout",
          "text": [
            "32\n"
          ]
        }
      ]
    },
    {
      "cell_type": "code",
      "source": [
        "max_freq = max(word_frequencies.values())\n",
        "\n",
        "for w in word_frequencies :\n",
        "      word_frequencies[w]/=max_freq\n",
        "print (word_frequencies)"
      ],
      "metadata": {
        "colab": {
          "base_uri": "https://localhost:8080/"
        },
        "id": "-k0kC1z8nuuq",
        "outputId": "8b07c9b5-ccba-437c-dad1-44de47015557"
      },
      "execution_count": null,
      "outputs": [
        {
          "output_type": "stream",
          "name": "stdout",
          "text": [
            "{'john': 0.3333333333333333, 'felix': 0.3333333333333333, 'anthony': 0.3333333333333333, 'cena': 0.3333333333333333, 'si': 0.3333333333333333, 'n': 0.6666666666666666, 'see': 0.3333333333333333, 'born': 0.3333333333333333, 'april': 0.3333333333333333, 'american': 0.3333333333333333, 'professional': 1.0, 'wrestler': 0.3333333333333333, 'actor': 0.3333333333333333, 'former': 0.3333333333333333, 'rapper': 0.3333333333333333, 'currently': 0.3333333333333333, 'signed': 0.3333333333333333, 'wwe': 0.3333333333333333, 'widely': 0.3333333333333333, 'regarded': 0.3333333333333333, 'one': 0.3333333333333333, 'greatest': 0.3333333333333333, 'wrestlers': 0.3333333333333333, 'time': 0.3333333333333333, 'tied': 0.3333333333333333, 'ric': 0.3333333333333333, 'flair': 0.3333333333333333, 'world': 0.3333333333333333, 'championship': 0.3333333333333333, 'reigns': 0.3333333333333333, 'wrestling': 0.3333333333333333, 'history': 0.3333333333333333}\n"
          ]
        }
      ]
    },
    {
      "cell_type": "code",
      "source": [
        "sentence_scores = {}\n",
        "for sent in sentences:\n",
        "    for word in nltk.word_tokenize(sent.lower()):\n",
        "        if word in word_frequencies.keys():\n",
        "            if len(sent.split(' ')) < 30:\n",
        "                if sent not in sentence_scores.keys():\n",
        "                    sentence_scores[sent] = word_frequencies[word]\n",
        "                else:\n",
        "                    sentence_scores[sent] += word_frequencies[word]"
      ],
      "metadata": {
        "id": "hEmkhUN9n3Si"
      },
      "execution_count": null,
      "outputs": []
    },
    {
      "cell_type": "code",
      "source": [
        "import heapq\n",
        "summary_sentences = heapq.nlargest(2, sentence_scores, key=sentence_scores.get)\n",
        "summary = ' '.join(summary_sentences)\n",
        "print(name)\n",
        "print(summary)"
      ],
      "metadata": {
        "colab": {
          "base_uri": "https://localhost:8080/"
        },
        "id": "o6N9JDCNn8II",
        "outputId": "8072c912-5bb7-4b94-9f9d-58a38f22675d"
      },
      "execution_count": null,
      "outputs": [
        {
          "output_type": "stream",
          "name": "stdout",
          "text": [
            "John Cena\n",
            "Widely regarded as one of the greatest professional wrestlers of all time, he is tied with Ric Flair for the most world championship reigns in professional wrestling history. John Felix Anthony Cena (/ˈsiːnə/ SEE-nə; born April 23, 1977) is an American professional wrestler, actor, and former rapper.\n"
          ]
        }
      ]
    }
  ]
}