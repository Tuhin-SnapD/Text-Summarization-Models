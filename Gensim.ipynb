{
  "nbformat": 4,
  "nbformat_minor": 0,
  "metadata": {
    "colab": {
      "provenance": []
    },
    "kernelspec": {
      "name": "python3",
      "display_name": "Python 3"
    },
    "language_info": {
      "name": "python"
    }
  },
  "cells": [
    {
      "cell_type": "code",
      "execution_count": null,
      "metadata": {
        "colab": {
          "base_uri": "https://localhost:8080/"
        },
        "id": "GCuLwSxIoXUz",
        "outputId": "f402d193-9e15-4174-ad77-5c8681838d20"
      },
      "outputs": [
        {
          "output_type": "stream",
          "name": "stderr",
          "text": [
            "WARNING:gensim.summarization.summarizer:Input text is expected to have at least 10 sentences.\n",
            "WARNING:gensim.summarization.summarizer:Input corpus is expected to have at least 10 documents.\n",
            "WARNING:gensim.summarization.summarizer:Input text is expected to have at least 10 sentences.\n",
            "WARNING:gensim.summarization.summarizer:Input corpus is expected to have at least 10 documents.\n"
          ]
        },
        {
          "output_type": "stream",
          "name": "stdout",
          "text": [
            "Percent summary\n",
            "All India Majlis-e-Ittehadul Muslimeen (AIMIM) chief Asaduddin Owaisi on Tuesday slammed Rajasthan chief minister Ashok Gehlot over the killing of two men Nasir and Junaid who were allegedly abducted from Bharatpur in Rajasthan and their bodies found in a charred state in Bhiwani.\n",
            "Owaisi had alleged that the Rajasthan government delayed in acting on the missing complaint filed by the family of the two men which allowed the accused to flee the state.\n",
            "Had the Rajasthan government taken immediate action on the missing complaint related to Junaid and Nasir, then they (abductors) would have not been able to cross the Rajasthan border, PTI quoted Owaisi.\n",
            "A senior police officer had said that preliminary interrogation of the arrested accused Rinku Saini from Nuh district had pointed to cow vigilantism as the reason behind the killing.\n",
            "The Rajasthan Police on Tuesday identified eight people other than the one arrested, for their alleged involvement in the case.\n",
            "Rajasthan director general of police (DGP) Umesh Mishra said there is suspicion on other people who might be involved in the case in some way or the other.\n",
            "Word count summary\n",
            "All India Majlis-e-Ittehadul Muslimeen (AIMIM) chief Asaduddin Owaisi on Tuesday slammed Rajasthan chief minister Ashok Gehlot over the killing of two men Nasir and Junaid who were allegedly abducted from Bharatpur in Rajasthan and their bodies found in a charred state in Bhiwani.\n",
            "Owaisi had alleged that the Rajasthan government delayed in acting on the missing complaint filed by the family of the two men which allowed the accused to flee the state.\n",
            "The Rajasthan Police on Tuesday identified eight people other than the one arrested, for their alleged involvement in the case.\n"
          ]
        }
      ],
      "source": [
        "from gensim.summarization.summarizer import summarize\n",
        "from gensim.summarization import keywords\n",
        "\n",
        "q =\"All India Majlis-e-Ittehadul Muslimeen (AIMIM) chief Asaduddin Owaisi on Tuesday slammed Rajasthan chief minister Ashok Gehlot over the killing of two men Nasir and Junaid who were allegedly abducted from Bharatpur in Rajasthan and their bodies found in a charred state in Bhiwani. “BREAKING: Exclusive photo of @ashokgehlot51 meeting Junaid’s & Nasir’s family”, Owaisi said while tweeting a blank image. Owaisi had alleged that the Rajasthan government delayed in acting on the missing complaint filed by the family of the two men which allowed the accused to flee the state. Had the Rajasthan government taken immediate action on the missing complaint related to Junaid and Nasir, then they (abductors) would have not been able to cross the Rajasthan border, PTI quoted Owaisi. A senior police officer had said that preliminary interrogation of the arrested accused Rinku Saini from Nuh district had pointed to cow vigilantism as the reason behind the killing. On Monday, the families of Nasir and Junaid had staged a sit-in protest in Bharatpur demanding justice. The Rajasthan Police on Tuesday identified eight people other than the one arrested, for their alleged involvement in the case. Rajasthan director general of police (DGP) Umesh Mishra said there is suspicion on other people who might be involved in the case in some way or the other. Raids are underway to arrested the eight other accused.\"\n",
        "summ_per = summarize(q, ratio = 0.7)\n",
        "print(\"Percent summary\")\n",
        "print(summ_per)\n",
        "\n",
        "# Summary (200 words)\n",
        "summ_words = summarize(q, word_count = 100)\n",
        "print(\"Word count summary\")\n",
        "print(summ_words)\n"
      ]
    }
  ]
}