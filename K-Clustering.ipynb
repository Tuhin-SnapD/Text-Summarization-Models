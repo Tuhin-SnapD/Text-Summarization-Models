{
  "cells": [
    {
      "cell_type": "code",
      "execution_count": 11,
      "id": "4506f811",
      "metadata": {
        "execution": {
          "iopub.execute_input": "2023-02-09T14:32:56.973476Z",
          "iopub.status.busy": "2023-02-09T14:32:56.973052Z",
          "iopub.status.idle": "2023-02-09T14:32:59.226394Z",
          "shell.execute_reply": "2023-02-09T14:32:59.223993Z"
        },
        "papermill": {
          "duration": 2.268235,
          "end_time": "2023-02-09T14:32:59.231610",
          "exception": false,
          "start_time": "2023-02-09T14:32:56.963375",
          "status": "completed"
        },
        "tags": [],
        "id": "4506f811"
      },
      "outputs": [],
      "source": [
        "import numpy as np\n",
        "import matplotlib.pyplot as plt\n",
        "from sklearn.feature_extraction.text import TfidfVectorizer\n",
        "from sklearn.cluster import KMeans\n",
        "import pandas as pd\n",
        "import re\n",
        "import nltk\n",
        "from nltk import word_tokenize\n",
        "from textblob import TextBlob\n",
        "import string\n",
        "from string import punctuation\n",
        "from nltk.corpus import stopwords\n",
        "from statistics import mean\n",
        "from heapq import nlargest\n",
        "from wordcloud import WordCloud"
      ]
    },
    {
      "cell_type": "code",
      "execution_count": 12,
      "id": "847f35b7",
      "metadata": {
        "execution": {
          "iopub.execute_input": "2023-02-09T14:32:59.587779Z",
          "iopub.status.busy": "2023-02-09T14:32:59.587317Z",
          "iopub.status.idle": "2023-02-09T14:32:59.593689Z",
          "shell.execute_reply": "2023-02-09T14:32:59.591758Z"
        },
        "papermill": {
          "duration": 0.020734,
          "end_time": "2023-02-09T14:32:59.597125",
          "exception": false,
          "start_time": "2023-02-09T14:32:59.576391",
          "status": "completed"
        },
        "tags": [],
        "id": "847f35b7"
      },
      "outputs": [],
      "source": [
        "article = \"\"\"India's Health Ministry has announced that the country's COVID-19 vaccination drive will now be expanded to include people over the age of 60 and those over 45 with co-morbidities. The move is expected to cover an additional 270 million people, making it one of the largest vaccination drives in the world.The decision was taken after a meeting of the National Expert Group on Vaccine Administration for COVID-19 (NEGVAC), which recommended the expansion of the vaccination program. The NEGVAC also suggested that private hospitals may be allowed to administer the vaccine, although the details of this are yet to be finalized.India began its vaccination drive in mid-January, starting with healthcare and frontline workers. Since then, over 13 million doses have been administered across the country. However, the pace of the vaccination drive has been slower than expected, with concerns raised over vaccine hesitancy and logistical challenges.The expansion of the vaccination drive to include the elderly and those with co-morbidities is a major step towards achieving herd immunity and controlling the spread of the virus in India. The Health Ministry has also urged eligible individuals to come forward and get vaccinated at the earliest.India has reported over 11 million cases of COVID-19, making it the second-worst affected country in the world after the United States. The country's daily case count has been declining in recent weeks, but experts have warned that the pandemic is far from over and that precautions need to be maintained.\n",
        "In summary, India's Health Ministry has announced that the country's COVID-19 vaccination drive will be expanded to include people over 60 and those over 45 with co-morbidities, covering an additional 270 million people. The decision was taken after a meeting of the National Expert Group on Vaccine Administration for COVID-19, and is a major step towards achieving herd immunity and controlling the spread of the virus in India.\"\"\""
      ]
    },
    {
      "cell_type": "code",
      "execution_count": 13,
      "id": "deb489cd",
      "metadata": {
        "execution": {
          "iopub.execute_input": "2023-02-09T14:32:59.617465Z",
          "iopub.status.busy": "2023-02-09T14:32:59.617012Z",
          "iopub.status.idle": "2023-02-09T14:32:59.626194Z",
          "shell.execute_reply": "2023-02-09T14:32:59.624553Z"
        },
        "papermill": {
          "duration": 0.023138,
          "end_time": "2023-02-09T14:32:59.629283",
          "exception": false,
          "start_time": "2023-02-09T14:32:59.606145",
          "status": "completed"
        },
        "tags": [],
        "id": "deb489cd",
        "outputId": "6235e37c-01b0-46bb-ed81-68551e493529",
        "colab": {
          "base_uri": "https://localhost:8080/"
        }
      },
      "outputs": [
        {
          "output_type": "execute_result",
          "data": {
            "text/plain": [
              "310"
            ]
          },
          "metadata": {},
          "execution_count": 13
        }
      ],
      "source": [
        "len(article.split())"
      ]
    },
    {
      "cell_type": "code",
      "execution_count": 14,
      "id": "c9c41003",
      "metadata": {
        "execution": {
          "iopub.execute_input": "2023-02-09T14:32:59.650419Z",
          "iopub.status.busy": "2023-02-09T14:32:59.649992Z",
          "iopub.status.idle": "2023-02-09T14:32:59.656266Z",
          "shell.execute_reply": "2023-02-09T14:32:59.655209Z"
        },
        "papermill": {
          "duration": 0.019632,
          "end_time": "2023-02-09T14:32:59.658946",
          "exception": false,
          "start_time": "2023-02-09T14:32:59.639314",
          "status": "completed"
        },
        "tags": [],
        "id": "c9c41003"
      },
      "outputs": [],
      "source": [
        "keep = string.ascii_letters + string.digits + \" \" + \".\"\n",
        "article = article.translate(str.maketrans(\"\", \"\", string.punctuation.replace(\".\", \"\")))"
      ]
    },
    {
      "cell_type": "code",
      "execution_count": 15,
      "id": "a2b72308",
      "metadata": {
        "execution": {
          "iopub.execute_input": "2023-02-09T14:32:59.678678Z",
          "iopub.status.busy": "2023-02-09T14:32:59.678181Z",
          "iopub.status.idle": "2023-02-09T14:32:59.684437Z",
          "shell.execute_reply": "2023-02-09T14:32:59.682998Z"
        },
        "papermill": {
          "duration": 0.019828,
          "end_time": "2023-02-09T14:32:59.687518",
          "exception": false,
          "start_time": "2023-02-09T14:32:59.667690",
          "status": "completed"
        },
        "tags": [],
        "id": "a2b72308"
      },
      "outputs": [],
      "source": [
        "# Converting to lowercase\n",
        "article = article.lower()"
      ]
    },
    {
      "cell_type": "code",
      "execution_count": 16,
      "id": "81511c19",
      "metadata": {
        "execution": {
          "iopub.execute_input": "2023-02-09T14:32:59.707083Z",
          "iopub.status.busy": "2023-02-09T14:32:59.706583Z",
          "iopub.status.idle": "2023-02-09T14:32:59.712723Z",
          "shell.execute_reply": "2023-02-09T14:32:59.711252Z"
        },
        "papermill": {
          "duration": 0.019356,
          "end_time": "2023-02-09T14:32:59.715682",
          "exception": false,
          "start_time": "2023-02-09T14:32:59.696326",
          "status": "completed"
        },
        "tags": [],
        "id": "81511c19"
      },
      "outputs": [],
      "source": [
        "# Removing the '\\xa0'\n",
        "article = article.replace(\"\\xa0\", \" \")"
      ]
    },
    {
      "cell_type": "code",
      "execution_count": 17,
      "id": "8c210f94",
      "metadata": {
        "execution": {
          "iopub.execute_input": "2023-02-09T14:32:59.736834Z",
          "iopub.status.busy": "2023-02-09T14:32:59.735666Z",
          "iopub.status.idle": "2023-02-09T14:32:59.745373Z",
          "shell.execute_reply": "2023-02-09T14:32:59.743611Z"
        },
        "papermill": {
          "duration": 0.023932,
          "end_time": "2023-02-09T14:32:59.748720",
          "exception": false,
          "start_time": "2023-02-09T14:32:59.724788",
          "status": "completed"
        },
        "tags": [],
        "id": "8c210f94"
      },
      "outputs": [],
      "source": [
        "# Removing the HTML\n",
        "article = re.sub('<.*?>', '', article)\n",
        "\n",
        "# Removing the email ids\n",
        "article = re.sub(r'\\S+@\\S+', '', article)\n",
        "\n",
        "# Removing The URLS\n",
        "article = re.sub(\"((http\\://|https\\://|ftp\\://)|(www.))+(([a-zA-Z0-9\\.-]+\\.[a-zA-Z]{2,4})|([0-9]{1,3}\\.[0-9]{1,3}\\.[0-9]{1,3}\\.[0-9]{1,3}))(/[a-zA-Z0-9%:/-_\\?\\.'~]*)?\",'', article)\n"
      ]
    },
    {
      "cell_type": "code",
      "execution_count": 18,
      "id": "265f46c8",
      "metadata": {
        "execution": {
          "iopub.execute_input": "2023-02-09T14:32:59.768408Z",
          "iopub.status.busy": "2023-02-09T14:32:59.767945Z",
          "iopub.status.idle": "2023-02-09T14:32:59.776367Z",
          "shell.execute_reply": "2023-02-09T14:32:59.774906Z"
        },
        "papermill": {
          "duration": 0.022162,
          "end_time": "2023-02-09T14:32:59.779618",
          "exception": false,
          "start_time": "2023-02-09T14:32:59.757456",
          "status": "completed"
        },
        "tags": [],
        "id": "265f46c8",
        "outputId": "ff0357f5-3865-43e9-9fb1-ab68a35614b1",
        "colab": {
          "base_uri": "https://localhost:8080/",
          "height": 123
        }
      },
      "outputs": [
        {
          "output_type": "execute_result",
          "data": {
            "text/plain": [
              "'indias health ministry has announced that the countrys covid19 vaccination drive will now be expanded to include people over the age of 60 and those over 45 with comorbidities. the move is expected to cover an additional 270 million people making it one of the largest vaccination drives in the world.the decision was taken after a meeting of the national expert group on vaccine administration for covid19 negvac which recommended the expansion of the vaccination program. the negvac also suggested that private hospitals may be allowed to administer the vaccine although the details of this are yet to be finalized.india began its vaccination drive in midjanuary starting with healthcare and frontline workers. since then over 13 million doses have been administered across the country. however the pace of the vaccination drive has been slower than expected with concerns raised over vaccine hesitancy and logistical challenges.the expansion of the vaccination drive to include the elderly and those with comorbidities is a major step towards achieving herd immunity and controlling the spread of the virus in india. the health ministry has also urged eligible individuals to come forward and get vaccinated at the earliest.india has reported over 11 million cases of covid19 making it the secondworst affected country in the world after the united states. the countrys daily case count has been declining in recent weeks but experts have warned that the pandemic is far from over and that precautions need to be maintained.\\nin summary indias health ministry has announced that the countrys covid19 vaccination drive will be expanded to include people over 60 and those over 45 with comorbidities covering an additional 270 million people. the decision was taken after a meeting of the national expert group on vaccine administration for covid19 and is a major step towards achieving herd immunity and controlling the spread of the virus in india.'"
            ],
            "application/vnd.google.colaboratory.intrinsic+json": {
              "type": "string"
            }
          },
          "metadata": {},
          "execution_count": 18
        }
      ],
      "source": [
        "article"
      ]
    },
    {
      "cell_type": "code",
      "execution_count": 20,
      "id": "2e89e01e",
      "metadata": {
        "execution": {
          "iopub.execute_input": "2023-02-09T14:32:59.801190Z",
          "iopub.status.busy": "2023-02-09T14:32:59.800736Z",
          "iopub.status.idle": "2023-02-09T14:32:59.826099Z",
          "shell.execute_reply": "2023-02-09T14:32:59.823866Z"
        },
        "papermill": {
          "duration": 0.03937,
          "end_time": "2023-02-09T14:32:59.829379",
          "exception": false,
          "start_time": "2023-02-09T14:32:59.790009",
          "status": "completed"
        },
        "tags": [],
        "id": "2e89e01e",
        "outputId": "bfc723dd-e03f-4467-b9bd-d68a325efa0e",
        "colab": {
          "base_uri": "https://localhost:8080/"
        }
      },
      "outputs": [
        {
          "output_type": "stream",
          "name": "stderr",
          "text": [
            "[nltk_data] Downloading package punkt to /root/nltk_data...\n",
            "[nltk_data]   Unzipping tokenizers/punkt.zip.\n"
          ]
        },
        {
          "output_type": "stream",
          "name": "stdout",
          "text": [
            "['indias health ministry has announced that the countrys covid19 vaccination drive will now be expanded to include people over the age of 60 and those over 45 with comorbidities.', 'the move is expected to cover an additional 270 million people making it one of the largest vaccination drives in the world.the decision was taken after a meeting of the national expert group on vaccine administration for covid19 negvac which recommended the expansion of the vaccination program.', 'the negvac also suggested that private hospitals may be allowed to administer the vaccine although the details of this are yet to be finalized.india began its vaccination drive in midjanuary starting with healthcare and frontline workers.', 'since then over 13 million doses have been administered across the country.', 'however the pace of the vaccination drive has been slower than expected with concerns raised over vaccine hesitancy and logistical challenges.the expansion of the vaccination drive to include the elderly and those with comorbidities is a major step towards achieving herd immunity and controlling the spread of the virus in india.', 'the health ministry has also urged eligible individuals to come forward and get vaccinated at the earliest.india has reported over 11 million cases of covid19 making it the secondworst affected country in the world after the united states.', 'the countrys daily case count has been declining in recent weeks but experts have warned that the pandemic is far from over and that precautions need to be maintained.', 'in summary indias health ministry has announced that the countrys covid19 vaccination drive will be expanded to include people over 60 and those over 45 with comorbidities covering an additional 270 million people.', 'the decision was taken after a meeting of the national expert group on vaccine administration for covid19 and is a major step towards achieving herd immunity and controlling the spread of the virus in india.']\n"
          ]
        }
      ],
      "source": [
        "#convert article to list of sentences\n",
        "\n",
        "import nltk\n",
        "nltk.download('punkt')\n",
        "from nltk.tokenize import sent_tokenize\n",
        "\n",
        "text = sent_tokenize(article)\n",
        "print(text)"
      ]
    },
    {
      "cell_type": "code",
      "execution_count": 21,
      "id": "905f0bb3",
      "metadata": {
        "execution": {
          "iopub.execute_input": "2023-02-09T14:32:59.850720Z",
          "iopub.status.busy": "2023-02-09T14:32:59.850209Z",
          "iopub.status.idle": "2023-02-09T14:32:59.858579Z",
          "shell.execute_reply": "2023-02-09T14:32:59.857121Z"
        },
        "papermill": {
          "duration": 0.022313,
          "end_time": "2023-02-09T14:32:59.861606",
          "exception": false,
          "start_time": "2023-02-09T14:32:59.839293",
          "status": "completed"
        },
        "tags": [],
        "id": "905f0bb3",
        "outputId": "9e75acab-0804-440d-81dc-7789f94d2a10",
        "colab": {
          "base_uri": "https://localhost:8080/"
        }
      },
      "outputs": [
        {
          "output_type": "execute_result",
          "data": {
            "text/plain": [
              "9"
            ]
          },
          "metadata": {},
          "execution_count": 21
        }
      ],
      "source": [
        "len(text)"
      ]
    },
    {
      "cell_type": "code",
      "execution_count": 22,
      "id": "d9f8cc7b",
      "metadata": {
        "execution": {
          "iopub.execute_input": "2023-02-09T14:32:59.882186Z",
          "iopub.status.busy": "2023-02-09T14:32:59.881721Z",
          "iopub.status.idle": "2023-02-09T14:33:01.502547Z",
          "shell.execute_reply": "2023-02-09T14:33:01.500593Z"
        },
        "papermill": {
          "duration": 1.637965,
          "end_time": "2023-02-09T14:33:01.508849",
          "exception": false,
          "start_time": "2023-02-09T14:32:59.870884",
          "status": "completed"
        },
        "tags": [],
        "id": "d9f8cc7b",
        "outputId": "785fe9fa-9c7a-4d93-c277-ee4b501f2c7c",
        "colab": {
          "base_uri": "https://localhost:8080/",
          "height": 350
        }
      },
      "outputs": [
        {
          "output_type": "stream",
          "name": "stderr",
          "text": [
            "/usr/local/lib/python3.9/dist-packages/sklearn/cluster/_kmeans.py:870: FutureWarning: The default value of `n_init` will change from 10 to 'auto' in 1.4. Set the value of `n_init` explicitly to suppress the warning\n",
            "  warnings.warn(\n"
          ]
        },
        {
          "output_type": "display_data",
          "data": {
            "text/plain": [
              "<Figure size 432x288 with 1 Axes>"
            ],
            "image/png": "[encoded data removed]"
          },
          "metadata": {
            "needs_background": "light"
          }
        }
      ],
      "source": [
        "max_clusters = len(text)\n",
        "vectorizer = TfidfVectorizer()\n",
        "X = vectorizer.fit_transform(text)\n",
        "    \n",
        "# Determine the optimal number of clusters using the elbow method\n",
        "sum_of_squared_distances = []\n",
        "for num_clusters in range(1, max_clusters+1):\n",
        "    kmeans = KMeans(n_clusters=num_clusters, random_state=0)\n",
        "    kmeans = kmeans.fit(X)\n",
        "    sum_of_squared_distances.append(kmeans.inertia_)\n",
        "\n",
        "plt.plot(range(1, max_clusters+1), sum_of_squared_distances, 'bx-')\n",
        "plt.xlabel('Number of Clusters')\n",
        "plt.ylabel('Sum of Squared Distances')\n",
        "plt.title('Elbow Method to Determine Optimal Number of Clusters')\n",
        "plt.show()"
      ]
    },
    {
      "cell_type": "code",
      "execution_count": 23,
      "id": "6244217a",
      "metadata": {
        "execution": {
          "iopub.execute_input": "2023-02-09T14:33:01.537852Z",
          "iopub.status.busy": "2023-02-09T14:33:01.537042Z",
          "iopub.status.idle": "2023-02-09T14:33:01.672377Z",
          "shell.execute_reply": "2023-02-09T14:33:01.671310Z"
        },
        "papermill": {
          "duration": 0.152764,
          "end_time": "2023-02-09T14:33:01.675338",
          "exception": false,
          "start_time": "2023-02-09T14:33:01.522574",
          "status": "completed"
        },
        "tags": [],
        "id": "6244217a"
      },
      "outputs": [],
      "source": [
        "num_clusters = 7\n",
        "\n",
        "vectorizer = TfidfVectorizer()\n",
        "X = vectorizer.fit_transform(text)\n",
        "\n",
        "# Perform K-means clustering\n",
        "kmeans = KMeans(n_clusters=num_clusters, random_state=0)\n",
        "clusters = kmeans.fit_predict(X)\n",
        "\n",
        "# Assign each sentence to a cluster\n",
        "labels = kmeans.labels_\n",
        "\n",
        "# Create a summary by selecting one sentence from each cluster\n",
        "summary = []\n",
        "for i in range(num_clusters):\n",
        "    cluster_sentences = [text[j] for j in range(len(text)) if labels[j] == i]\n",
        "    summary.append(cluster_sentences[0])"
      ]
    },
    {
      "cell_type": "code",
      "execution_count": 24,
      "id": "922e8634",
      "metadata": {
        "execution": {
          "iopub.execute_input": "2023-02-09T14:33:01.714457Z",
          "iopub.status.busy": "2023-02-09T14:33:01.712299Z",
          "iopub.status.idle": "2023-02-09T14:33:01.732201Z",
          "shell.execute_reply": "2023-02-09T14:33:01.729058Z"
        },
        "papermill": {
          "duration": 0.04282,
          "end_time": "2023-02-09T14:33:01.738584",
          "exception": false,
          "start_time": "2023-02-09T14:33:01.695764",
          "status": "completed"
        },
        "tags": [],
        "id": "922e8634",
        "outputId": "547e8267-e610-4a8c-bdb9-46d22cd56564",
        "colab": {
          "base_uri": "https://localhost:8080/"
        }
      },
      "outputs": [
        {
          "output_type": "execute_result",
          "data": {
            "text/plain": [
              "['the health ministry has also urged eligible individuals to come forward and get vaccinated at the earliest.india has reported over 11 million cases of covid19 making it the secondworst affected country in the world after the united states.',\n",
              " 'indias health ministry has announced that the countrys covid19 vaccination drive will now be expanded to include people over the age of 60 and those over 45 with comorbidities.',\n",
              " 'however the pace of the vaccination drive has been slower than expected with concerns raised over vaccine hesitancy and logistical challenges.the expansion of the vaccination drive to include the elderly and those with comorbidities is a major step towards achieving herd immunity and controlling the spread of the virus in india.',\n",
              " 'since then over 13 million doses have been administered across the country.',\n",
              " 'the countrys daily case count has been declining in recent weeks but experts have warned that the pandemic is far from over and that precautions need to be maintained.',\n",
              " 'the negvac also suggested that private hospitals may be allowed to administer the vaccine although the details of this are yet to be finalized.india began its vaccination drive in midjanuary starting with healthcare and frontline workers.',\n",
              " 'the move is expected to cover an additional 270 million people making it one of the largest vaccination drives in the world.the decision was taken after a meeting of the national expert group on vaccine administration for covid19 negvac which recommended the expansion of the vaccination program.']"
            ]
          },
          "metadata": {},
          "execution_count": 24
        }
      ],
      "source": [
        "summary"
      ]
    },
    {
      "cell_type": "code",
      "execution_count": 25,
      "id": "931fe188",
      "metadata": {
        "execution": {
          "iopub.execute_input": "2023-02-09T14:33:01.760989Z",
          "iopub.status.busy": "2023-02-09T14:33:01.760566Z",
          "iopub.status.idle": "2023-02-09T14:33:01.766500Z",
          "shell.execute_reply": "2023-02-09T14:33:01.765728Z"
        },
        "papermill": {
          "duration": 0.018683,
          "end_time": "2023-02-09T14:33:01.768394",
          "exception": false,
          "start_time": "2023-02-09T14:33:01.749711",
          "status": "completed"
        },
        "tags": [],
        "id": "931fe188",
        "outputId": "68ff45e1-cf5d-48bc-c3ff-6e65962b8b6f",
        "colab": {
          "base_uri": "https://localhost:8080/"
        }
      },
      "outputs": [
        {
          "output_type": "execute_result",
          "data": {
            "text/plain": [
              "7"
            ]
          },
          "metadata": {},
          "execution_count": 25
        }
      ],
      "source": [
        "len(summary)"
      ]
    },
    {
      "cell_type": "code",
      "execution_count": 26,
      "id": "5a92edde",
      "metadata": {
        "execution": {
          "iopub.execute_input": "2023-02-09T14:33:01.812293Z",
          "iopub.status.busy": "2023-02-09T14:33:01.807897Z",
          "iopub.status.idle": "2023-02-09T14:33:18.031745Z",
          "shell.execute_reply": "2023-02-09T14:33:18.029910Z"
        },
        "papermill": {
          "duration": 16.250365,
          "end_time": "2023-02-09T14:33:18.034922",
          "exception": false,
          "start_time": "2023-02-09T14:33:01.784557",
          "status": "completed"
        },
        "tags": [],
        "id": "5a92edde",
        "outputId": "f41fa4cd-e6d7-4758-9113-cd5e643197ab",
        "colab": {
          "base_uri": "https://localhost:8080/"
        }
      },
      "outputs": [
        {
          "output_type": "stream",
          "name": "stdout",
          "text": [
            "Looking in indexes: https://pypi.org/simple, https://us-python.pkg.dev/colab-wheels/public/simple/\n",
            "Collecting rouge\n",
            "  Downloading rouge-1.0.1-py3-none-any.whl (13 kB)\n",
            "Requirement already satisfied: six in /usr/local/lib/python3.9/dist-packages (from rouge) (1.15.0)\n",
            "Installing collected packages: rouge\n",
            "Successfully installed rouge-1.0.1\n"
          ]
        }
      ],
      "source": [
        "!pip install rouge"
      ]
    },
    {
      "cell_type": "code",
      "execution_count": 27,
      "id": "60cfc343",
      "metadata": {
        "execution": {
          "iopub.execute_input": "2023-02-09T14:33:18.058894Z",
          "iopub.status.busy": "2023-02-09T14:33:18.057775Z",
          "iopub.status.idle": "2023-02-09T14:33:18.066423Z",
          "shell.execute_reply": "2023-02-09T14:33:18.064298Z"
        },
        "papermill": {
          "duration": 0.024511,
          "end_time": "2023-02-09T14:33:18.070093",
          "exception": false,
          "start_time": "2023-02-09T14:33:18.045582",
          "status": "completed"
        },
        "tags": [],
        "id": "60cfc343"
      },
      "outputs": [],
      "source": [
        "import nltk\n",
        "from nltk.translate.bleu_score import sentence_bleu"
      ]
    },
    {
      "cell_type": "code",
      "execution_count": 28,
      "id": "d60ea785",
      "metadata": {
        "execution": {
          "iopub.execute_input": "2023-02-09T14:33:18.095828Z",
          "iopub.status.busy": "2023-02-09T14:33:18.095244Z",
          "iopub.status.idle": "2023-02-09T14:33:18.102329Z",
          "shell.execute_reply": "2023-02-09T14:33:18.100470Z"
        },
        "papermill": {
          "duration": 0.025982,
          "end_time": "2023-02-09T14:33:18.107030",
          "exception": false,
          "start_time": "2023-02-09T14:33:18.081048",
          "status": "completed"
        },
        "tags": [],
        "id": "d60ea785"
      },
      "outputs": [],
      "source": [
        "result = summary"
      ]
    },
    {
      "cell_type": "code",
      "execution_count": 29,
      "id": "749650a5",
      "metadata": {
        "execution": {
          "iopub.execute_input": "2023-02-09T14:33:18.131585Z",
          "iopub.status.busy": "2023-02-09T14:33:18.130986Z",
          "iopub.status.idle": "2023-02-09T14:33:18.138924Z",
          "shell.execute_reply": "2023-02-09T14:33:18.137074Z"
        },
        "papermill": {
          "duration": 0.024292,
          "end_time": "2023-02-09T14:33:18.142162",
          "exception": false,
          "start_time": "2023-02-09T14:33:18.117870",
          "status": "completed"
        },
        "tags": [],
        "id": "749650a5"
      },
      "outputs": [],
      "source": [
        "def list_to_string(strings):\n",
        "    \"\"\"\n",
        "    Converts a list of strings into a single string.\n",
        "    :param strings: List of strings.\n",
        "    :return: Single string.\n",
        "    \"\"\"\n",
        "    return \"\".join(strings)"
      ]
    },
    {
      "cell_type": "code",
      "execution_count": 30,
      "id": "adebe3ce",
      "metadata": {
        "execution": {
          "iopub.execute_input": "2023-02-09T14:33:18.165485Z",
          "iopub.status.busy": "2023-02-09T14:33:18.164785Z",
          "iopub.status.idle": "2023-02-09T14:33:18.170487Z",
          "shell.execute_reply": "2023-02-09T14:33:18.169256Z"
        },
        "papermill": {
          "duration": 0.021268,
          "end_time": "2023-02-09T14:33:18.173634",
          "exception": false,
          "start_time": "2023-02-09T14:33:18.152366",
          "status": "completed"
        },
        "tags": [],
        "id": "adebe3ce"
      },
      "outputs": [],
      "source": [
        "summary_text = list_to_string(result)"
      ]
    },
    {
      "cell_type": "code",
      "execution_count": 31,
      "id": "dafd9f0f",
      "metadata": {
        "execution": {
          "iopub.execute_input": "2023-02-09T14:33:18.197228Z",
          "iopub.status.busy": "2023-02-09T14:33:18.196751Z",
          "iopub.status.idle": "2023-02-09T14:33:18.202762Z",
          "shell.execute_reply": "2023-02-09T14:33:18.201284Z"
        },
        "papermill": {
          "duration": 0.021346,
          "end_time": "2023-02-09T14:33:18.205765",
          "exception": false,
          "start_time": "2023-02-09T14:33:18.184419",
          "status": "completed"
        },
        "tags": [],
        "id": "dafd9f0f"
      },
      "outputs": [],
      "source": [
        "def text_to_word_list(text):\n",
        "    return text.split()"
      ]
    },
    {
      "cell_type": "code",
      "execution_count": 32,
      "id": "5d329296",
      "metadata": {
        "execution": {
          "iopub.execute_input": "2023-02-09T14:33:18.228559Z",
          "iopub.status.busy": "2023-02-09T14:33:18.228031Z",
          "iopub.status.idle": "2023-02-09T14:33:18.233785Z",
          "shell.execute_reply": "2023-02-09T14:33:18.232345Z"
        },
        "papermill": {
          "duration": 0.021032,
          "end_time": "2023-02-09T14:33:18.237015",
          "exception": false,
          "start_time": "2023-02-09T14:33:18.215983",
          "status": "completed"
        },
        "tags": [],
        "id": "5d329296"
      },
      "outputs": [],
      "source": [
        "predicted_summary = text_to_word_list(summary_text)"
      ]
    },
    {
      "cell_type": "code",
      "execution_count": 33,
      "id": "00a36ee6",
      "metadata": {
        "execution": {
          "iopub.execute_input": "2023-02-09T14:33:18.261377Z",
          "iopub.status.busy": "2023-02-09T14:33:18.260861Z",
          "iopub.status.idle": "2023-02-09T14:33:18.274562Z",
          "shell.execute_reply": "2023-02-09T14:33:18.273173Z"
        },
        "papermill": {
          "duration": 0.029775,
          "end_time": "2023-02-09T14:33:18.277619",
          "exception": false,
          "start_time": "2023-02-09T14:33:18.247844",
          "status": "completed"
        },
        "tags": [],
        "id": "00a36ee6",
        "outputId": "07bef078-9c4e-4552-d801-8e51a5f02f70",
        "colab": {
          "base_uri": "https://localhost:8080/"
        }
      },
      "outputs": [
        {
          "output_type": "execute_result",
          "data": {
            "text/plain": [
              "['the',\n",
              " 'health',\n",
              " 'ministry',\n",
              " 'has',\n",
              " 'also',\n",
              " 'urged',\n",
              " 'eligible',\n",
              " 'individuals',\n",
              " 'to',\n",
              " 'come',\n",
              " 'forward',\n",
              " 'and',\n",
              " 'get',\n",
              " 'vaccinated',\n",
              " 'at',\n",
              " 'the',\n",
              " 'earliest.india',\n",
              " 'has',\n",
              " 'reported',\n",
              " 'over',\n",
              " '11',\n",
              " 'million',\n",
              " 'cases',\n",
              " 'of',\n",
              " 'covid19',\n",
              " 'making',\n",
              " 'it',\n",
              " 'the',\n",
              " 'secondworst',\n",
              " 'affected',\n",
              " 'country',\n",
              " 'in',\n",
              " 'the',\n",
              " 'world',\n",
              " 'after',\n",
              " 'the',\n",
              " 'united',\n",
              " 'states.indias',\n",
              " 'health',\n",
              " 'ministry',\n",
              " 'has',\n",
              " 'announced',\n",
              " 'that',\n",
              " 'the',\n",
              " 'countrys',\n",
              " 'covid19',\n",
              " 'vaccination',\n",
              " 'drive',\n",
              " 'will',\n",
              " 'now',\n",
              " 'be',\n",
              " 'expanded',\n",
              " 'to',\n",
              " 'include',\n",
              " 'people',\n",
              " 'over',\n",
              " 'the',\n",
              " 'age',\n",
              " 'of',\n",
              " '60',\n",
              " 'and',\n",
              " 'those',\n",
              " 'over',\n",
              " '45',\n",
              " 'with',\n",
              " 'comorbidities.however',\n",
              " 'the',\n",
              " 'pace',\n",
              " 'of',\n",
              " 'the',\n",
              " 'vaccination',\n",
              " 'drive',\n",
              " 'has',\n",
              " 'been',\n",
              " 'slower',\n",
              " 'than',\n",
              " 'expected',\n",
              " 'with',\n",
              " 'concerns',\n",
              " 'raised',\n",
              " 'over',\n",
              " 'vaccine',\n",
              " 'hesitancy',\n",
              " 'and',\n",
              " 'logistical',\n",
              " 'challenges.the',\n",
              " 'expansion',\n",
              " 'of',\n",
              " 'the',\n",
              " 'vaccination',\n",
              " 'drive',\n",
              " 'to',\n",
              " 'include',\n",
              " 'the',\n",
              " 'elderly',\n",
              " 'and',\n",
              " 'those',\n",
              " 'with',\n",
              " 'comorbidities',\n",
              " 'is',\n",
              " 'a',\n",
              " 'major',\n",
              " 'step',\n",
              " 'towards',\n",
              " 'achieving',\n",
              " 'herd',\n",
              " 'immunity',\n",
              " 'and',\n",
              " 'controlling',\n",
              " 'the',\n",
              " 'spread',\n",
              " 'of',\n",
              " 'the',\n",
              " 'virus',\n",
              " 'in',\n",
              " 'india.since',\n",
              " 'then',\n",
              " 'over',\n",
              " '13',\n",
              " 'million',\n",
              " 'doses',\n",
              " 'have',\n",
              " 'been',\n",
              " 'administered',\n",
              " 'across',\n",
              " 'the',\n",
              " 'country.the',\n",
              " 'countrys',\n",
              " 'daily',\n",
              " 'case',\n",
              " 'count',\n",
              " 'has',\n",
              " 'been',\n",
              " 'declining',\n",
              " 'in',\n",
              " 'recent',\n",
              " 'weeks',\n",
              " 'but',\n",
              " 'experts',\n",
              " 'have',\n",
              " 'warned',\n",
              " 'that',\n",
              " 'the',\n",
              " 'pandemic',\n",
              " 'is',\n",
              " 'far',\n",
              " 'from',\n",
              " 'over',\n",
              " 'and',\n",
              " 'that',\n",
              " 'precautions',\n",
              " 'need',\n",
              " 'to',\n",
              " 'be',\n",
              " 'maintained.the',\n",
              " 'negvac',\n",
              " 'also',\n",
              " 'suggested',\n",
              " 'that',\n",
              " 'private',\n",
              " 'hospitals',\n",
              " 'may',\n",
              " 'be',\n",
              " 'allowed',\n",
              " 'to',\n",
              " 'administer',\n",
              " 'the',\n",
              " 'vaccine',\n",
              " 'although',\n",
              " 'the',\n",
              " 'details',\n",
              " 'of',\n",
              " 'this',\n",
              " 'are',\n",
              " 'yet',\n",
              " 'to',\n",
              " 'be',\n",
              " 'finalized.india',\n",
              " 'began',\n",
              " 'its',\n",
              " 'vaccination',\n",
              " 'drive',\n",
              " 'in',\n",
              " 'midjanuary',\n",
              " 'starting',\n",
              " 'with',\n",
              " 'healthcare',\n",
              " 'and',\n",
              " 'frontline',\n",
              " 'workers.the',\n",
              " 'move',\n",
              " 'is',\n",
              " 'expected',\n",
              " 'to',\n",
              " 'cover',\n",
              " 'an',\n",
              " 'additional',\n",
              " '270',\n",
              " 'million',\n",
              " 'people',\n",
              " 'making',\n",
              " 'it',\n",
              " 'one',\n",
              " 'of',\n",
              " 'the',\n",
              " 'largest',\n",
              " 'vaccination',\n",
              " 'drives',\n",
              " 'in',\n",
              " 'the',\n",
              " 'world.the',\n",
              " 'decision',\n",
              " 'was',\n",
              " 'taken',\n",
              " 'after',\n",
              " 'a',\n",
              " 'meeting',\n",
              " 'of',\n",
              " 'the',\n",
              " 'national',\n",
              " 'expert',\n",
              " 'group',\n",
              " 'on',\n",
              " 'vaccine',\n",
              " 'administration',\n",
              " 'for',\n",
              " 'covid19',\n",
              " 'negvac',\n",
              " 'which',\n",
              " 'recommended',\n",
              " 'the',\n",
              " 'expansion',\n",
              " 'of',\n",
              " 'the',\n",
              " 'vaccination',\n",
              " 'program.']"
            ]
          },
          "metadata": {},
          "execution_count": 33
        }
      ],
      "source": [
        "predicted_summary"
      ]
    },
    {
      "cell_type": "code",
      "execution_count": 34,
      "id": "8e12b8f4",
      "metadata": {
        "execution": {
          "iopub.execute_input": "2023-02-09T14:33:18.301287Z",
          "iopub.status.busy": "2023-02-09T14:33:18.300828Z",
          "iopub.status.idle": "2023-02-09T14:33:18.307637Z",
          "shell.execute_reply": "2023-02-09T14:33:18.306020Z"
        },
        "papermill": {
          "duration": 0.022692,
          "end_time": "2023-02-09T14:33:18.310983",
          "exception": false,
          "start_time": "2023-02-09T14:33:18.288291",
          "status": "completed"
        },
        "tags": [],
        "id": "8e12b8f4"
      },
      "outputs": [],
      "source": [
        "def text_to_sentence_list(text):\n",
        "    import nltk\n",
        "    nltk.download('punkt')\n",
        "    from nltk.tokenize import sent_tokenize\n",
        "    return [sentence.split() for sentence in sent_tokenize(text)]"
      ]
    },
    {
      "cell_type": "code",
      "execution_count": 35,
      "id": "d81efb48",
      "metadata": {
        "execution": {
          "iopub.execute_input": "2023-02-09T14:33:18.334218Z",
          "iopub.status.busy": "2023-02-09T14:33:18.333758Z",
          "iopub.status.idle": "2023-02-09T14:33:18.707932Z",
          "shell.execute_reply": "2023-02-09T14:33:18.706525Z"
        },
        "papermill": {
          "duration": 0.389779,
          "end_time": "2023-02-09T14:33:18.711320",
          "exception": false,
          "start_time": "2023-02-09T14:33:18.321541",
          "status": "completed"
        },
        "tags": [],
        "id": "d81efb48",
        "outputId": "94b92173-ea9a-4dc7-fb4f-e433b1b69b1d",
        "colab": {
          "base_uri": "https://localhost:8080/"
        }
      },
      "outputs": [
        {
          "output_type": "stream",
          "name": "stderr",
          "text": [
            "[nltk_data] Downloading package punkt to /root/nltk_data...\n",
            "[nltk_data]   Package punkt is already up-to-date!\n"
          ]
        }
      ],
      "source": [
        "reference_summary = text_to_sentence_list(article)"
      ]
    },
    {
      "cell_type": "code",
      "execution_count": 36,
      "id": "b2d11818",
      "metadata": {
        "execution": {
          "iopub.execute_input": "2023-02-09T14:33:18.735317Z",
          "iopub.status.busy": "2023-02-09T14:33:18.734830Z",
          "iopub.status.idle": "2023-02-09T14:33:18.760292Z",
          "shell.execute_reply": "2023-02-09T14:33:18.758441Z"
        },
        "papermill": {
          "duration": 0.042168,
          "end_time": "2023-02-09T14:33:18.764378",
          "exception": false,
          "start_time": "2023-02-09T14:33:18.722210",
          "status": "completed"
        },
        "tags": [],
        "id": "b2d11818",
        "outputId": "6dbec50b-e491-43d2-a5b0-f59283a5d207",
        "colab": {
          "base_uri": "https://localhost:8080/"
        }
      },
      "outputs": [
        {
          "output_type": "execute_result",
          "data": {
            "text/plain": [
              "[['indias',\n",
              "  'health',\n",
              "  'ministry',\n",
              "  'has',\n",
              "  'announced',\n",
              "  'that',\n",
              "  'the',\n",
              "  'countrys',\n",
              "  'covid19',\n",
              "  'vaccination',\n",
              "  'drive',\n",
              "  'will',\n",
              "  'now',\n",
              "  'be',\n",
              "  'expanded',\n",
              "  'to',\n",
              "  'include',\n",
              "  'people',\n",
              "  'over',\n",
              "  'the',\n",
              "  'age',\n",
              "  'of',\n",
              "  '60',\n",
              "  'and',\n",
              "  'those',\n",
              "  'over',\n",
              "  '45',\n",
              "  'with',\n",
              "  'comorbidities.'],\n",
              " ['the',\n",
              "  'move',\n",
              "  'is',\n",
              "  'expected',\n",
              "  'to',\n",
              "  'cover',\n",
              "  'an',\n",
              "  'additional',\n",
              "  '270',\n",
              "  'million',\n",
              "  'people',\n",
              "  'making',\n",
              "  'it',\n",
              "  'one',\n",
              "  'of',\n",
              "  'the',\n",
              "  'largest',\n",
              "  'vaccination',\n",
              "  'drives',\n",
              "  'in',\n",
              "  'the',\n",
              "  'world.the',\n",
              "  'decision',\n",
              "  'was',\n",
              "  'taken',\n",
              "  'after',\n",
              "  'a',\n",
              "  'meeting',\n",
              "  'of',\n",
              "  'the',\n",
              "  'national',\n",
              "  'expert',\n",
              "  'group',\n",
              "  'on',\n",
              "  'vaccine',\n",
              "  'administration',\n",
              "  'for',\n",
              "  'covid19',\n",
              "  'negvac',\n",
              "  'which',\n",
              "  'recommended',\n",
              "  'the',\n",
              "  'expansion',\n",
              "  'of',\n",
              "  'the',\n",
              "  'vaccination',\n",
              "  'program.'],\n",
              " ['the',\n",
              "  'negvac',\n",
              "  'also',\n",
              "  'suggested',\n",
              "  'that',\n",
              "  'private',\n",
              "  'hospitals',\n",
              "  'may',\n",
              "  'be',\n",
              "  'allowed',\n",
              "  'to',\n",
              "  'administer',\n",
              "  'the',\n",
              "  'vaccine',\n",
              "  'although',\n",
              "  'the',\n",
              "  'details',\n",
              "  'of',\n",
              "  'this',\n",
              "  'are',\n",
              "  'yet',\n",
              "  'to',\n",
              "  'be',\n",
              "  'finalized.india',\n",
              "  'began',\n",
              "  'its',\n",
              "  'vaccination',\n",
              "  'drive',\n",
              "  'in',\n",
              "  'midjanuary',\n",
              "  'starting',\n",
              "  'with',\n",
              "  'healthcare',\n",
              "  'and',\n",
              "  'frontline',\n",
              "  'workers.'],\n",
              " ['since',\n",
              "  'then',\n",
              "  'over',\n",
              "  '13',\n",
              "  'million',\n",
              "  'doses',\n",
              "  'have',\n",
              "  'been',\n",
              "  'administered',\n",
              "  'across',\n",
              "  'the',\n",
              "  'country.'],\n",
              " ['however',\n",
              "  'the',\n",
              "  'pace',\n",
              "  'of',\n",
              "  'the',\n",
              "  'vaccination',\n",
              "  'drive',\n",
              "  'has',\n",
              "  'been',\n",
              "  'slower',\n",
              "  'than',\n",
              "  'expected',\n",
              "  'with',\n",
              "  'concerns',\n",
              "  'raised',\n",
              "  'over',\n",
              "  'vaccine',\n",
              "  'hesitancy',\n",
              "  'and',\n",
              "  'logistical',\n",
              "  'challenges.the',\n",
              "  'expansion',\n",
              "  'of',\n",
              "  'the',\n",
              "  'vaccination',\n",
              "  'drive',\n",
              "  'to',\n",
              "  'include',\n",
              "  'the',\n",
              "  'elderly',\n",
              "  'and',\n",
              "  'those',\n",
              "  'with',\n",
              "  'comorbidities',\n",
              "  'is',\n",
              "  'a',\n",
              "  'major',\n",
              "  'step',\n",
              "  'towards',\n",
              "  'achieving',\n",
              "  'herd',\n",
              "  'immunity',\n",
              "  'and',\n",
              "  'controlling',\n",
              "  'the',\n",
              "  'spread',\n",
              "  'of',\n",
              "  'the',\n",
              "  'virus',\n",
              "  'in',\n",
              "  'india.'],\n",
              " ['the',\n",
              "  'health',\n",
              "  'ministry',\n",
              "  'has',\n",
              "  'also',\n",
              "  'urged',\n",
              "  'eligible',\n",
              "  'individuals',\n",
              "  'to',\n",
              "  'come',\n",
              "  'forward',\n",
              "  'and',\n",
              "  'get',\n",
              "  'vaccinated',\n",
              "  'at',\n",
              "  'the',\n",
              "  'earliest.india',\n",
              "  'has',\n",
              "  'reported',\n",
              "  'over',\n",
              "  '11',\n",
              "  'million',\n",
              "  'cases',\n",
              "  'of',\n",
              "  'covid19',\n",
              "  'making',\n",
              "  'it',\n",
              "  'the',\n",
              "  'secondworst',\n",
              "  'affected',\n",
              "  'country',\n",
              "  'in',\n",
              "  'the',\n",
              "  'world',\n",
              "  'after',\n",
              "  'the',\n",
              "  'united',\n",
              "  'states.'],\n",
              " ['the',\n",
              "  'countrys',\n",
              "  'daily',\n",
              "  'case',\n",
              "  'count',\n",
              "  'has',\n",
              "  'been',\n",
              "  'declining',\n",
              "  'in',\n",
              "  'recent',\n",
              "  'weeks',\n",
              "  'but',\n",
              "  'experts',\n",
              "  'have',\n",
              "  'warned',\n",
              "  'that',\n",
              "  'the',\n",
              "  'pandemic',\n",
              "  'is',\n",
              "  'far',\n",
              "  'from',\n",
              "  'over',\n",
              "  'and',\n",
              "  'that',\n",
              "  'precautions',\n",
              "  'need',\n",
              "  'to',\n",
              "  'be',\n",
              "  'maintained.'],\n",
              " ['in',\n",
              "  'summary',\n",
              "  'indias',\n",
              "  'health',\n",
              "  'ministry',\n",
              "  'has',\n",
              "  'announced',\n",
              "  'that',\n",
              "  'the',\n",
              "  'countrys',\n",
              "  'covid19',\n",
              "  'vaccination',\n",
              "  'drive',\n",
              "  'will',\n",
              "  'be',\n",
              "  'expanded',\n",
              "  'to',\n",
              "  'include',\n",
              "  'people',\n",
              "  'over',\n",
              "  '60',\n",
              "  'and',\n",
              "  'those',\n",
              "  'over',\n",
              "  '45',\n",
              "  'with',\n",
              "  'comorbidities',\n",
              "  'covering',\n",
              "  'an',\n",
              "  'additional',\n",
              "  '270',\n",
              "  'million',\n",
              "  'people.'],\n",
              " ['the',\n",
              "  'decision',\n",
              "  'was',\n",
              "  'taken',\n",
              "  'after',\n",
              "  'a',\n",
              "  'meeting',\n",
              "  'of',\n",
              "  'the',\n",
              "  'national',\n",
              "  'expert',\n",
              "  'group',\n",
              "  'on',\n",
              "  'vaccine',\n",
              "  'administration',\n",
              "  'for',\n",
              "  'covid19',\n",
              "  'and',\n",
              "  'is',\n",
              "  'a',\n",
              "  'major',\n",
              "  'step',\n",
              "  'towards',\n",
              "  'achieving',\n",
              "  'herd',\n",
              "  'immunity',\n",
              "  'and',\n",
              "  'controlling',\n",
              "  'the',\n",
              "  'spread',\n",
              "  'of',\n",
              "  'the',\n",
              "  'virus',\n",
              "  'in',\n",
              "  'india.']]"
            ]
          },
          "metadata": {},
          "execution_count": 36
        }
      ],
      "source": [
        "reference_summary"
      ]
    },
    {
      "cell_type": "code",
      "execution_count": 37,
      "id": "c796048f",
      "metadata": {
        "execution": {
          "iopub.execute_input": "2023-02-09T14:33:18.790553Z",
          "iopub.status.busy": "2023-02-09T14:33:18.789995Z",
          "iopub.status.idle": "2023-02-09T14:33:18.811365Z",
          "shell.execute_reply": "2023-02-09T14:33:18.809808Z"
        },
        "papermill": {
          "duration": 0.03914,
          "end_time": "2023-02-09T14:33:18.815466",
          "exception": false,
          "start_time": "2023-02-09T14:33:18.776326",
          "status": "completed"
        },
        "tags": [],
        "id": "c796048f"
      },
      "outputs": [],
      "source": [
        "score = sentence_bleu(reference_summary, predicted_summary)"
      ]
    },
    {
      "cell_type": "code",
      "execution_count": 39,
      "id": "22cc5a4e",
      "metadata": {
        "execution": {
          "iopub.execute_input": "2023-02-09T14:33:18.841295Z",
          "iopub.status.busy": "2023-02-09T14:33:18.840828Z",
          "iopub.status.idle": "2023-02-09T14:33:18.846707Z",
          "shell.execute_reply": "2023-02-09T14:33:18.845434Z"
        },
        "papermill": {
          "duration": 0.023285,
          "end_time": "2023-02-09T14:33:18.850594",
          "exception": false,
          "start_time": "2023-02-09T14:33:18.827309",
          "status": "completed"
        },
        "tags": [],
        "id": "22cc5a4e",
        "outputId": "bc90fea3-0957-4e1c-d87c-efc8cd776db8",
        "colab": {
          "base_uri": "https://localhost:8080/"
        }
      },
      "outputs": [
        {
          "output_type": "stream",
          "name": "stdout",
          "text": [
            "BLEU Score: 0.824\n"
          ]
        }
      ],
      "source": [
        "print(\"BLEU Score: {:.3f}\".format(score))"
      ]
    },
    {
      "cell_type": "code",
      "execution_count": null,
      "id": "a520ca5e",
      "metadata": {
        "papermill": {
          "duration": 0.012124,
          "end_time": "2023-02-09T14:33:18.875158",
          "exception": false,
          "start_time": "2023-02-09T14:33:18.863034",
          "status": "completed"
        },
        "tags": [],
        "id": "a520ca5e"
      },
      "outputs": [],
      "source": []
    }
  ],
  "metadata": {
    "kernelspec": {
      "display_name": "Python 3",
      "language": "python",
      "name": "python3"
    },
    "language_info": {
      "codemirror_mode": {
        "name": "ipython",
        "version": 3
      },
      "file_extension": ".py",
      "mimetype": "text/x-python",
      "name": "python",
      "nbconvert_exporter": "python",
      "pygments_lexer": "ipython3",
      "version": "3.7.12"
    },
    "papermill": {
      "default_parameters": {},
      "duration": 34.107971,
      "end_time": "2023-02-09T14:33:20.222715",
      "environment_variables": {},
      "exception": null,
      "input_path": "__notebook__.ipynb",
      "output_path": "__notebook__.ipynb",
      "parameters": {},
      "start_time": "2023-02-09T14:32:46.114744",
      "version": "2.3.4"
    },
    "colab": {
      "provenance": []
    }
  },
  "nbformat": 4,
  "nbformat_minor": 5
}