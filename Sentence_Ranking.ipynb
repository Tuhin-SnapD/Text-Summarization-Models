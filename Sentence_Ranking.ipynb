{
  "nbformat": 4,
  "nbformat_minor": 0,
  "metadata": {
    "colab": {
      "provenance": []
    },
    "kernelspec": {
      "name": "python3",
      "display_name": "Python 3"
    },
    "language_info": {
      "name": "python"
    }
  },
  "cells": [
    {
      "cell_type": "code",
      "execution_count": 1,
      "metadata": {
        "id": "AxhlxTeASmuD"
      },
      "outputs": [],
      "source": [
        "import nltk\n",
        "import numpy as np\n",
        "import pandas as pd\n",
        "from nltk.corpus import stopwords\n",
        "from nltk.tokenize import word_tokenize, sent_tokenize\n",
        "from nltk.stem import PorterStemmer\n",
        "from sklearn.feature_extraction.text import TfidfVectorizer"
      ]
    },
    {
      "cell_type": "code",
      "source": [
        "text = \"\"\"\n",
        "Astronomers have used the James Webb Space Telescope to peer back in time to the early days of the universe — and they spotted something unexpected.\n",
        "The space observatory revealed six massive galaxies that existed between 500 million and 700 million years after the big bang that created the universe. The discovery is completely upending existing theories about the origins of galaxies, according to a new study published Wednesday in the journal Nature.\n",
        "“These objects are way more massive​ than anyone expected,” said study coauthor Joel Leja, assistant professor of astronomy and astrophysics at Penn State University, in a statement. “We expected only to find tiny, young, baby galaxies at this point in time, but we’ve discovered galaxies as mature as our own in what was previously understood to be the dawn of the universe.”\n",
        "The telescope observes the universe in infrared light, which is invisible to the human eye, and is capable of detecting the faint light from ancient stars and galaxies. By peering into the distant universe, the observatory can essentially see back in time up to about 13.5 billion years ago. (Scientists have determined the universe is about 13.7 billion years old.)\n",
        "\"\"\""
      ],
      "metadata": {
        "id": "3mRLgqZrTGGf"
      },
      "execution_count": 2,
      "outputs": []
    },
    {
      "cell_type": "code",
      "source": [
        "nltk.download('stopwords')\n",
        "nltk.download('punkt')\n",
        "  "
      ],
      "metadata": {
        "colab": {
          "base_uri": "https://localhost:8080/"
        },
        "id": "zcvob-KKTdDw",
        "outputId": "1f17b75b-1b5b-4829-ffed-c47e5445c433"
      },
      "execution_count": 6,
      "outputs": [
        {
          "output_type": "stream",
          "name": "stderr",
          "text": [
            "[nltk_data] Downloading package stopwords to /root/nltk_data...\n",
            "[nltk_data]   Package stopwords is already up-to-date!\n",
            "[nltk_data] Downloading package punkt to /root/nltk_data...\n",
            "[nltk_data]   Unzipping tokenizers/punkt.zip.\n"
          ]
        },
        {
          "output_type": "execute_result",
          "data": {
            "text/plain": [
              "True"
            ]
          },
          "metadata": {},
          "execution_count": 6
        }
      ]
    },
    {
      "cell_type": "code",
      "source": [
        "#Preprocess the text\n",
        "stop_words = set(stopwords.words('english'))\n",
        "stemmer = PorterStemmer()\n",
        "sentences = sent_tokenize(text.lower())\n",
        "words = word_tokenize(text.lower())\n",
        "\n",
        "filtered_words = []\n",
        "for word in words:\n",
        "    if word not in stop_words:\n",
        "        stemmed_word = stemmer.stem(word)\n",
        "        filtered_words.append(stemmed_word)\n",
        "\n",
        "# Calculate the sentence scores\n",
        "vectorizer = TfidfVectorizer()\n",
        "X = vectorizer.fit_transform(sentences)"
      ],
      "metadata": {
        "id": "TXWvQZtxTXtS"
      },
      "execution_count": 7,
      "outputs": []
    },
    {
      "cell_type": "code",
      "source": [
        "sentence_scores = []\n",
        "for i in range(len(sentences)):\n",
        "    sentence_score = 0\n",
        "    for word in filtered_words:\n",
        "        if word in vectorizer.get_feature_names():\n",
        "            sentence_score += X[i, vectorizer.vocabulary_[word]]\n",
        "    sentence_scores.append(sentence_score)\n",
        "\n",
        "# Sort the sentences\n",
        "ranked_sentences = sorted(((sentence_scores[i], s) for i, s in enumerate(sentences)), reverse=True)\n",
        "\n",
        "# Select the top N sentences\n",
        "top_n = 3\n",
        "selected_sentences = []\n",
        "for i in range(top_n):\n",
        "    selected_sentences.append(ranked_sentences[i][1])\n"
      ],
      "metadata": {
        "id": "j6ZRp1CVTsAK"
      },
      "execution_count": 10,
      "outputs": []
    },
    {
      "cell_type": "code",
      "source": [
        "# Generate the summary\n",
        "summary = \" \".join(selected_sentences)\n",
        "print(summary)"
      ],
      "metadata": {
        "colab": {
          "base_uri": "https://localhost:8080/"
        },
        "id": "TuUjOtmHTgrZ",
        "outputId": "4ddadb53-455b-4858-94dd-021f623f4d90"
      },
      "execution_count": 11,
      "outputs": [
        {
          "output_type": "stream",
          "name": "stdout",
          "text": [
            "the space observatory revealed six massive galaxies that existed between 500 million and 700 million years after the big bang that created the universe. by peering into the distant universe, the observatory can essentially see back in time up to about 13.5 billion years ago. \n",
            "astronomers have used the james webb space telescope to peer back in time to the early days of the universe — and they spotted something unexpected.\n"
          ]
        }
      ]
    },
    {
      "cell_type": "code",
      "source": [],
      "metadata": {
        "id": "VRD8sRQLTjLr"
      },
      "execution_count": null,
      "outputs": []
    }
  ]
}