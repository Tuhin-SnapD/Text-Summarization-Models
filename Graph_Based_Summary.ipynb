{
  "cells": [
    {
      "cell_type": "code",
      "execution_count": 2,
      "metadata": {
        "id": "8DXVRr4LuV96"
      },
      "outputs": [],
      "source": [
        "from nltk.corpus   import stopwords\n",
        "from nltk.tokenize import word_tokenize, sent_tokenize\n",
        "import string\n",
        "from sklearn.feature_extraction.text import TfidfVectorizer\n",
        "import pandas as pd"
      ]
    },
    {
      "cell_type": "code",
      "execution_count": 3,
      "metadata": {
        "id": "62JTlHwnugiQ"
      },
      "outputs": [],
      "source": [
        "def preprocess(sentence) :\n",
        "    stop_words = stopwords.words('english')\n",
        "    words      = word_tokenize(sentence)\n",
        "    tokens     = [word.lower() for word in words]\n",
        "    table      = str.maketrans('', '', string.punctuation)\n",
        "    stripped   = [w.translate(table) for w in tokens]\n",
        "    sent       =  ' '.join([word for word in stripped if word.isalnum() and \n",
        "                            word not in stop_words])\n",
        "    return sent"
      ]
    },
    {
      "cell_type": "code",
      "execution_count": 4,
      "metadata": {
        "id": "v5cHYhBcuivM"
      },
      "outputs": [],
      "source": [
        "def tfIdf(corpus) :\n",
        "    corpus    = sent_tokenize(corpus)\n",
        "    documents = [preprocess(sent) for sent in corpus]\n",
        "    tfidf     = TfidfVectorizer()\n",
        "    tfIdf_mat = tfidf.fit_transform(documents)\n",
        "    df = pd.DataFrame(tfIdf_mat.todense(), columns=tfidf.get_feature_names())\n",
        "    df['p_sentence'] = [word_tokenize(sent) for sent in documents]\n",
        "    df['sentences']  = corpus\n",
        "    return df"
      ]
    },
    {
      "cell_type": "code",
      "execution_count": 5,
      "metadata": {
        "id": "v-uCZcEhul37"
      },
      "outputs": [],
      "source": [
        "from math import sqrt\n",
        "import numpy as np"
      ]
    },
    {
      "cell_type": "code",
      "execution_count": 6,
      "metadata": {
        "id": "-ayVBpThuxKs"
      },
      "outputs": [],
      "source": [
        "def lcs(X, Y): \n",
        "    # find the length of the strings \n",
        "    m = len(X) \n",
        "    n = len(Y) \n",
        "  \n",
        "    # declaring the array for storing the dp values \n",
        "    L = [[None]*(n + 1) for i in range(m + 1)] \n",
        "  \n",
        "    for i in range(m + 1): \n",
        "        for j in range(n + 1): \n",
        "            if i == 0 or j == 0 : \n",
        "                L[i][j] = 0\n",
        "            elif X[i-1] == Y[j-1]: \n",
        "                L[i][j] = L[i-1][j-1]+1\n",
        "            else: \n",
        "                L[i][j] = max(L[i-1][j], L[i][j-1])  \n",
        "    return L[m][n] "
      ]
    },
    {
      "cell_type": "code",
      "execution_count": 7,
      "metadata": {
        "id": "kKXUgTUmuyPg"
      },
      "outputs": [],
      "source": [
        "def lcs_etoile(s1,s2) :\n",
        "    if len(s1) == 0:\n",
        "        return 0\n",
        "    else :\n",
        "        l2 = s2.copy()\n",
        "        s = 0\n",
        "        for w1 in s1 :\n",
        "            if len(l2) > 0:\n",
        "               l = [lcs(w1, w2) for w2 in l2]\n",
        "               if max(l) > 0 :\n",
        "                  del l2[l.index(max(l))]\n",
        "                  if max(l) / len(w1) >= 0.6 :\n",
        "                    s += max(l) / len(w1)\n",
        "        return s / float(len(s1))"
      ]
    },
    {
      "cell_type": "code",
      "execution_count": 8,
      "metadata": {
        "id": "_uWwGnORu1PV"
      },
      "outputs": [],
      "source": [
        "def cosine(p1,p2) :\n",
        "    dot_product = sum(p*q for p,q in zip(p1, p2))\n",
        "    magnitude = sqrt(sum([val**2 for val in p1])) * sqrt(sum([val**2 for val in p2]))\n",
        "    if not magnitude :\n",
        "        return 0.0\n",
        "    return dot_product/magnitude"
      ]
    },
    {
      "cell_type": "code",
      "execution_count": 9,
      "metadata": {
        "id": "8Q9izCObu5Ql"
      },
      "outputs": [],
      "source": [
        "def similarite(frame, alpha=0.9, similarity_threshold = 0.07) :\n",
        "        similarities = np.zeros(shape=(frame.values.shape[0],\n",
        "                                       frame.values.shape[0]))\n",
        "        degrees = np.zeros(shape=(frame.values.shape[0]))\n",
        "        for ind1, s1 in frame.iterrows() :\n",
        "            for ind2, s2 in frame.iterrows() :\n",
        "                sim = alpha*cosine(s1.values[:len(frame.columns)-2], s2.values[\n",
        "                      :len(frame.columns)-2]) + (1-alpha)*lcs_etoile(s1.values[\n",
        "                           -2], s2.values[-2])\n",
        "                if sim > similarity_threshold :\n",
        "                   similarities[ind1][ind2] = 1\n",
        "                   degrees[ind2] += 1\n",
        "                else :\n",
        "                    similarities[ind1][ind2] = 0.0\n",
        "        return  similarities / degrees.reshape(frame.values.shape[0],1), degrees"
      ]
    },
    {
      "cell_type": "code",
      "execution_count": 10,
      "metadata": {
        "id": "vyAz6jYnu6Zt"
      },
      "outputs": [],
      "source": [
        "def powerMethod(similarity_matrix,\n",
        "                degrees,\n",
        "                stopping_criterion=0.00005,\n",
        "                max_loops=3000):\n",
        "    \n",
        "    p_initial = np.ones(shape=len(degrees))/len(degrees)\n",
        "    i = 0\n",
        "    # loop until no change between successive matrix iterations\n",
        "    while True:\n",
        "        i += 1\n",
        "        p_update = np.matmul(similarity_matrix.T, p_initial)\n",
        "        delta = np.linalg.norm(p_update - p_initial)\n",
        "        if delta < stopping_criterion or i >= max_loops:\n",
        "            break\n",
        "        else:\n",
        "            p_initial = p_update\n",
        "    p_update = p_update/np.max(p_update)\n",
        "    return p_update\n"
      ]
    },
    {
      "cell_type": "code",
      "execution_count": 11,
      "metadata": {
        "id": "7yl1eOBIu82Z"
      },
      "outputs": [],
      "source": [
        "import numpy as np\n",
        "import networkx as nx\n",
        "import matplotlib.pyplot as plt"
      ]
    },
    {
      "cell_type": "code",
      "execution_count": 12,
      "metadata": {
        "id": "IghQu6KfvO-p"
      },
      "outputs": [],
      "source": [
        "class Summarization :\n",
        "        \n",
        "    def __init__(self, corpus, sum_size = 5) :\n",
        "        self.corpus = corpus\n",
        "        self.sum_size   = sum_size\n",
        "        self.scores     = ''\n",
        "        self.similarite = '' \n",
        "        \n",
        "    def summarize(self) :\n",
        "        tf_idf = tfIdf(self.corpus)\n",
        "        self.similarite, degrees = similarite(tf_idf)\n",
        "        self.scores  = powerMethod(self.similarite, degrees)\n",
        "        sent_index   = np.argsort(self.scores )[::-1][:self.sum_size]\n",
        "        sent_index.sort()\n",
        "        sent_list    = list(tf_idf.loc[sent_index]['sentences'].values)\n",
        "        summu        = ' '.join(sent_list)\n",
        "        return summu\n",
        "        \n",
        "    \n",
        "    def graph(self) :\n",
        "        edges = []\n",
        "        for ids, v in enumerate(self.similarite) :\n",
        "            for i, s in enumerate(v) :\n",
        "                if i != ids and s > 0.0 :\n",
        "                   edges.append((\"s\"+str(ids), \"s\"+str(i)))\n",
        "        G = nx.Graph()\n",
        "        G.add_edges_from(edges)\n",
        "        options = {'node_size':300, 'node_color':'red', 'with_labels':True}\n",
        "        nx.draw_circular(G, **options)\n",
        "        plt.show()"
      ]
    },
    {
      "cell_type": "code",
      "execution_count": 13,
      "metadata": {
        "id": "HDg38VS6wDlq",
        "colab": {
          "base_uri": "https://localhost:8080/"
        },
        "outputId": "af311e5b-379d-4d8b-b3ec-aea6feb4f9ab"
      },
      "outputs": [
        {
          "output_type": "stream",
          "name": "stderr",
          "text": [
            "[nltk_data] Downloading package punkt to /root/nltk_data...\n",
            "[nltk_data]   Unzipping tokenizers/punkt.zip.\n",
            "[nltk_data] Downloading package stopwords to /root/nltk_data...\n",
            "[nltk_data]   Unzipping corpora/stopwords.zip.\n"
          ]
        },
        {
          "output_type": "execute_result",
          "data": {
            "text/plain": [
              "True"
            ]
          },
          "metadata": {},
          "execution_count": 13
        }
      ],
      "source": [
        "import nltk\n",
        "nltk.download('punkt')\n",
        "nltk.download('stopwords')"
      ]
    },
    {
      "cell_type": "code",
      "execution_count": 15,
      "metadata": {
        "id": "PHWqzR0K1rtC"
      },
      "outputs": [],
      "source": [
        "corpus2 =\"\"\"SYDNEY (AP) — Skipper Pat Cummins has left Australia’s cricket tour to India for a brief visit to Sydney because of a serious family illness.\n",
        "Cricket Australia issued a statement Monday saying Cummins flew home for personal reasons but is scheduled to return to India in time to prepare for the third test of the series at Indore, starting March 1.\n",
        "Australia is already 2-0 down in the four-match series after two heavy defeats, allowing India to retain the Border-Gavaskar Trophy.\n",
        "The Australian team came under heavy criticism for a batting collapse on Sunday that saw them slump from a competitive position to a six-wicket loss in the space of one session.\n",
        "The 29-year-old Cummins was the only paceman in a bowling attack that featured three specialist spinners in the second test in New Delhi, a rarity for Australia’s test lineup.\n",
        "\"\"\""
      ]
    },
    {
      "cell_type": "code",
      "execution_count": 14,
      "metadata": {
        "id": "GOn7z6AqvnTS"
      },
      "outputs": [],
      "source": [
        "corpus1 =\"\"\"Amitabh Bachchan (pronounced [əmɪˈt̪ɑːbʱ ˈbətːʃən]; born as Amitabh Shrivastav;[1] 11 October 1942[7]) is an Indian actor, film producer, television host, occasional playback singer and former politician known for his work in Hindi cinema. He is regarded as one of the most successful and influential actors in the history of Indian cinema.[8] Referred to as the Shahenshah of Bollywood (in reference to his 1988 film Shahenshah), Sadi ka Mahanayak (Hindi for, \"Greatest actor of the century\"), Star of the Millennium, or Big B.[9] His dominance in the Indian movie scene during the 1970s–1980s made the French director François Truffaut call it a \"one-man industry\".[10]\n",
        "Bachchan was born in 1942 in Allahabad to the Hindi poet Harivansh Rai Bachchan and his wife, the social activist Teji Bachchan. He was educated at Sherwood College, Nainital, and Kirori Mal College, University of Delhi. His film career started in 1969 as a voice narrator in Mrinal Sen's film Bhuvan Shome. He first gained popularity in the early 1970s for films such as Zanjeer, Deewaar and Sholay, and achieved greater stardom in later years, dubbed India's \"angry young man\" for some several of his on-screen roles in Hindi films. He has since appeared in over 200 Indian films in a career spanning more than five decades,[11] He has won numerous accolades in his career, including four National Film Awards as Best Actor, Dadasaheb Phalke Award as lifetime achievement award and many awards at international film festivals and award ceremonies. He has won sixteen Filmfare Awards and is the most nominated performer in any major acting category at Filmfare, with 42 nominations overall. In addition to acting, Bachchan has worked as a playback singer, film producer and television presenter. He has hosted several seasons of the game show Kaun Banega Crorepati, India's version of the game show franchise, Who Wants to Be a Millionaire?. He also entered politics for a time in the 1980s.\n",
        "The Government of India honoured him with the Padma Shri in 1984, the Padma Bhushan in 2001 and the Padma Vibhushan in 2015 for his contributions to the arts. The Government of France honoured him with its highest civilian honour, Knight of the Legion of honour, in 2007 for his exceptional career in the world of cinema and beyond. Bachchan also made an appearance in a Hollywood film, Baz Luhrmann's The Great Gatsby (2013), in which he played a non-Indian Jewish character, Meyer Wolfsheim.\n",
        "Beyond the Indian subcontinent, he acquired a large overseas following of the South Asian diaspora, as well as others, in markets including Africa (South Africa, Eastern Africa and Mauritius), the Middle East (especially UAE and Egypt), the United Kingdom, Russia, Central Asia, the Caribbean (Guyana, Suriname, and Trinidad and Tobago), Oceania (Fiji, Australia, and New Zealand), Canada and the United States\n",
        "\"\"\""
      ]
    },
    {
      "cell_type": "code",
      "execution_count": 16,
      "metadata": {
        "colab": {
          "base_uri": "https://localhost:8080/"
        },
        "id": "6HxzD8ZlvjnS",
        "outputId": "0f993c53-b655-4d30-bbf2-46958412f8e1"
      },
      "outputs": [
        {
          "output_type": "stream",
          "name": "stderr",
          "text": [
            "/usr/local/lib/python3.8/dist-packages/sklearn/utils/deprecation.py:87: FutureWarning: Function get_feature_names is deprecated; get_feature_names is deprecated in 1.0 and will be removed in 1.2. Please use get_feature_names_out instead.\n",
            "  warnings.warn(msg, category=FutureWarning)\n"
          ]
        }
      ],
      "source": [
        "doc  = Summarization(corpus2,1) \n",
        "my_sum = doc.summarize() "
      ]
    },
    {
      "cell_type": "code",
      "execution_count": 17,
      "metadata": {
        "colab": {
          "base_uri": "https://localhost:8080/",
          "height": 319
        },
        "id": "84sms_9dvmor",
        "outputId": "28a28f1a-8eda-4ba5-8c24-8026a87b98d6"
      },
      "outputs": [
        {
          "output_type": "display_data",
          "data": {
            "text/plain": [
              "<Figure size 432x288 with 1 Axes>"
            ],
            "image/png": "[encoded data removed]"
          },
          "metadata": {}
        }
      ],
      "source": [
        "doc.graph()"
      ]
    },
    {
      "cell_type": "code",
      "execution_count": 18,
      "metadata": {
        "colab": {
          "base_uri": "https://localhost:8080/",
          "height": 53
        },
        "id": "psq7Qqzcwy5O",
        "outputId": "a7d740bc-3165-4fb5-feb6-fcc75a95a605"
      },
      "outputs": [
        {
          "output_type": "execute_result",
          "data": {
            "text/plain": [
              "'Cricket Australia issued a statement Monday saying Cummins flew home for personal reasons but is scheduled to return to India in time to prepare for the third test of the series at Indore, starting March 1.'"
            ],
            "application/vnd.google.colaboratory.intrinsic+json": {
              "type": "string"
            }
          },
          "metadata": {},
          "execution_count": 18
        }
      ],
      "source": [
        "my_sum"
      ]
    },
    {
      "cell_type": "code",
      "source": [
        "doc2 = Summarization(corpus1,1) \n",
        "my_sum = doc2.summarize() "
      ],
      "metadata": {
        "colab": {
          "base_uri": "https://localhost:8080/"
        },
        "id": "6QMlYB3Z_S5w",
        "outputId": "471e8dda-5f98-4e99-f9ea-6603ceeaec20"
      },
      "execution_count": 20,
      "outputs": [
        {
          "output_type": "stream",
          "name": "stderr",
          "text": [
            "/usr/local/lib/python3.8/dist-packages/sklearn/utils/deprecation.py:87: FutureWarning: Function get_feature_names is deprecated; get_feature_names is deprecated in 1.0 and will be removed in 1.2. Please use get_feature_names_out instead.\n",
            "  warnings.warn(msg, category=FutureWarning)\n"
          ]
        }
      ]
    },
    {
      "cell_type": "code",
      "source": [
        "doc.graph()"
      ],
      "metadata": {
        "colab": {
          "base_uri": "https://localhost:8080/",
          "height": 319
        },
        "id": "WmuAr0p__Uyz",
        "outputId": "11ef990c-8a6b-4ed1-8536-ba98c065f134"
      },
      "execution_count": 21,
      "outputs": [
        {
          "output_type": "display_data",
          "data": {
            "text/plain": [
              "<Figure size 432x288 with 1 Axes>"
            ],
            "image/png": "[encoded data removed]"
          },
          "metadata": {}
        }
      ]
    },
    {
      "cell_type": "code",
      "source": [
        "my_sum"
      ],
      "metadata": {
        "colab": {
          "base_uri": "https://localhost:8080/",
          "height": 53
        },
        "id": "sChflCpZ_WXj",
        "outputId": "6095f247-512f-4cdc-9bf4-18b58dc5f781"
      },
      "execution_count": 22,
      "outputs": [
        {
          "output_type": "execute_result",
          "data": {
            "text/plain": [
              "'Amitabh Bachchan (pronounced [əmɪˈt̪ɑːbʱ ˈbətːʃən]; born as Amitabh Shrivastav;[1] 11 October 1942[7]) is an Indian actor, film producer, television host, occasional playback singer and former politician known for his work in Hindi cinema.'"
            ],
            "application/vnd.google.colaboratory.intrinsic+json": {
              "type": "string"
            }
          },
          "metadata": {},
          "execution_count": 22
        }
      ]
    }
  ],
  "metadata": {
    "colab": {
      "provenance": []
    },
    "kernelspec": {
      "display_name": "Python 3",
      "name": "python3"
    },
    "language_info": {
      "name": "python"
    }
  },
  "nbformat": 4,
  "nbformat_minor": 0
}