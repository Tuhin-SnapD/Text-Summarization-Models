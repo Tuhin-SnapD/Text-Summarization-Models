{
  "nbformat": 4,
  "nbformat_minor": 0,
  "metadata": {
    "colab": {
      "provenance": []
    },
    "kernelspec": {
      "name": "python3",
      "display_name": "Python 3"
    },
    "language_info": {
      "name": "python"
    }
  },
  "cells": [
    {
      "cell_type": "code",
      "execution_count": 31,
      "metadata": {
        "colab": {
          "base_uri": "https://localhost:8080/"
        },
        "id": "oQCAXTnXNp-F",
        "outputId": "1e5ca5c8-11ce-4412-b0e1-e8081b4d653d"
      },
      "outputs": [
        {
          "output_type": "stream",
          "name": "stdout",
          "text": [
            "Looking in indexes: https://pypi.org/simple, https://us-python.pkg.dev/colab-wheels/public/simple/\n",
            "Requirement already satisfied: scikit-learn in /usr/local/lib/python3.8/dist-packages (1.0.2)\n",
            "Requirement already satisfied: joblib>=0.11 in /usr/local/lib/python3.8/dist-packages (from scikit-learn) (1.2.0)\n",
            "Requirement already satisfied: numpy>=1.14.6 in /usr/local/lib/python3.8/dist-packages (from scikit-learn) (1.22.4)\n",
            "Requirement already satisfied: threadpoolctl>=2.0.0 in /usr/local/lib/python3.8/dist-packages (from scikit-learn) (3.1.0)\n",
            "Requirement already satisfied: scipy>=1.1.0 in /usr/local/lib/python3.8/dist-packages (from scikit-learn) (1.7.3)\n"
          ]
        }
      ],
      "source": [
        "!pip install scikit-learn"
      ]
    },
    {
      "cell_type": "code",
      "source": [
        "import numpy as np\n",
        "import pandas as pd\n",
        "from sklearn.feature_extraction.text import TfidfVectorizer\n",
        "from sklearn.decomposition import TruncatedSVD"
      ],
      "metadata": {
        "id": "Jpwlpng1NujK"
      },
      "execution_count": 32,
      "outputs": []
    },
    {
      "cell_type": "code",
      "source": [
        "document = \"\"\"\n",
        "Astronomers have used the James Webb Space Telescope to peer back in time to the early days of the universe — and they spotted something unexpected.\n",
        "The space observatory revealed six massive galaxies that existed between 500 million and 700 million years after the big bang that created the universe. The discovery is completely upending existing theories about the origins of galaxies, according to a new study published Wednesday in the journal Nature.\n",
        "“These objects are way more massive​ than anyone expected,” said study coauthor Joel Leja, assistant professor of astronomy and astrophysics at Penn State University, in a statement. “We expected only to find tiny, young, baby galaxies at this point in time, but we’ve discovered galaxies as mature as our own in what was previously understood to be the dawn of the universe.”\n",
        "The telescope observes the universe in infrared light, which is invisible to the human eye, and is capable of detecting the faint light from ancient stars and galaxies. By peering into the distant universe, the observatory can essentially see back in time up to about 13.5 billion years ago. Scientists have determined the universe is about 13.7 billion years old.\n",
        "\"\"\""
      ],
      "metadata": {
        "id": "HcYJLxXaNzLQ"
      },
      "execution_count": 33,
      "outputs": []
    },
    {
      "cell_type": "code",
      "source": [
        "vectorizer = TfidfVectorizer(stop_words='english')\n",
        "X = vectorizer.fit_transform([document])"
      ],
      "metadata": {
        "id": "mqumimk7N9G-"
      },
      "execution_count": 34,
      "outputs": []
    },
    {
      "cell_type": "code",
      "source": [
        "lsa = TruncatedSVD(n_components=1, algorithm='randomized', n_iter=100, random_state=42)\n",
        "lsa.fit(X)"
      ],
      "metadata": {
        "colab": {
          "base_uri": "https://localhost:8080/"
        },
        "id": "pFRgslVlN9gd",
        "outputId": "7ecf91ae-5406-4273-9600-859bd0b6b031"
      },
      "execution_count": 35,
      "outputs": [
        {
          "output_type": "execute_result",
          "data": {
            "text/plain": [
              "TruncatedSVD(n_components=1, n_iter=100, random_state=42)"
            ]
          },
          "metadata": {},
          "execution_count": 35
        }
      ]
    },
    {
      "cell_type": "code",
      "source": [
        "sentences = document.split('.')\n",
        "important_sentences = np.argsort(np.abs(lsa.components_[0]))[::-1]\n",
        "\n",
        "# Ensure that the indices in important_sentences are within the range of valid indices for sentences\n",
        "valid_indices = [i for i in important_sentences if i < len(sentences)]\n",
        "\n",
        "# Extract the two most important sentences based on the valid indices\n",
        "summary_sentences = [sentences[i].strip() for i in valid_indices[:3]]\n",
        "\n",
        "# If there are not enough valid indices, pad the summary with empty strings\n",
        "while len(summary_sentences) < 2:\n",
        "    summary_sentences.append('')"
      ],
      "metadata": {
        "id": "3fCHK_u9N_HH"
      },
      "execution_count": 36,
      "outputs": []
    },
    {
      "cell_type": "code",
      "source": [
        "summary = '. '.join(summary_sentences) + '.'\n",
        "print(summary)"
      ],
      "metadata": {
        "colab": {
          "base_uri": "https://localhost:8080/"
        },
        "id": "fO2MaOykOBOG",
        "outputId": "f81fb04c-1b9c-4761-a558-b34ae846622e"
      },
      "execution_count": 37,
      "outputs": [
        {
          "output_type": "stream",
          "name": "stdout",
          "text": [
            "Astronomers have used the James Webb Space Telescope to peer back in time to the early days of the universe — and they spotted something unexpected. . 7 billion years old.\n"
          ]
        }
      ]
    }
  ]
}