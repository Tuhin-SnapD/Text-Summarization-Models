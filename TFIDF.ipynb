{
  "nbformat": 4,
  "nbformat_minor": 0,
  "metadata": {
    "colab": {
      "provenance": []
    },
    "kernelspec": {
      "name": "python3",
      "display_name": "Python 3"
    },
    "language_info": {
      "name": "python"
    }
  },
  "cells": [
    {
      "cell_type": "code",
      "source": [
        "from nltk.corpus import stopwords\n",
        "import numpy as np\n",
        "import pandas\n",
        "import nltk\n",
        "nltk.download('punkt')\n",
        "nltk.download('stopwords')\n",
        "import re\n",
        "from nltk.tokenize import sent_tokenize"
      ],
      "metadata": {
        "id": "fLVIhooUnKK6",
        "colab": {
          "base_uri": "https://localhost:8080/"
        },
        "outputId": "30d45a2e-1786-4fcd-d64f-c03bc2c419e0"
      },
      "execution_count": 19,
      "outputs": [
        {
          "output_type": "stream",
          "name": "stderr",
          "text": [
            "[nltk_data] Downloading package punkt to /root/nltk_data...\n",
            "[nltk_data]   Package punkt is already up-to-date!\n",
            "[nltk_data] Downloading package stopwords to /root/nltk_data...\n",
            "[nltk_data]   Package stopwords is already up-to-date!\n"
          ]
        }
      ]
    },
    {
      "cell_type": "code",
      "source": [
        "s = \"\"\"India's Health Ministry has announced that the country's COVID-19 vaccination drive will now be expanded to include people over the age of 60 and those over 45 with co-morbidities. The move is expected to cover an additional 270 million people, making it one of the largest vaccination drives in the world.The decision was taken after a meeting of the National Expert Group on Vaccine Administration for COVID-19 (NEGVAC), which recommended the expansion of the vaccination program. The NEGVAC also suggested that private hospitals may be allowed to administer the vaccine, although the details of this are yet to be finalized.India began its vaccination drive in mid-January, starting with healthcare and frontline workers. Since then, over 13 million doses have been administered across the country. However, the pace of the vaccination drive has been slower than expected, with concerns raised over vaccine hesitancy and logistical challenges.The expansion of the vaccination drive to include the elderly and those with co-morbidities is a major step towards achieving herd immunity and controlling the spread of the virus in India. The Health Ministry has also urged eligible individuals to come forward and get vaccinated at the earliest.India has reported over 11 million cases of COVID-19, making it the second-worst affected country in the world after the United States. The country's daily case count has been declining in recent weeks, but experts have warned that the pandemic is far from over and that precautions need to be maintained.\n",
        "In summary, India's Health Ministry has announced that the country's COVID-19 vaccination drive will be expanded to include people over 60 and those over 45 with co-morbidities, covering an additional 270 million people. The decision was taken after a meeting of the National Expert Group on Vaccine Administration for COVID-19, and is a major step towards achieving herd immunity and controlling the spread of the virus in India.\"\"\""
      ],
      "metadata": {
        "id": "DbO4Z2rtnQH2"
      },
      "execution_count": 20,
      "outputs": []
    },
    {
      "cell_type": "code",
      "source": [
        "sentences = sent_tokenize(s)"
      ],
      "metadata": {
        "id": "73JCtGGsnWd3"
      },
      "execution_count": 21,
      "outputs": []
    },
    {
      "cell_type": "code",
      "source": [
        "dict = {}\n",
        "text=\"\"\n",
        "for a in sentences:\n",
        "    temp = re.sub(\"[^a-zA-Z]\",\" \",a)\n",
        "    temp = temp.lower()\n",
        "    dict[temp] = a\n",
        "    text+=temp"
      ],
      "metadata": {
        "id": "QOWNyjCYna28"
      },
      "execution_count": 22,
      "outputs": []
    },
    {
      "cell_type": "code",
      "source": [
        "stopwords = nltk.corpus.stopwords.words('english')\n",
        "word_frequencies = {}\n",
        "for word in nltk.word_tokenize(text):\n",
        "    if word not in stopwords:\n",
        "        if word not in word_frequencies.keys():\n",
        "            word_frequencies[word] = 1\n",
        "        else:\n",
        "            word_frequencies[word] += 1\n",
        "print (len(word_frequencies))"
      ],
      "metadata": {
        "colab": {
          "base_uri": "https://localhost:8080/"
        },
        "id": "N-PKrPL7noTR",
        "outputId": "eb3be088-b8b9-425c-f04d-71d06fd73f05"
      },
      "execution_count": 23,
      "outputs": [
        {
          "output_type": "stream",
          "name": "stdout",
          "text": [
            "106\n"
          ]
        }
      ]
    },
    {
      "cell_type": "code",
      "source": [
        "max_freq = max(word_frequencies.values())\n",
        "\n",
        "for w in word_frequencies :\n",
        "      word_frequencies[w]/=max_freq\n",
        "print (word_frequencies)"
      ],
      "metadata": {
        "colab": {
          "base_uri": "https://localhost:8080/"
        },
        "id": "-k0kC1z8nuuq",
        "outputId": "49ffa4dc-1a02-4b41-f775-01ca1b2b3124"
      },
      "execution_count": 24,
      "outputs": [
        {
          "output_type": "stream",
          "name": "stdout",
          "text": [
            "{'india': 0.8571428571428571, 'health': 0.42857142857142855, 'ministry': 0.42857142857142855, 'announced': 0.2857142857142857, 'country': 0.7142857142857143, 'covid': 0.7142857142857143, 'vaccination': 1.0, 'drive': 0.7142857142857143, 'expanded': 0.2857142857142857, 'include': 0.42857142857142855, 'people': 0.5714285714285714, 'age': 0.14285714285714285, 'co': 0.42857142857142855, 'morbidities': 0.42857142857142855, 'move': 0.14285714285714285, 'expected': 0.2857142857142857, 'cover': 0.14285714285714285, 'additional': 0.2857142857142857, 'million': 0.5714285714285714, 'making': 0.2857142857142857, 'one': 0.14285714285714285, 'largest': 0.14285714285714285, 'drives': 0.14285714285714285, 'world': 0.2857142857142857, 'decision': 0.2857142857142857, 'taken': 0.2857142857142857, 'meeting': 0.2857142857142857, 'national': 0.2857142857142857, 'expert': 0.2857142857142857, 'group': 0.2857142857142857, 'vaccine': 0.5714285714285714, 'administration': 0.2857142857142857, 'negvac': 0.2857142857142857, 'recommended': 0.14285714285714285, 'expansion': 0.2857142857142857, 'program': 0.14285714285714285, 'also': 0.2857142857142857, 'suggested': 0.14285714285714285, 'private': 0.14285714285714285, 'hospitals': 0.14285714285714285, 'may': 0.14285714285714285, 'allowed': 0.14285714285714285, 'administer': 0.14285714285714285, 'although': 0.14285714285714285, 'details': 0.14285714285714285, 'yet': 0.14285714285714285, 'finalized': 0.14285714285714285, 'began': 0.14285714285714285, 'mid': 0.14285714285714285, 'january': 0.14285714285714285, 'starting': 0.14285714285714285, 'healthcare': 0.14285714285714285, 'frontline': 0.14285714285714285, 'workers': 0.14285714285714285, 'since': 0.14285714285714285, 'doses': 0.14285714285714285, 'administered': 0.14285714285714285, 'across': 0.14285714285714285, 'however': 0.14285714285714285, 'pace': 0.14285714285714285, 'slower': 0.14285714285714285, 'concerns': 0.14285714285714285, 'raised': 0.14285714285714285, 'hesitancy': 0.14285714285714285, 'logistical': 0.14285714285714285, 'challenges': 0.14285714285714285, 'elderly': 0.14285714285714285, 'major': 0.2857142857142857, 'step': 0.2857142857142857, 'towards': 0.2857142857142857, 'achieving': 0.2857142857142857, 'herd': 0.2857142857142857, 'immunity': 0.2857142857142857, 'controlling': 0.2857142857142857, 'spread': 0.2857142857142857, 'virus': 0.2857142857142857, 'urged': 0.14285714285714285, 'eligible': 0.14285714285714285, 'individuals': 0.14285714285714285, 'come': 0.14285714285714285, 'forward': 0.14285714285714285, 'get': 0.14285714285714285, 'vaccinated': 0.14285714285714285, 'earliest': 0.14285714285714285, 'reported': 0.14285714285714285, 'cases': 0.14285714285714285, 'second': 0.14285714285714285, 'worst': 0.14285714285714285, 'affected': 0.14285714285714285, 'united': 0.14285714285714285, 'states': 0.14285714285714285, 'daily': 0.14285714285714285, 'case': 0.14285714285714285, 'count': 0.14285714285714285, 'declining': 0.14285714285714285, 'recent': 0.14285714285714285, 'weeks': 0.14285714285714285, 'experts': 0.14285714285714285, 'warned': 0.14285714285714285, 'pandemic': 0.14285714285714285, 'far': 0.14285714285714285, 'precautions': 0.14285714285714285, 'need': 0.14285714285714285, 'maintained': 0.14285714285714285, 'summary': 0.14285714285714285, 'covering': 0.14285714285714285}\n"
          ]
        }
      ]
    },
    {
      "cell_type": "code",
      "source": [
        "sentence_scores = {}\n",
        "for sent in sentences:\n",
        "    for word in nltk.word_tokenize(sent.lower()):\n",
        "        if word in word_frequencies.keys():\n",
        "            if len(sent.split(' ')) < 30:\n",
        "                if sent not in sentence_scores.keys():\n",
        "                    sentence_scores[sent] = word_frequencies[word]\n",
        "                else:\n",
        "                    sentence_scores[sent] += word_frequencies[word]"
      ],
      "metadata": {
        "id": "hEmkhUN9n3Si"
      },
      "execution_count": 25,
      "outputs": []
    },
    {
      "cell_type": "code",
      "source": [
        "import heapq\n",
        "summary_sentences = heapq.nlargest(2, sentence_scores, key=sentence_scores.get)\n",
        "summary = ' '.join(summary_sentences)\n",
        "print(summary)"
      ],
      "metadata": {
        "colab": {
          "base_uri": "https://localhost:8080/"
        },
        "id": "o6N9JDCNn8II",
        "outputId": "fd2a1e3b-98ea-4506-d577-8148ce74dff4"
      },
      "execution_count": 26,
      "outputs": [
        {
          "output_type": "stream",
          "name": "stdout",
          "text": [
            "India's Health Ministry has announced that the country's COVID-19 vaccination drive will now be expanded to include people over the age of 60 and those over 45 with co-morbidities. The country's daily case count has been declining in recent weeks, but experts have warned that the pandemic is far from over and that precautions need to be maintained.\n"
          ]
        }
      ]
    }
  ]
}