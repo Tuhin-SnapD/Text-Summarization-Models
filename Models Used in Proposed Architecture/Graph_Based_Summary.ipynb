{
  "cells": [
    {
      "cell_type": "markdown",
      "source": [
        "# Graph-Based Summarisation\n",
        "\n",
        "**Graph-based summaries** that use techniques such as Longest Common Subsequence (LCS), Term Frequency-Inverse Document Frequency (TF-IDF), and matrix-based approaches have their own advantages and disadvantages.\n",
        "\n",
        "### Pros:\n",
        "\n",
        "#### LCS-based summaries:\n",
        "\n",
        "* LCS-based summaries are useful for identifying the most important sentences in a document. This technique identifies the common phrases between two sentences and generates a score based on the similarity of the phrases.\n",
        "* This technique is computationally efficient and produces summaries that are easy to understand.\n",
        "\n",
        "#### TF-IDF-based summaries:\n",
        "\n",
        "* TF-IDF is a widely used technique for document summarization. This approach is useful for identifying the most important terms in a document.\n",
        "* This technique takes into account the frequency of each term in the document as well as its occurrence in other documents in the same corpus.\n",
        "* This technique produces summaries that are accurate and relevant to the original document.\n",
        "\n",
        "#### Matrix-based summaries:\n",
        "\n",
        "* Matrix-based approaches, such as Singular Value Decomposition (SVD), are useful for summarizing large documents.\n",
        "* This technique uses a matrix to represent the relationships between the sentences in the document.\n",
        "* This technique is useful for identifying the most important sentences in a document and producing summaries that are coherent and easy to understand.\n",
        "\n",
        "### Cons:\n",
        "\n",
        "#### LCS-based summaries:\n",
        "\n",
        "* LCS-based summaries may not work well with documents that contain long and complex sentences.\n",
        "* This technique may also produce summaries that are too brief and miss important details from the original document.\n",
        "\n",
        "#### TF-IDF-based summaries:\n",
        "\n",
        "* TF-IDF-based summaries may not work well with documents that contain a large number of technical terms or jargon.\n",
        "* This technique may also produce summaries that are too long and redundant.\n",
        "\n",
        "#### Matrix-based summaries:\n",
        "\n",
        "* Matrix-based approaches can be computationally expensive and may not work well with very large documents.\n",
        "* This technique may also produce summaries that are too long and contain irrelevant information.\n",
        "\n",
        "In summary, the choice of technique for graph-based summarization should be made based on the nature of the document and the requirements of the summary. Each approach has its own strengths and weaknesses, and the appropriate technique should be selected to produce a summary that is accurate, relevant, and easy to understand.\n",
        "\n",
        "These are the scores we achieved:\n",
        "\n",
        "    ROUGE Score:\n",
        "    Precision: 1.000\n",
        "    Recall: 0.263\n",
        "    F1-Score: 0.417\n",
        "\n",
        "    BLEU Score: 0.901\n",
        "\n",
        "## References\n",
        "\n",
        "Here are some scientific papers related to graph-based summarization techniques:\n",
        "\n",
        "1. \"TextRank: Bringing Order into Texts\" by Rada Mihalcea and Paul Tarau (2004). This paper presents the TextRank algorithm, which is a graph-based approach for automatic summarization and keyword extraction.\n",
        "\n",
        "1. \"Graph-based Text Representation for Automatic Summarization\" by Chengzhi Mao, Yanhui Gu, and Jianhua Yang (2007). This paper proposes a graph-based approach for text representation and sentence ranking, which is used for automatic summarization.\n",
        "\n",
        "1. \"A Survey on Graph-based Natural Language Processing\" by Arpit Sharma, Parag Jain, and Shashank Gupta (2019). This paper provides a comprehensive survey of graph-based techniques for natural language processing, including summarization, text classification, and named entity recognition.\n",
        "\n",
        "1. \"A Graph-Based Framework for Multi-Document Summarization\" by Dan Shen, Jing Jiang, and Chin-Yew Lin (2007). This paper proposes a graph-based framework for multi-document summarization, which combines sentence similarity and document coherence to produce summaries.\n",
        "\n",
        "1. \"Efficient Graph-Based Document Summarization\" by Dragomir Radev, Simone Teufel, Horacio Saggion, and Wai Lam (2002). This paper presents a graph-based approach for document summarization, which uses sentence similarity and clustering to generate summaries.\n",
        "\n",
        "These papers provide insights into the development and application of graph-based summarization techniques and can be useful for researchers and practitioners working in the field of natural language processing.\n"
      ],
      "metadata": {
        "id": "51LPELRsRH3d"
      }
    },
    {
      "cell_type": "code",
      "execution_count": 1,
      "metadata": {
        "id": "8DXVRr4LuV96"
      },
      "outputs": [],
      "source": [
        "from nltk.corpus   import stopwords\n",
        "from nltk.tokenize import word_tokenize, sent_tokenize\n",
        "import string\n",
        "from sklearn.feature_extraction.text import TfidfVectorizer\n",
        "import pandas as pd"
      ]
    },
    {
      "cell_type": "code",
      "execution_count": 2,
      "metadata": {
        "id": "62JTlHwnugiQ"
      },
      "outputs": [],
      "source": [
        "def preprocess(sentence) :\n",
        "    stop_words = stopwords.words('english')\n",
        "    words      = word_tokenize(sentence)\n",
        "    tokens     = [word.lower() for word in words]\n",
        "    table      = str.maketrans('', '', string.punctuation)\n",
        "    stripped   = [w.translate(table) for w in tokens]\n",
        "    sent       =  ' '.join([word for word in stripped if word.isalnum() and \n",
        "                            word not in stop_words])\n",
        "    return sent"
      ]
    },
    {
      "cell_type": "code",
      "execution_count": 3,
      "metadata": {
        "id": "v5cHYhBcuivM"
      },
      "outputs": [],
      "source": [
        "def tfIdf(corpus) :\n",
        "    corpus    = sent_tokenize(corpus)\n",
        "    documents = [preprocess(sent) for sent in corpus]\n",
        "    tfidf     = TfidfVectorizer()\n",
        "    tfIdf_mat = tfidf.fit_transform(documents)\n",
        "    df = pd.DataFrame(tfIdf_mat.todense(), columns=tfidf.get_feature_names_out())\n",
        "    df['p_sentence'] = [word_tokenize(sent) for sent in documents]\n",
        "    df['sentences']  = corpus\n",
        "    return df"
      ]
    },
    {
      "cell_type": "code",
      "execution_count": 4,
      "metadata": {
        "id": "v-uCZcEhul37"
      },
      "outputs": [],
      "source": [
        "from math import sqrt\n",
        "import numpy as np"
      ]
    },
    {
      "cell_type": "code",
      "execution_count": 5,
      "metadata": {
        "id": "-ayVBpThuxKs"
      },
      "outputs": [],
      "source": [
        "def lcs(X, Y): \n",
        "    # find the length of the strings \n",
        "    m = len(X) \n",
        "    n = len(Y) \n",
        "  \n",
        "    # declaring the array for storing the dp values \n",
        "    L = [[None]*(n + 1) for i in range(m + 1)] \n",
        "  \n",
        "    for i in range(m + 1): \n",
        "        for j in range(n + 1): \n",
        "            if i == 0 or j == 0 : \n",
        "                L[i][j] = 0\n",
        "            elif X[i-1] == Y[j-1]: \n",
        "                L[i][j] = L[i-1][j-1]+1\n",
        "            else: \n",
        "                L[i][j] = max(L[i-1][j], L[i][j-1])  \n",
        "    return L[m][n] "
      ]
    },
    {
      "cell_type": "code",
      "execution_count": 6,
      "metadata": {
        "id": "kKXUgTUmuyPg"
      },
      "outputs": [],
      "source": [
        "def lcs_etoile(s1,s2) :\n",
        "    if len(s1) == 0:\n",
        "        return 0\n",
        "    else :\n",
        "        l2 = s2.copy()\n",
        "        s = 0\n",
        "        for w1 in s1 :\n",
        "            if len(l2) > 0:\n",
        "               l = [lcs(w1, w2) for w2 in l2]\n",
        "               if max(l) > 0 :\n",
        "                  del l2[l.index(max(l))]\n",
        "                  if max(l) / len(w1) >= 0.6 :\n",
        "                    s += max(l) / len(w1)\n",
        "        return s / float(len(s1))"
      ]
    },
    {
      "cell_type": "code",
      "execution_count": 7,
      "metadata": {
        "id": "_uWwGnORu1PV"
      },
      "outputs": [],
      "source": [
        "def cosine(p1,p2) :\n",
        "    dot_product = sum(p*q for p,q in zip(p1, p2))\n",
        "    magnitude = sqrt(sum([val**2 for val in p1])) * sqrt(sum([val**2 for val in p2]))\n",
        "    if not magnitude :\n",
        "        return 0.0\n",
        "    return dot_product/magnitude"
      ]
    },
    {
      "cell_type": "code",
      "execution_count": 8,
      "metadata": {
        "id": "8Q9izCObu5Ql"
      },
      "outputs": [],
      "source": [
        "def similarite(frame, alpha=0.9, similarity_threshold = 0.07) :\n",
        "        similarities = np.zeros(shape=(frame.values.shape[0],\n",
        "                                       frame.values.shape[0]))\n",
        "        degrees = np.zeros(shape=(frame.values.shape[0]))\n",
        "        for ind1, s1 in frame.iterrows() :\n",
        "            for ind2, s2 in frame.iterrows() :\n",
        "                sim = alpha*cosine(s1.values[:len(frame.columns)-2], s2.values[\n",
        "                      :len(frame.columns)-2]) + (1-alpha)*lcs_etoile(s1.values[\n",
        "                           -2], s2.values[-2])\n",
        "                if sim > similarity_threshold :\n",
        "                   similarities[ind1][ind2] = 1\n",
        "                   degrees[ind2] += 1\n",
        "                else :\n",
        "                    similarities[ind1][ind2] = 0.0\n",
        "        return  similarities / degrees.reshape(frame.values.shape[0],1), degrees"
      ]
    },
    {
      "cell_type": "code",
      "execution_count": 9,
      "metadata": {
        "id": "vyAz6jYnu6Zt"
      },
      "outputs": [],
      "source": [
        "def powerMethod(similarity_matrix,\n",
        "                degrees,\n",
        "                stopping_criterion=0.00005,\n",
        "                max_loops=3000):\n",
        "    \n",
        "    p_initial = np.ones(shape=len(degrees))/len(degrees)\n",
        "    i = 0\n",
        "    # loop until no change between successive matrix iterations\n",
        "    while True:\n",
        "        i += 1\n",
        "        p_update = np.matmul(similarity_matrix.T, p_initial)\n",
        "        delta = np.linalg.norm(p_update - p_initial)\n",
        "        if delta < stopping_criterion or i >= max_loops:\n",
        "            break\n",
        "        else:\n",
        "            p_initial = p_update\n",
        "    p_update = p_update/np.max(p_update)\n",
        "    return p_update"
      ]
    },
    {
      "cell_type": "code",
      "execution_count": 10,
      "metadata": {
        "id": "7yl1eOBIu82Z"
      },
      "outputs": [],
      "source": [
        "import numpy as np\n",
        "import networkx as nx\n",
        "import matplotlib.pyplot as plt"
      ]
    },
    {
      "cell_type": "code",
      "execution_count": 11,
      "metadata": {
        "id": "IghQu6KfvO-p"
      },
      "outputs": [],
      "source": [
        "class Summarization :\n",
        "        \n",
        "    def __init__(self, corpus, sum_size = 5) :\n",
        "        self.corpus = corpus\n",
        "        self.sum_size   = sum_size\n",
        "        self.scores     = ''\n",
        "        self.similarite = '' \n",
        "        \n",
        "    def summarize(self) :\n",
        "        tf_idf = tfIdf(self.corpus)\n",
        "        self.similarite, degrees = similarite(tf_idf)\n",
        "        self.scores  = powerMethod(self.similarite, degrees)\n",
        "        sent_index   = np.argsort(self.scores )[::-1][:self.sum_size]\n",
        "        sent_index.sort()\n",
        "        sent_list    = list(tf_idf.loc[sent_index]['sentences'].values)\n",
        "        summu        = ' '.join(sent_list)\n",
        "        return summu\n",
        "        \n",
        "    \n",
        "    def graph(self) :\n",
        "        edges = []\n",
        "        for ids, v in enumerate(self.similarite) :\n",
        "            for i, s in enumerate(v) :\n",
        "                if i != ids and s > 0.0 :\n",
        "                   edges.append((\"s\"+str(ids), \"s\"+str(i)))\n",
        "        G = nx.Graph()\n",
        "        G.add_edges_from(edges)\n",
        "        options = {'node_size':300, 'node_color':'red', 'with_labels':True}\n",
        "        nx.draw_circular(G, **options)\n",
        "        plt.show()"
      ]
    },
    {
      "cell_type": "code",
      "execution_count": 12,
      "metadata": {
        "id": "HDg38VS6wDlq",
        "colab": {
          "base_uri": "https://localhost:8080/"
        },
        "outputId": "72d5adad-0971-45ac-d740-944d101c4a67"
      },
      "outputs": [
        {
          "output_type": "stream",
          "name": "stderr",
          "text": [
            "[nltk_data] Downloading package punkt to /root/nltk_data...\n",
            "[nltk_data]   Unzipping tokenizers/punkt.zip.\n",
            "[nltk_data] Downloading package stopwords to /root/nltk_data...\n",
            "[nltk_data]   Unzipping corpora/stopwords.zip.\n"
          ]
        },
        {
          "output_type": "execute_result",
          "data": {
            "text/plain": [
              "True"
            ]
          },
          "metadata": {},
          "execution_count": 12
        }
      ],
      "source": [
        "import nltk\n",
        "nltk.download('punkt')\n",
        "nltk.download('stopwords')"
      ]
    },
    {
      "cell_type": "code",
      "execution_count": 13,
      "metadata": {
        "id": "PHWqzR0K1rtC"
      },
      "outputs": [],
      "source": [
        "corpus2 =\"\"\"India's Health Ministry has announced that the country's COVID-19 vaccination drive will now be expanded to include people over the age of 60 and those over 45 with co-morbidities. The move is expected to cover an additional 270 million people, making it one of the largest vaccination drives in the world.The decision was taken after a meeting of the National Expert Group on Vaccine Administration for COVID-19 (NEGVAC), which recommended the expansion of the vaccination program. The NEGVAC also suggested that private hospitals may be allowed to administer the vaccine, although the details of this are yet to be finalized.India began its vaccination drive in mid-January, starting with healthcare and frontline workers. Since then, over 13 million doses have been administered across the country. However, the pace of the vaccination drive has been slower than expected, with concerns raised over vaccine hesitancy and logistical challenges.The expansion of the vaccination drive to include the elderly and those with co-morbidities is a major step towards achieving herd immunity and controlling the spread of the virus in India. The Health Ministry has also urged eligible individuals to come forward and get vaccinated at the earliest.India has reported over 11 million cases of COVID-19, making it the second-worst affected country in the world after the United States. The country's daily case count has been declining in recent weeks, but experts have warned that the pandemic is far from over and that precautions need to be maintained.In summary, India's Health Ministry has announced that the country's COVID-19 vaccination drive will be expanded to include people over 60 and those over 45 with co-morbidities, covering an additional 270 million people. The decision was taken after a meeting of the National Expert Group on Vaccine Administration for COVID-19, and is a major step towards achieving herd immunity and controlling the spread of the virus in India.\n",
        "\"\"\""
      ]
    },
    {
      "cell_type": "code",
      "execution_count": 17,
      "metadata": {
        "id": "6HxzD8ZlvjnS"
      },
      "outputs": [],
      "source": [
        "doc  = Summarization(corpus2,1) \n",
        "my_sum = doc.summarize() "
      ]
    },
    {
      "cell_type": "code",
      "execution_count": 18,
      "metadata": {
        "colab": {
          "base_uri": "https://localhost:8080/",
          "height": 319
        },
        "id": "84sms_9dvmor",
        "outputId": "a87446c7-fd3d-49d4-fe24-5b2665f9d726"
      },
      "outputs": [
        {
          "output_type": "display_data",
          "data": {
            "text/plain": [
              "<Figure size 432x288 with 1 Axes>"
            ],
            "image/png": "[encoded data removed]"
          },
          "metadata": {}
        }
      ],
      "source": [
        "doc.graph()"
      ]
    },
    {
      "cell_type": "code",
      "execution_count": 19,
      "metadata": {
        "colab": {
          "base_uri": "https://localhost:8080/",
          "height": 53
        },
        "id": "psq7Qqzcwy5O",
        "outputId": "73154038-456c-49a3-a175-ff1f8b0f45cb"
      },
      "outputs": [
        {
          "output_type": "execute_result",
          "data": {
            "text/plain": [
              "'The move is expected to cover an additional 270 million people, making it one of the largest vaccination drives in the world.The decision was taken after a meeting of the National Expert Group on Vaccine Administration for COVID-19 (NEGVAC), which recommended the expansion of the vaccination program.'"
            ],
            "application/vnd.google.colaboratory.intrinsic+json": {
              "type": "string"
            }
          },
          "metadata": {},
          "execution_count": 19
        }
      ],
      "source": [
        "my_sum"
      ]
    },
    {
      "cell_type": "code",
      "source": [
        "def listToString(s):\n",
        " \n",
        "    # initialize an empty string\n",
        "    str1 = \"\"\n",
        " \n",
        "    # traverse in the string\n",
        "    for ele in s:\n",
        "        str1 += ele\n",
        " \n",
        "    # return string\n",
        "    return str1"
      ],
      "metadata": {
        "id": "QjYOo28jQC3R"
      },
      "execution_count": 20,
      "outputs": []
    },
    {
      "cell_type": "code",
      "source": [
        "summ= listToString(my_sum)"
      ],
      "metadata": {
        "id": "ueaRA94rQHvG"
      },
      "execution_count": 21,
      "outputs": []
    },
    {
      "cell_type": "code",
      "source": [
        "!pip install scikit-learn\n",
        "!pip install rouge\n",
        "!pip install nltk\n",
        "from rouge import Rouge \n",
        "import nltk\n",
        "import nltk.translate.bleu_score as bleu\n",
        "nltk.download('stopwords')\n",
        "nltk.download('punkt')\n",
        "from nltk.corpus import stopwords \n",
        "from nltk.tokenize import word_tokenize, sent_tokenize "
      ],
      "metadata": {
        "colab": {
          "base_uri": "https://localhost:8080/"
        },
        "id": "e-CHFwUhQWIe",
        "outputId": "4cc06bed-60cb-421e-c6d4-4dfc89bbfd2f"
      },
      "execution_count": 22,
      "outputs": [
        {
          "output_type": "stream",
          "name": "stdout",
          "text": [
            "Looking in indexes: https://pypi.org/simple, https://us-python.pkg.dev/colab-wheels/public/simple/\n",
            "Requirement already satisfied: scikit-learn in /usr/local/lib/python3.9/dist-packages (1.2.1)\n",
            "Requirement already satisfied: threadpoolctl>=2.0.0 in /usr/local/lib/python3.9/dist-packages (from scikit-learn) (3.1.0)\n",
            "Requirement already satisfied: joblib>=1.1.1 in /usr/local/lib/python3.9/dist-packages (from scikit-learn) (1.2.0)\n",
            "Requirement already satisfied: numpy>=1.17.3 in /usr/local/lib/python3.9/dist-packages (from scikit-learn) (1.22.4)\n",
            "Requirement already satisfied: scipy>=1.3.2 in /usr/local/lib/python3.9/dist-packages (from scikit-learn) (1.10.1)\n",
            "Looking in indexes: https://pypi.org/simple, https://us-python.pkg.dev/colab-wheels/public/simple/\n",
            "Collecting rouge\n",
            "  Downloading rouge-1.0.1-py3-none-any.whl (13 kB)\n",
            "Requirement already satisfied: six in /usr/local/lib/python3.9/dist-packages (from rouge) (1.15.0)\n",
            "Installing collected packages: rouge\n",
            "Successfully installed rouge-1.0.1\n",
            "Looking in indexes: https://pypi.org/simple, https://us-python.pkg.dev/colab-wheels/public/simple/\n",
            "Requirement already satisfied: nltk in /usr/local/lib/python3.9/dist-packages (3.7)\n",
            "Requirement already satisfied: joblib in /usr/local/lib/python3.9/dist-packages (from nltk) (1.2.0)\n",
            "Requirement already satisfied: tqdm in /usr/local/lib/python3.9/dist-packages (from nltk) (4.65.0)\n",
            "Requirement already satisfied: click in /usr/local/lib/python3.9/dist-packages (from nltk) (8.1.3)\n",
            "Requirement already satisfied: regex>=2021.8.3 in /usr/local/lib/python3.9/dist-packages (from nltk) (2022.6.2)\n"
          ]
        },
        {
          "output_type": "stream",
          "name": "stderr",
          "text": [
            "[nltk_data] Downloading package stopwords to /root/nltk_data...\n",
            "[nltk_data]   Package stopwords is already up-to-date!\n",
            "[nltk_data] Downloading package punkt to /root/nltk_data...\n",
            "[nltk_data]   Package punkt is already up-to-date!\n"
          ]
        }
      ]
    },
    {
      "cell_type": "code",
      "source": [
        "rouge = Rouge()\n",
        "scores = rouge.get_scores(summ, corpus2)\n",
        "print(\"ROUGE Score:\")\n",
        "print(\"Precision: {:.3f}\".format(scores[0]['rouge-1']['p']))\n",
        "print(\"Recall: {:.3f}\".format(scores[0]['rouge-1']['r']))\n",
        "print(\"F1-Score: {:.3f}\".format(scores[0]['rouge-1']['f']))"
      ],
      "metadata": {
        "colab": {
          "base_uri": "https://localhost:8080/"
        },
        "id": "7pZ7rVzXQOCV",
        "outputId": "34e9c8c2-19c5-4574-f392-51eecb5cd2fc"
      },
      "execution_count": 24,
      "outputs": [
        {
          "output_type": "stream",
          "name": "stdout",
          "text": [
            "ROUGE Score:\n",
            "Precision: 1.000\n",
            "Recall: 0.263\n",
            "F1-Score: 0.417\n"
          ]
        }
      ]
    },
    {
      "cell_type": "code",
      "source": [
        "from nltk.translate.bleu_score import sentence_bleu\n",
        "\n",
        "def summary_to_sentences(summ):\n",
        "    # Split the summary into sentences using the '.' character as a separator\n",
        "    sentences = summ.split('.')\n",
        "    \n",
        "    # Convert each sentence into a list of words\n",
        "    sentence_lists = [sentence.split() for sentence in sentences]\n",
        "    \n",
        "    return sentence_lists\n",
        "\n",
        "def paragraph_to_wordlist(paragraph):\n",
        "    # Split the paragraph into words using whitespace as a separator\n",
        "    words = paragraph.split()\n",
        "    return words\n",
        "\n",
        "reference_paragraph = corpus2\n",
        "reference_summary = summary_to_sentences(reference_paragraph)\n",
        "predicted_paragraph = summ\n",
        "predicted_summary = paragraph_to_wordlist(predicted_paragraph)\n",
        "\n",
        "score = sentence_bleu(reference_summary, predicted_summary)\n",
        "print(score)"
      ],
      "metadata": {
        "colab": {
          "base_uri": "https://localhost:8080/"
        },
        "id": "iYmXcD1bQcbz",
        "outputId": "f8be047b-da70-4623-896a-7892a0ba7c0f"
      },
      "execution_count": 25,
      "outputs": [
        {
          "output_type": "stream",
          "name": "stdout",
          "text": [
            "0.9009621392005804\n"
          ]
        }
      ]
    },
    {
      "cell_type": "code",
      "source": [
        "print(\"BLEU Score: {:.3f}\".format(score))"
      ],
      "metadata": {
        "colab": {
          "base_uri": "https://localhost:8080/"
        },
        "id": "THNYaW7JQtmb",
        "outputId": "2206f146-6ac6-489d-fbef-98ad8916916b"
      },
      "execution_count": 26,
      "outputs": [
        {
          "output_type": "stream",
          "name": "stdout",
          "text": [
            "BLEU Score: 0.901\n"
          ]
        }
      ]
    }
  ],
  "metadata": {
    "colab": {
      "provenance": []
    },
    "kernelspec": {
      "display_name": "Python 3",
      "name": "python3"
    },
    "language_info": {
      "name": "python"
    }
  },
  "nbformat": 4,
  "nbformat_minor": 0
}