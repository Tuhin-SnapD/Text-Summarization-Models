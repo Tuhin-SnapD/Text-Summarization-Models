{
  "nbformat": 4,
  "nbformat_minor": 0,
  "metadata": {
    "colab": {
      "provenance": []
    },
    "kernelspec": {
      "name": "python3",
      "display_name": "Python 3"
    },
    "language_info": {
      "name": "python"
    }
  },
  "cells": [
    {
      "cell_type": "markdown",
      "source": [
        "#Cluster-Based\n",
        "\n",
        "**Cluster-based algorithms** for text summarization are a class of unsupervised algorithms that group similar sentences into clusters and then extract summary sentences from these clusters. Here are some advantages and disadvantages of cluster-based algorithms for text summarization:\n",
        "\n",
        "### Pros:\n",
        "*\tFlexibility: Cluster-based algorithms are very flexible, as they can handle different types of texts, such as news articles, academic papers, and social media posts, among others.\n",
        "*\tLanguage independence: These algorithms are language-independent, which means they can summarize texts in any language.\n",
        "*\tEfficient: Cluster-based algorithms are relatively fast and can summarize large amounts of text quickly.\n",
        "\n",
        "### Cons:\n",
        "*\tClustering errors: The quality of the summary depends heavily on the quality of the clustering, and the clustering may not always be accurate, leading to poor summaries.\n",
        "*\tLack of coherence: Cluster-based algorithms may extract sentences from different clusters, leading to a lack of coherence in the summary.\n",
        "*\tLimited coverage: Cluster-based algorithms tend to summarize the most important sentences, but may miss some important details that are not explicitly mentioned in the text.\n",
        "*\tDifficulty in determining optimal number of clusters: One of the key challenges in cluster-based summarization is determining the optimal number of clusters, which can be difficult.\n",
        "\n",
        "Overall, cluster-based algorithms are a useful approach for summarizing text, but they do have limitations that need to be considered when using them.\n",
        "\n",
        "These are the scores we achieved:\n",
        "\n",
        "      ROUGE Score:\n",
        "      Precision: 0.980\n",
        "      Recall: 0.331\n",
        "      F1-Score: 0.495\n",
        "\n",
        "      BLEU Score: 0.896\n",
        "\n",
        "## References\n",
        "\n",
        "Here are some research papers on cluster-based text summarization:\n",
        "\n",
        "1. \"Cluster-Based Multi-Document Summarization Using Centroid-Based Clustering\" by S. Aravindan and S. Natarajan. This paper proposes a centroid-based clustering approach for multi-document summarization.\n",
        "\n",
        "2. \"Cluster-Based Summarization of Web Documents\" by M. Shishibori, Y. Kawai, and M. Ishikawa. This paper presents a cluster-based approach for summarizing web documents.\n",
        "\n",
        "3. \"Summarizing Text Documents by Sentence Extraction Using Latent Semantic Analysis\" by J. Steinberger and K. Jezek. This paper proposes a cluster-based approach using Latent Semantic Analysis for sentence extraction in text summarization.\n",
        "\n",
        "4. \"Multi-document Summarization Using Clustering and Sentence Extraction\" by C. Wang, Y. Liu, and J. Zhu. This paper proposes a clustering and sentence extraction approach for multi-document summarization.\n",
        "\n",
        "These papers provide valuable insights into the development and implementation of cluster-based text summarization techniques."
      ],
      "metadata": {
        "id": "pAiO6r6rBjHT"
      }
    },
    {
      "cell_type": "code",
      "execution_count": null,
      "metadata": {
        "id": "JHUlgAuUKsBl",
        "colab": {
          "base_uri": "https://localhost:8080/"
        },
        "outputId": "3497ae69-8b06-4236-937d-7aa1e06dc4d3"
      },
      "outputs": [
        {
          "output_type": "stream",
          "name": "stdout",
          "text": [
            "Looking in indexes: https://pypi.org/simple, https://us-python.pkg.dev/colab-wheels/public/simple/\n",
            "Collecting rouge\n",
            "  Downloading rouge-1.0.1-py3-none-any.whl (13 kB)\n",
            "Requirement already satisfied: six in /usr/local/lib/python3.8/dist-packages (from rouge) (1.15.0)\n",
            "Installing collected packages: rouge\n",
            "Successfully installed rouge-1.0.1\n",
            "Looking in indexes: https://pypi.org/simple, https://us-python.pkg.dev/colab-wheels/public/simple/\n",
            "Requirement already satisfied: nltk in /usr/local/lib/python3.8/dist-packages (3.7)\n",
            "Requirement already satisfied: regex>=2021.8.3 in /usr/local/lib/python3.8/dist-packages (from nltk) (2022.6.2)\n",
            "Requirement already satisfied: click in /usr/local/lib/python3.8/dist-packages (from nltk) (7.1.2)\n",
            "Requirement already satisfied: joblib in /usr/local/lib/python3.8/dist-packages (from nltk) (1.2.0)\n",
            "Requirement already satisfied: tqdm in /usr/local/lib/python3.8/dist-packages (from nltk) (4.64.1)\n"
          ]
        },
        {
          "output_type": "stream",
          "name": "stderr",
          "text": [
            "[nltk_data] Downloading package punkt to /root/nltk_data...\n",
            "[nltk_data]   Unzipping tokenizers/punkt.zip.\n"
          ]
        }
      ],
      "source": [
        "!pip install rouge\n",
        "!pip install nltk\n",
        "from rouge import Rouge \n",
        "import nltk\n",
        "import nltk.translate.bleu_score as bleu\n",
        "nltk.download('punkt')\n",
        "from sklearn.cluster import KMeans\n",
        "from sklearn.feature_extraction.text import TfidfVectorizer\n",
        "import numpy as np"
      ]
    },
    {
      "cell_type": "code",
      "source": [
        "text =\"\"\"\n",
        " India's Health Ministry has announced that the country's COVID-19 vaccination drive will now be expanded to include people over the age of 60 and those over 45 with co-morbidities. The move is expected to cover an additional 270 million people, making it one of the largest vaccination drives in the world.The decision was taken after a meeting of the National Expert Group on Vaccine Administration for COVID-19 (NEGVAC), which recommended the expansion of the vaccination program. The NEGVAC also suggested that private hospitals may be allowed to administer the vaccine, although the details of this are yet to be finalized.India began its vaccination drive in mid-January, starting with healthcare and frontline workers. Since then, over 13 million doses have been administered across the country. However, the pace of the vaccination drive has been slower than expected, with concerns raised over vaccine hesitancy and logistical challenges.The expansion of the vaccination drive to include the elderly and those with co-morbidities is a major step towards achieving herd immunity and controlling the spread of the virus in India. The Health Ministry has also urged eligible individuals to come forward and get vaccinated at the earliest.India has reported over 11 million cases of COVID-19, making it the second-worst affected country in the world after the United States. The country's daily case count has been declining in recent weeks, but experts have warned that the pandemic is far from over and that precautions need to be maintained.\n",
        "In summary, India's Health Ministry has announced that the country's COVID-19 vaccination drive will be expanded to include people over 60 and those over 45 with co-morbidities, covering an additional 270 million people. The decision was taken after a meeting of the National Expert Group on Vaccine Administration for COVID-19, and is a major step towards achieving herd immunity and controlling the spread of the virus in India.\"\"\""
      ],
      "metadata": {
        "id": "rZ6c2VWzK1Bm"
      },
      "execution_count": null,
      "outputs": []
    },
    {
      "cell_type": "code",
      "source": [
        "# Split paragraph into sentences\n",
        "sentences = text.split('. ')\n",
        "\n",
        "# Store each sentence as a separate document in the array\n",
        "documents = []\n",
        "for sentence in sentences:\n",
        "    documents.append(sentence.strip())"
      ],
      "metadata": {
        "id": "I_J796LlLHLK"
      },
      "execution_count": null,
      "outputs": []
    },
    {
      "cell_type": "code",
      "source": [
        "documents"
      ],
      "metadata": {
        "colab": {
          "base_uri": "https://localhost:8080/"
        },
        "id": "_YpM7sbwLK3L",
        "outputId": "65fa0fd8-8bff-4494-ef8a-cc9a74164f7f"
      },
      "execution_count": null,
      "outputs": [
        {
          "output_type": "execute_result",
          "data": {
            "text/plain": [
              "[\"India's Health Ministry has announced that the country's COVID-19 vaccination drive will now be expanded to include people over the age of 60 and those over 45 with co-morbidities\",\n",
              " 'The move is expected to cover an additional 270 million people, making it one of the largest vaccination drives in the world.The decision was taken after a meeting of the National Expert Group on Vaccine Administration for COVID-19 (NEGVAC), which recommended the expansion of the vaccination program',\n",
              " 'The NEGVAC also suggested that private hospitals may be allowed to administer the vaccine, although the details of this are yet to be finalized.India began its vaccination drive in mid-January, starting with healthcare and frontline workers',\n",
              " 'Since then, over 13 million doses have been administered across the country',\n",
              " 'However, the pace of the vaccination drive has been slower than expected, with concerns raised over vaccine hesitancy and logistical challenges.The expansion of the vaccination drive to include the elderly and those with co-morbidities is a major step towards achieving herd immunity and controlling the spread of the virus in India',\n",
              " 'The Health Ministry has also urged eligible individuals to come forward and get vaccinated at the earliest.India has reported over 11 million cases of COVID-19, making it the second-worst affected country in the world after the United States',\n",
              " \"The country's daily case count has been declining in recent weeks, but experts have warned that the pandemic is far from over and that precautions need to be maintained.\\nIn summary, India's Health Ministry has announced that the country's COVID-19 vaccination drive will be expanded to include people over 60 and those over 45 with co-morbidities, covering an additional 270 million people\",\n",
              " 'The decision was taken after a meeting of the National Expert Group on Vaccine Administration for COVID-19, and is a major step towards achieving herd immunity and controlling the spread of the virus in India.']"
            ]
          },
          "metadata": {},
          "execution_count": 4
        }
      ]
    },
    {
      "cell_type": "code",
      "source": [
        "# Create TF-IDF vectorizer\n",
        "vectorizer = TfidfVectorizer(stop_words='english')\n",
        "\n",
        "# Create document-term matrix\n",
        "doc_term_matrix = vectorizer.fit_transform(documents)\n",
        "\n",
        "# Perform K-means clustering\n",
        "k = 2\n",
        "km = KMeans(n_clusters=k, init='k-means++', max_iter=100, n_init=1, verbose=False)\n",
        "km.fit(doc_term_matrix)"
      ],
      "metadata": {
        "colab": {
          "base_uri": "https://localhost:8080/"
        },
        "id": "gsQcHdODLLq3",
        "outputId": "a84a089c-c114-4648-fe2c-3be6ad23b38a"
      },
      "execution_count": null,
      "outputs": [
        {
          "output_type": "execute_result",
          "data": {
            "text/plain": [
              "KMeans(max_iter=100, n_clusters=2, n_init=1, verbose=False)"
            ]
          },
          "metadata": {},
          "execution_count": 5
        }
      ]
    },
    {
      "cell_type": "code",
      "source": [
        "# Get cluster labels and centroids\n",
        "labels = km.labels_\n",
        "centroids = km.cluster_centers_\n",
        "\n",
        "# Get representative sentences for each cluster\n",
        "representative_sentences = []\n",
        "for i in range(k):\n",
        "    cluster_indices = np.where(labels == i)[0]\n",
        "    cluster_sentences = [documents[idx] for idx in cluster_indices]\n",
        "    cluster_vector = vectorizer.transform(cluster_sentences)\n",
        "    similarity_scores = np.asarray(cluster_vector.dot(centroids[i].T)).flatten()\n",
        "    threshold = np.percentile(similarity_scores, 80) # filter out non-representative sentences\n",
        "    representative_idx = np.argmax(similarity_scores * (similarity_scores > threshold))\n",
        "    representative_sentence = cluster_sentences[representative_idx]\n",
        "    representative_sentences.append(representative_sentence)"
      ],
      "metadata": {
        "id": "poEn_fF3LTpd"
      },
      "execution_count": null,
      "outputs": []
    },
    {
      "cell_type": "code",
      "source": [
        "def listToString(s):\n",
        "    str1 = \"\"\n",
        "    for ele in s:\n",
        "        str1 += ele\n",
        "    return str1"
      ],
      "metadata": {
        "id": "MIacoas1NREf"
      },
      "execution_count": null,
      "outputs": []
    },
    {
      "cell_type": "code",
      "source": [
        "# Post-processing: remove redundant sentences\n",
        "final_summary = list(set(representative_sentences))\n",
        "\n",
        "# Print the resulting summary\n",
        "summary=(listToString(final_summary))\n",
        "print(summary)"
      ],
      "metadata": {
        "colab": {
          "base_uri": "https://localhost:8080/"
        },
        "id": "hDo2OKaNLVf5",
        "outputId": "eb4d42ce-8071-4c93-9a0d-1a9da4aafe06"
      },
      "execution_count": null,
      "outputs": [
        {
          "output_type": "stream",
          "name": "stdout",
          "text": [
            "India's Health Ministry has announced that the country's COVID-19 vaccination drive will now be expanded to include people over the age of 60 and those over 45 with co-morbiditiesThe NEGVAC also suggested that private hospitals may be allowed to administer the vaccine, although the details of this are yet to be finalized.India began its vaccination drive in mid-January, starting with healthcare and frontline workers\n"
          ]
        }
      ]
    },
    {
      "cell_type": "code",
      "source": [
        "rouge = Rouge()\n",
        "scores = rouge.get_scores(summary, text)\n",
        "print(\"ROUGE Score:\")\n",
        "print(\"Precision: {:.3f}\".format(scores[0]['rouge-1']['p']))\n",
        "print(\"Recall: {:.3f}\".format(scores[0]['rouge-1']['r']))\n",
        "print(\"F1-Score: {:.3f}\".format(scores[0]['rouge-1']['f']))"
      ],
      "metadata": {
        "colab": {
          "base_uri": "https://localhost:8080/"
        },
        "id": "JZ_5T_6hUmYg",
        "outputId": "65cc43e0-effd-48fc-a332-e48037fd807c"
      },
      "execution_count": null,
      "outputs": [
        {
          "output_type": "stream",
          "name": "stdout",
          "text": [
            "ROUGE Score:\n",
            "Precision: 0.980\n",
            "Recall: 0.331\n",
            "F1-Score: 0.495\n"
          ]
        }
      ]
    },
    {
      "cell_type": "code",
      "source": [
        "from nltk.translate.bleu_score import sentence_bleu\n",
        "\n",
        "def summary_to_sentences(summary):\n",
        "    # Split the summary into sentences using the '.' character as a separator\n",
        "    sentences = summary.split('.')\n",
        "    \n",
        "    # Convert each sentence into a list of words\n",
        "    sentence_lists = [sentence.split() for sentence in sentences]\n",
        "    \n",
        "    return sentence_lists\n",
        "\n",
        "def paragraph_to_wordlist(paragraph):\n",
        "    # Split the paragraph into words using whitespace as a separator\n",
        "    words = paragraph.split()\n",
        "    return words\n",
        "\n",
        "reference_paragraph = text\n",
        "reference_summary = summary_to_sentences(reference_paragraph)\n",
        "predicted_paragraph = summary\n",
        "predicted_summary = paragraph_to_wordlist(predicted_paragraph)\n",
        "\n",
        "score = sentence_bleu(reference_summary, predicted_summary)\n",
        "print(score)"
      ],
      "metadata": {
        "colab": {
          "base_uri": "https://localhost:8080/"
        },
        "id": "CNDZuWVTU5zZ",
        "outputId": "310f4c82-5653-4db4-dc66-b0215c30a41f"
      },
      "execution_count": null,
      "outputs": [
        {
          "output_type": "stream",
          "name": "stdout",
          "text": [
            "0.8956352427165735\n"
          ]
        }
      ]
    },
    {
      "cell_type": "code",
      "source": [
        "print(\"BLEU Score: {:.3f}\".format(score))"
      ],
      "metadata": {
        "colab": {
          "base_uri": "https://localhost:8080/"
        },
        "id": "3UkkMn3lR-tL",
        "outputId": "c0123738-92a7-4144-8c08-f2ca05ce41e8"
      },
      "execution_count": null,
      "outputs": [
        {
          "output_type": "stream",
          "name": "stdout",
          "text": [
            "BLEU Score: 0.896\n"
          ]
        }
      ]
    }
  ]
}