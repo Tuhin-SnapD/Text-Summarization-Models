{
  "nbformat": 4,
  "nbformat_minor": 0,
  "metadata": {
    "colab": {
      "provenance": []
    },
    "kernelspec": {
      "name": "python3",
      "display_name": "Python 3"
    },
    "language_info": {
      "name": "python"
    }
  },
  "cells": [
    {
      "cell_type": "code",
      "execution_count": 9,
      "metadata": {
        "colab": {
          "base_uri": "https://localhost:8080/"
        },
        "id": "G6FZFUOhJXz3",
        "outputId": "e7bcdb21-1903-404e-9d53-d69053962eec"
      },
      "outputs": [
        {
          "output_type": "stream",
          "name": "stderr",
          "text": [
            "[nltk_data] Downloading package stopwords to /root/nltk_data...\n",
            "[nltk_data]   Package stopwords is already up-to-date!\n",
            "[nltk_data] Downloading package punkt to /root/nltk_data...\n",
            "[nltk_data]   Unzipping tokenizers/punkt.zip.\n"
          ]
        },
        {
          "output_type": "execute_result",
          "data": {
            "text/plain": [
              "True"
            ]
          },
          "metadata": {},
          "execution_count": 9
        }
      ],
      "source": [
        "import nltk\n",
        "from nltk.corpus import stopwords\n",
        "from nltk.tokenize import sent_tokenize, word_tokenize\n",
        "nltk.download('stopwords')\n",
        "nltk.download('punkt')"
      ]
    },
    {
      "cell_type": "code",
      "source": [
        "def get_word_frequencies(text):\n",
        "    \"\"\"\n",
        "    Calculates the frequency of each word in the text\n",
        "    \"\"\"\n",
        "    stop_words = set(stopwords.words('english'))\n",
        "    words = [word.lower() for word in word_tokenize(text) if word.isalpha() and word.lower() not in stop_words]\n",
        "    freq = nltk.FreqDist(words)\n",
        "    return freq"
      ],
      "metadata": {
        "id": "ru_RdIk3JiS1"
      },
      "execution_count": 2,
      "outputs": []
    },
    {
      "cell_type": "code",
      "source": [
        "def get_sentence_scores(text, freq):\n",
        "    \"\"\"\n",
        "    Calculates the score of each sentence in the text\n",
        "    \"\"\"\n",
        "    sentences = sent_tokenize(text)\n",
        "    scores = []\n",
        "    for sentence in sentences:\n",
        "        sentence_score = 0\n",
        "        sentence_words = [word.lower() for word in word_tokenize(sentence) if word.isalpha()]\n",
        "        for word in sentence_words:\n",
        "            sentence_score += freq[word]\n",
        "        sentence_score /= len(sentence_words)\n",
        "        scores.append((sentence, sentence_score))\n",
        "    return scores"
      ],
      "metadata": {
        "id": "RnEZ0-sQJlWz"
      },
      "execution_count": 3,
      "outputs": []
    },
    {
      "cell_type": "code",
      "source": [
        "def summarize(text, length):\n",
        "    \"\"\"\n",
        "    Summarizes the text to the specified length using the SumBasic algorithm\n",
        "    \"\"\"\n",
        "    freq = get_word_frequencies(text)\n",
        "    summary = []\n",
        "    while len(summary) < length:\n",
        "        sentence_scores = get_sentence_scores(text, freq)\n",
        "        top_sentence = max(sentence_scores, key=lambda x: x[1])[0]\n",
        "        summary.append(top_sentence)\n",
        "        # update frequency distribution by reducing frequency of words in the selected sentence\n",
        "        for word in word_tokenize(top_sentence):\n",
        "            if word.isalpha():\n",
        "                freq[word.lower()] -= 1\n",
        "    return ' '.join(summary)"
      ],
      "metadata": {
        "id": "MnXS951_JpyT"
      },
      "execution_count": 4,
      "outputs": []
    },
    {
      "cell_type": "code",
      "source": [
        "text = \"\"\"\n",
        "Astronomers have used the James Webb Space Telescope to peer back in time to the early days of the universe — and they spotted something unexpected.\n",
        "The space observatory revealed six massive galaxies that existed between 500 million and 700 million years after the big bang that created the universe. The discovery is completely upending existing theories about the origins of galaxies, according to a new study published Wednesday in the journal Nature.\n",
        "“These objects are way more massive​ than anyone expected,” said study coauthor Joel Leja, assistant professor of astronomy and astrophysics at Penn State University, in a statement. “We expected only to find tiny, young, baby galaxies at this point in time, but we’ve discovered galaxies as mature as our own in what was previously understood to be the dawn of the universe.”\n",
        "The telescope observes the universe in infrared light, which is invisible to the human eye, and is capable of detecting the faint light from ancient stars and galaxies. By peering into the distant universe, the observatory can essentially see back in time up to about 13.5 billion years ago. (Scientists have determined the universe is about 13.7 billion years old.)\n",
        "\"\"\""
      ],
      "metadata": {
        "id": "hjkhKfJFJsuO"
      },
      "execution_count": 5,
      "outputs": []
    },
    {
      "cell_type": "code",
      "source": [
        "summary = summarize(text, 3)\n",
        "print(summary)"
      ],
      "metadata": {
        "colab": {
          "base_uri": "https://localhost:8080/"
        },
        "id": "tCxYcOxmJyuz",
        "outputId": "15caa80a-013b-4db7-f2ed-5d1a52f17948"
      },
      "execution_count": 10,
      "outputs": [
        {
          "output_type": "stream",
          "name": "stdout",
          "text": [
            "(Scientists have determined the universe is about 13.7 billion years old.) The space observatory revealed six massive galaxies that existed between 500 million and 700 million years after the big bang that created the universe. “These objects are way more massive​ than anyone expected,” said study coauthor Joel Leja, assistant professor of astronomy and astrophysics at Penn State University, in a statement.\n"
          ]
        }
      ]
    }
  ]
}