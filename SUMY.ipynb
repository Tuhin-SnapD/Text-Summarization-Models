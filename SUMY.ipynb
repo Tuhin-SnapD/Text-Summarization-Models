{
  "nbformat": 4,
  "nbformat_minor": 0,
  "metadata": {
    "colab": {
      "provenance": []
    },
    "kernelspec": {
      "name": "python3",
      "display_name": "Python 3"
    },
    "language_info": {
      "name": "python"
    }
  },
  "cells": [
    {
      "cell_type": "code",
      "execution_count": null,
      "metadata": {
        "id": "YmU7yYJtvno1"
      },
      "outputs": [],
      "source": [
        "import math\n",
        "\n",
        "from itertools import combinations\n",
        "from collections import defaultdict"
      ]
    },
    {
      "cell_type": "code",
      "source": [
        "class ReductionSummarizer():\n",
        "    \n",
        "    _stop_words = frozenset()\n",
        "    #Overriding property\n",
        "    @property\n",
        "    def stop_words(self):\n",
        "        return self._stop_words\n",
        "    \n",
        "    @stop_words.setter\n",
        "    def stop_words(self, words):\n",
        "        self._stop_words = frozenset(map(self.normalize_word, words))\n",
        "\n",
        "    def __call__(self, document, sentences_count):\n",
        "        ratings = self.rate_sentences(document)\n",
        "        return self._get_best_sentences(document.sentences, sentences_count, ratings)\n",
        "\n",
        "## Rating the sentences \n",
        "    def rate_sentences(self, document):\n",
        "        sentences_words = [(s, self._to_words_set(s)) for s in document.sentences]\n",
        "        ratings = defaultdict(float)\n",
        "    \n",
        "        # Iterating over the sentences in order to rank them\n",
        "        for (sentence1, words1), (sentence2, words2) in combinations(sentences_words, 2):\n",
        "            rank = self._rate_sentences_edge(words1, words2)\n",
        "            ratings[sentence1] += rank\n",
        "            ratings[sentence2] += rank\n",
        "\n",
        "        return ratings\n",
        "\n",
        "    def _to_words_set(self, sentence):\n",
        "        words = map(self.normalize_word, sentence.words)\n",
        "        return [self.stem_word(w) for w in words if w not in self._stop_words]\n",
        "\n",
        "    def _rate_sentences_edge(self, words1, words2):\n",
        "        rank = 0\n",
        "        for w1 in words1:\n",
        "            for w2 in words2:\n",
        "                rank += int(w1 == w2)\n",
        "\n",
        "        if rank == 0:\n",
        "            return 0.0\n",
        "\n",
        "        assert len(words1) > 0 and len(words2) > 0\n",
        "        norm = math.log(len(words1)) + math.log(len(words2))\n",
        "        return 0.0 if norm == 0.0 else rank / norm"
      ],
      "metadata": {
        "id": "HlmjrL7NvvBO"
      },
      "execution_count": null,
      "outputs": []
    },
    {
      "cell_type": "code",
      "source": [
        "!pip install sumy"
      ],
      "metadata": {
        "colab": {
          "base_uri": "https://localhost:8080/"
        },
        "id": "nvn_mR5Dv1Mi",
        "outputId": "518b06b5-60ad-457a-cd15-860cd160755c"
      },
      "execution_count": null,
      "outputs": [
        {
          "output_type": "stream",
          "name": "stdout",
          "text": [
            "Looking in indexes: https://pypi.org/simple, https://us-python.pkg.dev/colab-wheels/public/simple/\n",
            "Collecting sumy\n",
            "  Downloading sumy-0.11.0-py2.py3-none-any.whl (97 kB)\n",
            "\u001b[2K     \u001b[90m━━━━━━━━━━━━━━━━━━━━━━━━━━━━━━━━━━━━━━━━\u001b[0m \u001b[32m97.3/97.3 KB\u001b[0m \u001b[31m3.5 MB/s\u001b[0m eta \u001b[36m0:00:00\u001b[0m\n",
            "\u001b[?25hCollecting breadability>=0.1.20\n",
            "  Downloading breadability-0.1.20.tar.gz (32 kB)\n",
            "  Preparing metadata (setup.py) ... \u001b[?25l\u001b[?25hdone\n",
            "Collecting docopt<0.7,>=0.6.1\n",
            "  Downloading docopt-0.6.2.tar.gz (25 kB)\n",
            "  Preparing metadata (setup.py) ... \u001b[?25l\u001b[?25hdone\n",
            "Collecting pycountry>=18.2.23\n",
            "  Downloading pycountry-22.3.5.tar.gz (10.1 MB)\n",
            "\u001b[2K     \u001b[90m━━━━━━━━━━━━━━━━━━━━━━━━━━━━━━━━━━━━━━━━\u001b[0m \u001b[32m10.1/10.1 MB\u001b[0m \u001b[31m64.8 MB/s\u001b[0m eta \u001b[36m0:00:00\u001b[0m\n",
            "\u001b[?25h  Installing build dependencies ... \u001b[?25l\u001b[?25hdone\n",
            "  Getting requirements to build wheel ... \u001b[?25l\u001b[?25hdone\n",
            "  Preparing metadata (pyproject.toml) ... \u001b[?25l\u001b[?25hdone\n",
            "Requirement already satisfied: requests>=2.7.0 in /usr/local/lib/python3.8/dist-packages (from sumy) (2.25.1)\n",
            "Requirement already satisfied: nltk>=3.0.2 in /usr/local/lib/python3.8/dist-packages (from sumy) (3.7)\n",
            "Requirement already satisfied: chardet in /usr/local/lib/python3.8/dist-packages (from breadability>=0.1.20->sumy) (4.0.0)\n",
            "Requirement already satisfied: lxml>=2.0 in /usr/local/lib/python3.8/dist-packages (from breadability>=0.1.20->sumy) (4.9.2)\n",
            "Requirement already satisfied: joblib in /usr/local/lib/python3.8/dist-packages (from nltk>=3.0.2->sumy) (1.2.0)\n",
            "Requirement already satisfied: regex>=2021.8.3 in /usr/local/lib/python3.8/dist-packages (from nltk>=3.0.2->sumy) (2022.6.2)\n",
            "Requirement already satisfied: click in /usr/local/lib/python3.8/dist-packages (from nltk>=3.0.2->sumy) (7.1.2)\n",
            "Requirement already satisfied: tqdm in /usr/local/lib/python3.8/dist-packages (from nltk>=3.0.2->sumy) (4.64.1)\n",
            "Requirement already satisfied: setuptools in /usr/local/lib/python3.8/dist-packages (from pycountry>=18.2.23->sumy) (57.4.0)\n",
            "Requirement already satisfied: urllib3<1.27,>=1.21.1 in /usr/local/lib/python3.8/dist-packages (from requests>=2.7.0->sumy) (1.24.3)\n",
            "Requirement already satisfied: certifi>=2017.4.17 in /usr/local/lib/python3.8/dist-packages (from requests>=2.7.0->sumy) (2022.12.7)\n",
            "Requirement already satisfied: idna<3,>=2.5 in /usr/local/lib/python3.8/dist-packages (from requests>=2.7.0->sumy) (2.10)\n",
            "Building wheels for collected packages: breadability, docopt, pycountry\n",
            "  Building wheel for breadability (setup.py) ... \u001b[?25l\u001b[?25hdone\n",
            "  Created wheel for breadability: filename=breadability-0.1.20-py2.py3-none-any.whl size=21714 sha256=daec223f134ab7554ffd76f657e10f9fa83d1712306cdfda34e274b1b789ace8\n",
            "  Stored in directory: /root/.cache/pip/wheels/5f/0d/0c/2062d8c1758b4b1a2e42b4a63e6660d9ec2ba9463cfee9eeab\n",
            "  Building wheel for docopt (setup.py) ... \u001b[?25l\u001b[?25hdone\n",
            "  Created wheel for docopt: filename=docopt-0.6.2-py2.py3-none-any.whl size=13723 sha256=119d582ce479cbd6bf7edd4e8f6231265fca7c017ae35bab1d59ae805e1cc1c2\n",
            "  Stored in directory: /root/.cache/pip/wheels/56/ea/58/ead137b087d9e326852a851351d1debf4ada529b6ac0ec4e8c\n",
            "  Building wheel for pycountry (pyproject.toml) ... \u001b[?25l\u001b[?25hdone\n",
            "  Created wheel for pycountry: filename=pycountry-22.3.5-py2.py3-none-any.whl size=10681845 sha256=1f56dbd2fbefec064823f826acdddee41ab979da44e4330f36f72079b28fe662\n",
            "  Stored in directory: /root/.cache/pip/wheels/e2/aa/0f/c224e473b464387170b83ca7c66947b4a7e33e8d903a679748\n",
            "Successfully built breadability docopt pycountry\n",
            "Installing collected packages: docopt, pycountry, breadability, sumy\n",
            "Successfully installed breadability-0.1.20 docopt-0.6.2 pycountry-22.3.5 sumy-0.11.0\n"
          ]
        }
      ]
    },
    {
      "cell_type": "code",
      "source": [
        "from sumy.parsers.plaintext import PlaintextParser\n",
        "from sumy.nlp.tokenizers import Tokenizer\n",
        "from sumy.summarizers.reduction import ReductionSummarizer\n",
        "doc=\"\"\"Railways Minister Ashwini Vaishnaw on Wednesday announced that India will have its first hydrogen train designed and manufactured locally by December 2023 on the Kalka-Shimla historic circuit. Although hydrogen-powered train technology is still in its infancy with only a few countries using it on a limited basis, India's early adoption is regarded as a significant step toward green initiatives. The upcoming hydrogen-powered trains will be known as Vande Metro. It will initially run on historic, narrow-gauge routes including the Darjeeling Himalayan Railway, the Nilgiri Mountain Railway, the Kalka Shimla Railwa y, the Matheran Hill Railway, the Kangra Valley, the Bilmora Waghai, and the Marwar-Devgarh Madriya, which will make travel more environmentally friendly.\"\"\"\n",
        "print(doc)"
      ],
      "metadata": {
        "colab": {
          "base_uri": "https://localhost:8080/"
        },
        "id": "Kgf-Xqlqvwj_",
        "outputId": "63ddd89e-0a98-45bb-c92f-92a7df361929"
      },
      "execution_count": null,
      "outputs": [
        {
          "output_type": "stream",
          "name": "stdout",
          "text": [
            "Railways Minister Ashwini Vaishnaw on Wednesday announced that India will have its first hydrogen train designed and manufactured locally by December 2023 on the Kalka-Shimla historic circuit. Although hydrogen-powered train technology is still in its infancy with only a few countries using it on a limited basis, India's early adoption is regarded as a significant step toward green initiatives. The upcoming hydrogen-powered trains will be known as Vande Metro. It will initially run on historic, narrow-gauge routes including the Darjeeling Himalayan Railway, the Nilgiri Mountain Railway, the Kalka Shimla Railwa y, the Matheran Hill Railway, the Kangra Valley, the Bilmora Waghai, and the Marwar-Devgarh Madriya, which will make travel more environmentally friendly.\n"
          ]
        }
      ]
    },
    {
      "cell_type": "code",
      "source": [
        "import nltk\n",
        "nltk.download('punkt')"
      ],
      "metadata": {
        "colab": {
          "base_uri": "https://localhost:8080/"
        },
        "id": "yFnF9-S3wLaI",
        "outputId": "7b25e4df-1a8d-49ec-c954-24549462243e"
      },
      "execution_count": null,
      "outputs": [
        {
          "output_type": "stream",
          "name": "stderr",
          "text": [
            "[nltk_data] Downloading package punkt to /root/nltk_data...\n",
            "[nltk_data]   Unzipping tokenizers/punkt.zip.\n"
          ]
        },
        {
          "output_type": "execute_result",
          "data": {
            "text/plain": [
              "True"
            ]
          },
          "metadata": {},
          "execution_count": 6
        }
      ]
    },
    {
      "cell_type": "code",
      "source": [
        "parser=PlaintextParser.from_string(doc,Tokenizer(\"english\"))\n",
        "# Using Reduction Summarizer\n",
        "summarizer = ReductionSummarizer()\n",
        "#Summarize the document with 4 sentences\n",
        "summary = summarizer(parser.document,1)\n",
        "for sentence in summary:\n",
        "    print(sentence)"
      ],
      "metadata": {
        "colab": {
          "base_uri": "https://localhost:8080/"
        },
        "id": "rFnc_N_Ev0hD",
        "outputId": "decd5186-cf73-4dc5-90b6-19f1b13b774e"
      },
      "execution_count": null,
      "outputs": [
        {
          "output_type": "stream",
          "name": "stdout",
          "text": [
            "It will initially run on historic, narrow-gauge routes including the Darjeeling Himalayan Railway, the Nilgiri Mountain Railway, the Kalka Shimla Railwa y, the Matheran Hill Railway, the Kangra Valley, the Bilmora Waghai, and the Marwar-Devgarh Madriya, which will make travel more environmentally friendly.\n"
          ]
        }
      ]
    }
  ]
}