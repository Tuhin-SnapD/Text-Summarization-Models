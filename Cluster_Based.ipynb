{
  "nbformat": 4,
  "nbformat_minor": 0,
  "metadata": {
    "colab": {
      "provenance": []
    },
    "kernelspec": {
      "name": "python3",
      "display_name": "Python 3"
    },
    "language_info": {
      "name": "python"
    }
  },
  "cells": [
    {
      "cell_type": "code",
      "execution_count": 1,
      "metadata": {
        "id": "JHUlgAuUKsBl"
      },
      "outputs": [],
      "source": [
        "from sklearn.cluster import KMeans\n",
        "from sklearn.feature_extraction.text import TfidfVectorizer\n",
        "import numpy as np"
      ]
    },
    {
      "cell_type": "code",
      "source": [
        "text = \"\"\"\n",
        "Astronomers have used the James Webb Space Telescope to peer back in time to the early days of the universe — and they spotted something unexpected.\n",
        "The space observatory revealed six massive galaxies that existed between 500 million and 700 million years after the big bang that created the universe. The discovery is completely upending existing theories about the origins of galaxies, according to a new study published Wednesday in the journal Nature.\n",
        "“These objects are way more massive​ than anyone expected,” said study coauthor Joel Leja, assistant professor of astronomy and astrophysics at Penn State University, in a statement. “We expected only to find tiny, young, baby galaxies at this point in time, but we’ve discovered galaxies as mature as our own in what was previously understood to be the dawn of the universe.”\n",
        "The telescope observes the universe in infrared light, which is invisible to the human eye, and is capable of detecting the faint light from ancient stars and galaxies. By peering into the distant universe, the observatory can essentially see back in time up to about 13.5 billion years ago. (Scientists have determined the universe is about 13.7 billion years old.)\n",
        "\"\"\""
      ],
      "metadata": {
        "id": "rZ6c2VWzK1Bm"
      },
      "execution_count": 2,
      "outputs": []
    },
    {
      "cell_type": "code",
      "source": [
        "# Split paragraph into sentences\n",
        "sentences = text.split('. ')\n",
        "\n",
        "# Store each sentence as a separate document in the array\n",
        "documents = []\n",
        "for sentence in sentences:\n",
        "    documents.append(sentence.strip())"
      ],
      "metadata": {
        "id": "I_J796LlLHLK"
      },
      "execution_count": 3,
      "outputs": []
    },
    {
      "cell_type": "code",
      "source": [
        "documents"
      ],
      "metadata": {
        "colab": {
          "base_uri": "https://localhost:8080/"
        },
        "id": "_YpM7sbwLK3L",
        "outputId": "d3202d56-b484-43a6-c5e7-a9aafa3b943d"
      },
      "execution_count": 4,
      "outputs": [
        {
          "output_type": "execute_result",
          "data": {
            "text/plain": [
              "['Astronomers have used the James Webb Space Telescope to peer back in time to the early days of the universe — and they spotted something unexpected.\\nThe space observatory revealed six massive galaxies that existed between 500 million and 700 million years after the big bang that created the universe',\n",
              " 'The discovery is completely upending existing theories about the origins of galaxies, according to a new study published Wednesday in the journal Nature.\\n“These objects are way more massive\\u200b than anyone expected,” said study coauthor Joel Leja, assistant professor of astronomy and astrophysics at Penn State University, in a statement',\n",
              " '“We expected only to find tiny, young, baby galaxies at this point in time, but we’ve discovered galaxies as mature as our own in what was previously understood to be the dawn of the universe.”\\nThe telescope observes the universe in infrared light, which is invisible to the human eye, and is capable of detecting the faint light from ancient stars and galaxies',\n",
              " 'By peering into the distant universe, the observatory can essentially see back in time up to about 13.5 billion years ago',\n",
              " '(Scientists have determined the universe is about 13.7 billion years old.)']"
            ]
          },
          "metadata": {},
          "execution_count": 4
        }
      ]
    },
    {
      "cell_type": "code",
      "source": [
        "# Create TF-IDF vectorizer\n",
        "vectorizer = TfidfVectorizer(stop_words='english')\n",
        "\n",
        "# Create document-term matrix\n",
        "doc_term_matrix = vectorizer.fit_transform(documents)\n",
        "\n",
        "# Perform K-means clustering\n",
        "k = 2\n",
        "km = KMeans(n_clusters=k, init='k-means++', max_iter=100, n_init=1, verbose=False)\n",
        "km.fit(doc_term_matrix)"
      ],
      "metadata": {
        "colab": {
          "base_uri": "https://localhost:8080/"
        },
        "id": "gsQcHdODLLq3",
        "outputId": "7d8efa4b-461d-4863-e7b8-e6c26abd667a"
      },
      "execution_count": 11,
      "outputs": [
        {
          "output_type": "execute_result",
          "data": {
            "text/plain": [
              "KMeans(max_iter=100, n_clusters=2, n_init=1, verbose=False)"
            ]
          },
          "metadata": {},
          "execution_count": 11
        }
      ]
    },
    {
      "cell_type": "code",
      "source": [
        "# Get cluster labels and centroids\n",
        "labels = km.labels_\n",
        "centroids = km.cluster_centers_\n",
        "\n",
        "# Get representative sentences for each cluster\n",
        "representative_sentences = []\n",
        "for i in range(k):\n",
        "    cluster_indices = np.where(labels == i)[0]\n",
        "    cluster_sentences = [documents[idx] for idx in cluster_indices]\n",
        "    cluster_vector = vectorizer.transform(cluster_sentences)\n",
        "    similarity_scores = np.asarray(cluster_vector.dot(centroids[i].T)).flatten()\n",
        "    threshold = np.percentile(similarity_scores, 80) # filter out non-representative sentences\n",
        "    representative_idx = np.argmax(similarity_scores * (similarity_scores > threshold))\n",
        "    representative_sentence = cluster_sentences[representative_idx]\n",
        "    representative_sentences.append(representative_sentence)"
      ],
      "metadata": {
        "id": "poEn_fF3LTpd"
      },
      "execution_count": 14,
      "outputs": []
    },
    {
      "cell_type": "code",
      "source": [
        "def listToString(s):\n",
        "    str1 = \"\"\n",
        "    for ele in s:\n",
        "        str1 += ele\n",
        "    return str1"
      ],
      "metadata": {
        "id": "MIacoas1NREf"
      },
      "execution_count": 20,
      "outputs": []
    },
    {
      "cell_type": "code",
      "source": [
        "# Post-processing: remove redundant sentences\n",
        "final_summary = list(set(representative_sentences))\n",
        "\n",
        "# Print the resulting summary\n",
        "print(listToString(final_summary))"
      ],
      "metadata": {
        "colab": {
          "base_uri": "https://localhost:8080/"
        },
        "id": "hDo2OKaNLVf5",
        "outputId": "acb7fd93-799c-49b6-cc44-bcbdda9e33dc"
      },
      "execution_count": 21,
      "outputs": [
        {
          "output_type": "stream",
          "name": "stdout",
          "text": [
            "The discovery is completely upending existing theories about the origins of galaxies, according to a new study published Wednesday in the journal Nature.\n",
            "“These objects are way more massive​ than anyone expected,” said study coauthor Joel Leja, assistant professor of astronomy and astrophysics at Penn State University, in a statementBy peering into the distant universe, the observatory can essentially see back in time up to about 13.5 billion years ago\n"
          ]
        }
      ]
    }
  ]
}