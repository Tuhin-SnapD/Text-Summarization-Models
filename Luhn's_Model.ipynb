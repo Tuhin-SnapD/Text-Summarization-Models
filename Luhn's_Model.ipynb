{
  "nbformat": 4,
  "nbformat_minor": 0,
  "metadata": {
    "colab": {
      "provenance": []
    },
    "kernelspec": {
      "name": "python3",
      "display_name": "Python 3"
    },
    "language_info": {
      "name": "python"
    }
  },
  "cells": [
    {
      "cell_type": "code",
      "execution_count": 1,
      "metadata": {
        "id": "lTTxV7GxGdUg"
      },
      "outputs": [],
      "source": [
        "from collections import Counter\n",
        "from nltk.corpus import stopwords"
      ]
    },
    {
      "cell_type": "code",
      "source": [
        "def extract_keywords(text, n_keywords=10):\n",
        "    # Tokenize the text\n",
        "    tokens = text.lower().split()\n",
        "\n",
        "    # Remove stop words\n",
        "    stop_words = set(stopwords.words('english'))\n",
        "    tokens = [token for token in tokens if token not in stop_words]\n",
        "\n",
        "    # Calculate the frequency of each word\n",
        "    freq = Counter(tokens)\n",
        "\n",
        "    # Assign scores to each word based on frequency and position\n",
        "    scores = {word: freq[word] * (i+1) for i, word in enumerate(tokens)}\n",
        "\n",
        "    # Sort the words by score and select the top n_keywords\n",
        "    keywords = sorted(scores.items(), key=lambda x: x[1], reverse=True)[:n_keywords]\n",
        "\n",
        "    # Return the top keywords\n",
        "    return [keyword[0] for keyword in keywords]"
      ],
      "metadata": {
        "id": "ywbshXsGGyON"
      },
      "execution_count": 2,
      "outputs": []
    },
    {
      "cell_type": "code",
      "source": [
        "import nltk\n",
        "nltk.download('stopwords')"
      ],
      "metadata": {
        "colab": {
          "base_uri": "https://localhost:8080/"
        },
        "id": "hMwcWQYTHXBN",
        "outputId": "102e3020-5fb4-4645-e532-8ae4a975304a"
      },
      "execution_count": 5,
      "outputs": [
        {
          "output_type": "stream",
          "name": "stderr",
          "text": [
            "[nltk_data] Downloading package stopwords to /root/nltk_data...\n",
            "[nltk_data]   Unzipping corpora/stopwords.zip.\n"
          ]
        },
        {
          "output_type": "execute_result",
          "data": {
            "text/plain": [
              "True"
            ]
          },
          "metadata": {},
          "execution_count": 5
        }
      ]
    },
    {
      "cell_type": "code",
      "source": [
        "text = \"\"\"Alex Murdaugh testified in his double murder trial Thursday, admitting he lied to investigators when he said he was not at the scene of his wife and son’s killings before they were fatally shot in June 2021.\n",
        "Within moments of taking the stand, Murdaugh acknowledged his voice is heard in a video that appeared to be filmed at the dog kennels where the bodies of Margaret “Maggie” Murdaugh and Paul Murdaugh were found, saying he lied about being at the kennels earlier that evening because of “paranoid thinking” stemming from his drug addiction.\n",
        "Alex Murdaugh cries while listening to his son Buster Murdaugh testify during Alex Murdaugh's trial at the Colleton County Courthouse in Walterboro, S.C., on Tuesday, Feb. 21, 2023. The 54-year-old attorney is standing trial on two counts of murder in the shootings of his wife and son at their Colleton County, S.C., home and hunting lodge on June 7, 2021. (Jeff Blake/The State via AP, Pool)\n",
        "Alex Murdaugh 'destroyed' by fatal shootings of wife and son, surviving son testifies at double murder trial\n",
        "That video has become a cornerstone of the state’s case, and prosecutors have used it to put Murdaugh at the scene minutes before they say Maggie, 52, and Paul, 22, were killed, contradicting his repeated statements to law enforcement that he had not been there that night. Over the course of the trial, numerous witnesses have identified Murdaugh’s voice in the background of the footage, recorded by Paul at 8:44 p.m. on June 7, 2021.\"\"\"\n",
        "\n",
        "# Extract the top 3 keywords\n",
        "keywords = extract_keywords(text, n_keywords=3)\n",
        "\n",
        "# Print the keywords\n",
        "print('Top keywords:', keywords)\n"
      ],
      "metadata": {
        "colab": {
          "base_uri": "https://localhost:8080/"
        },
        "id": "kAjkoCdpG2YU",
        "outputId": "126f32c5-8cb1-4b5d-c7de-b0608dfdd78a"
      },
      "execution_count": 8,
      "outputs": [
        {
          "output_type": "stream",
          "name": "stdout",
          "text": [
            "Top keywords: ['murdaugh', '2021.', 'june']\n"
          ]
        }
      ]
    },
    {
      "cell_type": "code",
      "source": [
        "# Summarize the text using the top keywords\n",
        "sentences = text.split('.')\n",
        "summary = ''\n",
        "for sentence in sentences:\n",
        "    for keyword in keywords:\n",
        "        if keyword in sentence.lower():\n",
        "            summary += sentence.strip() + '. '\n",
        "            break\n",
        "\n",
        "# Print the summary\n",
        "print('Summary:', summary)"
      ],
      "metadata": {
        "colab": {
          "base_uri": "https://localhost:8080/"
        },
        "id": "k_Yfoy2mHUKr",
        "outputId": "3a8e0889-80b9-49b9-f057-67a46b300ce1"
      },
      "execution_count": 9,
      "outputs": [
        {
          "output_type": "stream",
          "name": "stdout",
          "text": [
            "Summary: Alex Murdaugh testified in his double murder trial Thursday, admitting he lied to investigators when he said he was not at the scene of his wife and son’s killings before they were fatally shot in June 2021. Within moments of taking the stand, Murdaugh acknowledged his voice is heard in a video that appeared to be filmed at the dog kennels where the bodies of Margaret “Maggie” Murdaugh and Paul Murdaugh were found, saying he lied about being at the kennels earlier that evening because of “paranoid thinking” stemming from his drug addiction. Alex Murdaugh cries while listening to his son Buster Murdaugh testify during Alex Murdaugh's trial at the Colleton County Courthouse in Walterboro, S. , home and hunting lodge on June 7, 2021. (Jeff Blake/The State via AP, Pool)\n",
            "Alex Murdaugh 'destroyed' by fatal shootings of wife and son, surviving son testifies at double murder trial\n",
            "That video has become a cornerstone of the state’s case, and prosecutors have used it to put Murdaugh at the scene minutes before they say Maggie, 52, and Paul, 22, were killed, contradicting his repeated statements to law enforcement that he had not been there that night. Over the course of the trial, numerous witnesses have identified Murdaugh’s voice in the background of the footage, recorded by Paul at 8:44 p. on June 7, 2021. \n"
          ]
        }
      ]
    },
    {
      "cell_type": "code",
      "source": [],
      "metadata": {
        "id": "mR7GDwtjHzfB"
      },
      "execution_count": null,
      "outputs": []
    }
  ]
}