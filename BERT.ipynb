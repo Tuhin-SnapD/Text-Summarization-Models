{
  "nbformat": 4,
  "nbformat_minor": 0,
  "metadata": {
    "colab": {
      "provenance": []
    },
    "kernelspec": {
      "name": "python3",
      "display_name": "Python 3"
    },
    "language_info": {
      "name": "python"
    }
  },
  "cells": [
    {
      "cell_type": "code",
      "source": [
        "!pip install transformers"
      ],
      "metadata": {
        "colab": {
          "base_uri": "https://localhost:8080/"
        },
        "id": "9t8Jf2lM_OVz",
        "outputId": "ed6c633a-284b-4241-dffe-7647f83147a6"
      },
      "execution_count": 2,
      "outputs": [
        {
          "output_type": "stream",
          "name": "stdout",
          "text": [
            "Looking in indexes: https://pypi.org/simple, https://us-python.pkg.dev/colab-wheels/public/simple/\n",
            "Collecting transformers\n",
            "  Downloading transformers-4.26.1-py3-none-any.whl (6.3 MB)\n",
            "\u001b[2K     \u001b[90m━━━━━━━━━━━━━━━━━━━━━━━━━━━━━━━━━━━━━━━━\u001b[0m \u001b[32m6.3/6.3 MB\u001b[0m \u001b[31m40.6 MB/s\u001b[0m eta \u001b[36m0:00:00\u001b[0m\n",
            "\u001b[?25hRequirement already satisfied: regex!=2019.12.17 in /usr/local/lib/python3.8/dist-packages (from transformers) (2022.6.2)\n",
            "Requirement already satisfied: requests in /usr/local/lib/python3.8/dist-packages (from transformers) (2.25.1)\n",
            "Requirement already satisfied: pyyaml>=5.1 in /usr/local/lib/python3.8/dist-packages (from transformers) (6.0)\n",
            "Requirement already satisfied: filelock in /usr/local/lib/python3.8/dist-packages (from transformers) (3.9.0)\n",
            "Collecting huggingface-hub<1.0,>=0.11.0\n",
            "  Downloading huggingface_hub-0.12.1-py3-none-any.whl (190 kB)\n",
            "\u001b[2K     \u001b[90m━━━━━━━━━━━━━━━━━━━━━━━━━━━━━━━━━━━━━━\u001b[0m \u001b[32m190.3/190.3 KB\u001b[0m \u001b[31m22.2 MB/s\u001b[0m eta \u001b[36m0:00:00\u001b[0m\n",
            "\u001b[?25hRequirement already satisfied: tqdm>=4.27 in /usr/local/lib/python3.8/dist-packages (from transformers) (4.64.1)\n",
            "Collecting tokenizers!=0.11.3,<0.14,>=0.11.1\n",
            "  Downloading tokenizers-0.13.2-cp38-cp38-manylinux_2_17_x86_64.manylinux2014_x86_64.whl (7.6 MB)\n",
            "\u001b[2K     \u001b[90m━━━━━━━━━━━━━━━━━━━━━━━━━━━━━━━━━━━━━━━━\u001b[0m \u001b[32m7.6/7.6 MB\u001b[0m \u001b[31m54.3 MB/s\u001b[0m eta \u001b[36m0:00:00\u001b[0m\n",
            "\u001b[?25hRequirement already satisfied: numpy>=1.17 in /usr/local/lib/python3.8/dist-packages (from transformers) (1.22.4)\n",
            "Requirement already satisfied: packaging>=20.0 in /usr/local/lib/python3.8/dist-packages (from transformers) (23.0)\n",
            "Requirement already satisfied: typing-extensions>=3.7.4.3 in /usr/local/lib/python3.8/dist-packages (from huggingface-hub<1.0,>=0.11.0->transformers) (4.5.0)\n",
            "Requirement already satisfied: chardet<5,>=3.0.2 in /usr/local/lib/python3.8/dist-packages (from requests->transformers) (4.0.0)\n",
            "Requirement already satisfied: urllib3<1.27,>=1.21.1 in /usr/local/lib/python3.8/dist-packages (from requests->transformers) (1.24.3)\n",
            "Requirement already satisfied: certifi>=2017.4.17 in /usr/local/lib/python3.8/dist-packages (from requests->transformers) (2022.12.7)\n",
            "Requirement already satisfied: idna<3,>=2.5 in /usr/local/lib/python3.8/dist-packages (from requests->transformers) (2.10)\n",
            "Installing collected packages: tokenizers, huggingface-hub, transformers\n",
            "Successfully installed huggingface-hub-0.12.1 tokenizers-0.13.2 transformers-4.26.1\n"
          ]
        }
      ]
    },
    {
      "cell_type": "code",
      "execution_count": 9,
      "metadata": {
        "id": "bygpZ-hQ-sGv"
      },
      "outputs": [],
      "source": [
        "import torch\n",
        "from transformers import BertTokenizer, BertForMaskedLM"
      ]
    },
    {
      "cell_type": "code",
      "source": [
        "# Load pre-trained BERT model and tokenizer\n",
        "model = BertForMaskedLM.from_pretrained('bert-base-uncased')\n",
        "tokenizer = BertTokenizer.from_pretrained('bert-base-uncased')"
      ],
      "metadata": {
        "colab": {
          "base_uri": "https://localhost:8080/"
        },
        "id": "bsiq5KH8_IZs",
        "outputId": "1bc612c0-8bb0-4c54-e4ca-a9cc55c44091"
      },
      "execution_count": 10,
      "outputs": [
        {
          "output_type": "stream",
          "name": "stderr",
          "text": [
            "Some weights of the model checkpoint at bert-base-uncased were not used when initializing BertForMaskedLM: ['cls.seq_relationship.weight', 'cls.seq_relationship.bias']\n",
            "- This IS expected if you are initializing BertForMaskedLM from the checkpoint of a model trained on another task or with another architecture (e.g. initializing a BertForSequenceClassification model from a BertForPreTraining model).\n",
            "- This IS NOT expected if you are initializing BertForMaskedLM from the checkpoint of a model that you expect to be exactly identical (initializing a BertForSequenceClassification model from a BertForSequenceClassification model).\n"
          ]
        }
      ]
    },
    {
      "cell_type": "code",
      "source": [
        "# Prepare input text\n",
        "input_text = \"\"\"\n",
        "Russian President Vladimir Putin has signed a decree to honor the American actor Steven Seagal with the state Order of Friendship.The decree cited what it called Seagal’s “great contribution to the development of international cultural and humanitarian cooperation.”\n",
        "A culture of silence has descended on Russia since it invaded Ukraine one year ago. But some Russians are tuning out from Putin's propaganda machine.\n",
        "Seagal has been a regular visitor to Russia and became a citizen of the country in 2016, when he received a Russian passport from Vladimir Putin personally. He has also worked as the Russian Foreign Ministry’s “special representative” to the United States and Japan.\n",
        "The former action hero backed Russia’s illegal annexation of Crimea and has supported its invasion of Ukraine. He visited the occupied Donbas area last summer.\n",
        "In an interview on Russian television last year he spoke of an existential threat to Russia from Ukraine.\"\"\"\n",
        "\n",
        "# Tokenize input text\n",
        "input_ids = tokenizer.encode(input_text, add_special_tokens=True, return_tensors='pt')"
      ],
      "metadata": {
        "id": "5mK3EELN_JuZ"
      },
      "execution_count": 14,
      "outputs": []
    },
    {
      "cell_type": "code",
      "source": [
        "# Generate summary\n",
        "summary_ids = model.generate(input_ids, num_beams=4, max_length=200, early_stopping=True)\n",
        "summary = tokenizer.decode(summary_ids[0], skip_special_tokens=True)"
      ],
      "metadata": {
        "id": "vY7TtlMG_LVG"
      },
      "execution_count": 16,
      "outputs": []
    },
    {
      "cell_type": "code",
      "source": [
        "# Print summary\n",
        "print(\"Input text:\", input_text)\n",
        "print(\"Summary:\", summary)"
      ],
      "metadata": {
        "colab": {
          "base_uri": "https://localhost:8080/"
        },
        "id": "snEoyocB_U7D",
        "outputId": "75b2a53f-bd45-47b8-fcac-558b4b5d945b"
      },
      "execution_count": 17,
      "outputs": [
        {
          "output_type": "stream",
          "name": "stdout",
          "text": [
            "Input text: \n",
            "Russian President Vladimir Putin has signed a decree to honor the American actor Steven Seagal with the state Order of Friendship.The decree cited what it called Seagal’s “great contribution to the development of international cultural and humanitarian cooperation.”\n",
            "A culture of silence has descended on Russia since it invaded Ukraine one year ago. But some Russians are tuning out from Putin's propaganda machine.\n",
            "Seagal has been a regular visitor to Russia and became a citizen of the country in 2016, when he received a Russian passport from Vladimir Putin personally. He has also worked as the Russian Foreign Ministry’s “special representative” to the United States and Japan.\n",
            "The former action hero backed Russia’s illegal annexation of Crimea and has supported its invasion of Ukraine. He visited the occupied Donbas area last summer.\n",
            "In an interview on Russian television last year he spoke of an existential threat to Russia from Ukraine.\n",
            "Summary: russian president vladimir putin has signed a decree to honor the american actor steven seagal with the state order of friendship. the decree cited what it called seagal ’ s “ great contribution to the development of international cultural and humanitarian cooperation. ” a culture of silence has descended on russia since it invaded ukraine one year ago. but some russians are tuning out from putin's propaganda machine. seagal has been a regular visitor to russia and became a citizen of the country in 2016, when he received a russian passport from vladimir putin personally. he has also worked as the russian foreign ministry ’ s “ special representative ” to the united states and japan. the former action hero backed russia ’ s illegal annexation of crimea and has supported its invasion of ukraine. he visited the occupied donbas area last summer. in an interview on russian television last year he spoke of an existential threat to russia from ukraine. steven mentioned his \" very own and very own and very very dangerous \" to... the russian\n"
          ]
        }
      ]
    }
  ]
}